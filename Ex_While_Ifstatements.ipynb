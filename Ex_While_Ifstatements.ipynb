{
 "cells": [
  {
   "cell_type": "code",
   "execution_count": null,
   "metadata": {
    "colab": {},
    "colab_type": "code",
    "id": "nVwiuJ8Ie_8N"
   },
   "outputs": [],
   "source": [
    "# write a basic calculator instruction for a user and present a menu with options to add, subt,\n",
    "# modulus, multiply, divide two numbers.\n",
    "# prompt and ask users what operation they wanna do. Selection must be within the presented menu.\n",
    "# display the result (don't forget) if they select zero for denominator in division"
   ]
  },
  {
   "cell_type": "code",
   "execution_count": null,
   "metadata": {
    "colab": {},
    "colab_type": "code",
    "id": "OVY7KVG1e_8c"
   },
   "outputs": [],
   "source": [
    "from __future__ import division"
   ]
  },
  {
   "cell_type": "code",
   "execution_count": 2,
   "metadata": {
    "colab": {},
    "colab_type": "code",
    "id": "JMzpCHO5e_8o",
    "outputId": "bec420a6-52b3-4f97-b9d7-0e09905e6637"
   },
   "outputs": [
    {
     "name": "stdout",
     "output_type": "stream",
     "text": [
      " Our Simple Calculator Menu\n",
      "\n",
      "0. Choose zero to quit\n",
      "1. Choose one to add \n",
      "2. Choose two to subtract\n",
      "3. Choose three to multiply\n",
      "4. Choose four to divide\n",
      "5. Choose five to calculate modulous\n",
      "\n",
      "\n",
      "please make a choice from the menu above: 1\n",
      "Enter your first number now: 3\n",
      "Enter your second number now: 7\n",
      "The result of your operation is: 10\n",
      " Our Simple Calculator Menu\n",
      "\n",
      "0. Choose zero to quit\n",
      "1. Choose one to add \n",
      "2. Choose two to subtract\n",
      "3. Choose three to multiply\n",
      "4. Choose four to divide\n",
      "5. Choose five to calculate modulous\n",
      "\n",
      "\n",
      "please make a choice from the menu above: 0\n"
     ]
    }
   ],
   "source": [
    "menu = \"\"\" Our Simple Calculator Menu\n",
    "\n",
    "0. Choose zero to quit\n",
    "1. Choose one to add \n",
    "2. Choose two to subtract\n",
    "3. Choose three to multiply\n",
    "4. Choose four to divide\n",
    "5. Choose five to calculate modulous\n",
    "\n",
    "\"\"\"\n",
    "\n",
    "choice = None\n",
    "\n",
    "while choice != 0:\n",
    "    print (menu)\n",
    "    choice = int(input(\"please make a choice from the menu above: \"))\n",
    "    \n",
    "    if choice not in range(6):\n",
    "        print (\"You've made an invalid choice: {}\".format(choice))\n",
    "        continue\n",
    "        \n",
    "    if choice == 0:\n",
    "        continue\n",
    "        \n",
    "    x = int(input(\"Enter your first number now: \"))\n",
    "    y = int(input(\"Enter your second number now: \"))\n",
    "    \n",
    "    if choice == 1:\n",
    "        result = x + y\n",
    "        \n",
    "    elif choice == 2:\n",
    "        result = x - y\n",
    "        \n",
    "    elif choice == 3:\n",
    "        result = x * y\n",
    "        \n",
    "    elif choice == 4:\n",
    "        if y == 0:\n",
    "            print (\"Error, can't divide a number by zero\")\n",
    "        else:\n",
    "            result = x / y\n",
    "            \n",
    "    elif choice == 5:\n",
    "        if y == 0:\n",
    "            print (\"Error, can't calculate modulous when denominator is zero\")\n",
    "        else:\n",
    "            result = x % y\n",
    "        \n",
    "    print (\"The result of your operation is: {}\".format(result))\n",
    "    "
   ]
  },
  {
   "cell_type": "code",
   "execution_count": null,
   "metadata": {},
   "outputs": [],
   "source": []
  }
 ],
 "metadata": {
  "colab": {
   "collapsed_sections": [],
   "name": "Ex_08_While&Ifstatements.ipynb",
   "provenance": [],
   "toc_visible": true
  },
  "kernelspec": {
   "display_name": "Python 3",
   "language": "python",
   "name": "python3"
  },
  "language_info": {
   "codemirror_mode": {
    "name": "ipython",
    "version": 3
   },
   "file_extension": ".py",
   "mimetype": "text/x-python",
   "name": "python",
   "nbconvert_exporter": "python",
   "pygments_lexer": "ipython3",
   "version": "3.7.4"
  }
 },
 "nbformat": 4,
 "nbformat_minor": 1
}
