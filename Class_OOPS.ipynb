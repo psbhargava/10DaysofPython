{
 "cells": [
  {
   "cell_type": "code",
   "execution_count": null,
   "metadata": {},
   "outputs": [],
   "source": [
    "str, lists, dict, tuples  type()"
   ]
  },
  {
   "cell_type": "code",
   "execution_count": null,
   "metadata": {},
   "outputs": [],
   "source": [
    "string1 = \"str example\""
   ]
  },
  {
   "cell_type": "code",
   "execution_count": null,
   "metadata": {},
   "outputs": [],
   "source": [
    "string1"
   ]
  },
  {
   "cell_type": "code",
   "execution_count": null,
   "metadata": {},
   "outputs": [],
   "source": [
    "type(string1)"
   ]
  },
  {
   "cell_type": "code",
   "execution_count": null,
   "metadata": {},
   "outputs": [],
   "source": [
    "type(23)"
   ]
  },
  {
   "cell_type": "code",
   "execution_count": null,
   "metadata": {},
   "outputs": [],
   "source": [
    "lst = [3,4,5, 'a','c']"
   ]
  },
  {
   "cell_type": "code",
   "execution_count": null,
   "metadata": {},
   "outputs": [],
   "source": [
    "type(lst)"
   ]
  },
  {
   "cell_type": "code",
   "execution_count": null,
   "metadata": {},
   "outputs": [],
   "source": [
    "type(pass_any_object)"
   ]
  },
  {
   "cell_type": "code",
   "execution_count": null,
   "metadata": {},
   "outputs": [],
   "source": [
    "class Class_Name:\n",
    "    def __init__(self, parameter2, param3):\n",
    "        #any code to initialize our object\n",
    "        \n",
    "    def method_name(self):\n",
    "        "
   ]
  },
  {
   "cell_type": "code",
   "execution_count": null,
   "metadata": {},
   "outputs": [],
   "source": [
    "method = is just a fn within a class"
   ]
  },
  {
   "cell_type": "markdown",
   "metadata": {
    "collapsed": true
   },
   "source": [
    "# Creating Classes"
   ]
  },
  {
   "cell_type": "code",
   "execution_count": null,
   "metadata": {},
   "outputs": [],
   "source": [
    "class Person:\n",
    "    \n",
    "    def __init__(self, name, lastname, telephone):\n",
    "        self.name = name\n",
    "        self.lastname = lastname\n",
    "        self.telephone = telephone\n",
    "        \n",
    "x = Person(\"John\", \"Smith\", \"345 656 8849\")"
   ]
  },
  {
   "cell_type": "code",
   "execution_count": null,
   "metadata": {},
   "outputs": [],
   "source": [
    "x"
   ]
  },
  {
   "cell_type": "code",
   "execution_count": null,
   "metadata": {},
   "outputs": [],
   "source": [
    "type(x)"
   ]
  },
  {
   "cell_type": "code",
   "execution_count": null,
   "metadata": {},
   "outputs": [],
   "source": [
    "x.lastname = 'Smith'"
   ]
  },
  {
   "cell_type": "code",
   "execution_count": null,
   "metadata": {},
   "outputs": [],
   "source": [
    "x.telephone"
   ]
  },
  {
   "cell_type": "code",
   "execution_count": null,
   "metadata": {},
   "outputs": [],
   "source": [
    "class Person:\n",
    "    \n",
    "    def __init__(self, name, lastname, telephone = \"445 342 1245\"):\n",
    "        self.name = name\n",
    "        self.lastname = lastname\n",
    "        self.telephone = telephone\n",
    "        \n",
    "y = Person(\"Jane\", \"Smith\", \"345 569 9803\")"
   ]
  },
  {
   "cell_type": "code",
   "execution_count": null,
   "metadata": {},
   "outputs": [],
   "source": [
    "y"
   ]
  },
  {
   "cell_type": "code",
   "execution_count": null,
   "metadata": {},
   "outputs": [],
   "source": [
    "y.name"
   ]
  },
  {
   "cell_type": "code",
   "execution_count": null,
   "metadata": {},
   "outputs": [],
   "source": [
    "y.lastname"
   ]
  },
  {
   "cell_type": "code",
   "execution_count": null,
   "metadata": {},
   "outputs": [],
   "source": [
    "class Person:\n",
    "    \n",
    "    def __init__(self, name, lastname, telephone = \"445 342 1245\"):\n",
    "        self.name = name\n",
    "        self.lastname = lastname\n",
    "        self.telephone = telephone\n",
    "        \n",
    "a = Person(\"Cory\", \"Paul\")"
   ]
  },
  {
   "cell_type": "code",
   "execution_count": null,
   "metadata": {},
   "outputs": [],
   "source": [
    "a.name"
   ]
  },
  {
   "cell_type": "code",
   "execution_count": null,
   "metadata": {},
   "outputs": [],
   "source": [
    "a.telephone"
   ]
  },
  {
   "cell_type": "code",
   "execution_count": null,
   "metadata": {},
   "outputs": [],
   "source": [
    "a.name = \"John\""
   ]
  },
  {
   "cell_type": "code",
   "execution_count": null,
   "metadata": {},
   "outputs": [],
   "source": [
    "a.name"
   ]
  },
  {
   "cell_type": "code",
   "execution_count": null,
   "metadata": {},
   "outputs": [],
   "source": [
    "class Person:\n",
    "    \n",
    "    def __init__(self, lastname, name = \"Harry\", telephone = \"445 342 1245\"):\n",
    "        self.name = name\n",
    "        self.lastname = lastname\n",
    "        self.telephone = telephone\n",
    "        \n",
    "a = Person(\"Cory\")\n",
    "b = Person(\"Paul\", \"Tim\", \"435 533 4456\")"
   ]
  },
  {
   "cell_type": "code",
   "execution_count": null,
   "metadata": {},
   "outputs": [],
   "source": [
    "a"
   ]
  },
  {
   "cell_type": "code",
   "execution_count": null,
   "metadata": {},
   "outputs": [],
   "source": [
    "a.telephone"
   ]
  },
  {
   "cell_type": "code",
   "execution_count": null,
   "metadata": {},
   "outputs": [],
   "source": [
    "b.lastname"
   ]
  },
  {
   "cell_type": "code",
   "execution_count": null,
   "metadata": {},
   "outputs": [],
   "source": [
    "b.name"
   ]
  },
  {
   "cell_type": "code",
   "execution_count": null,
   "metadata": {},
   "outputs": [],
   "source": [
    "class Person:\n",
    "    \n",
    "    address = \"New York\" # class variables\n",
    "    city = \"NY City\"\n",
    "    \n",
    "    def __init__(self, lastname, name = \"Harry\", telephone = \"445 342 1245\"):\n",
    "        self.name = name\n",
    "        self.lastname = lastname\n",
    "        self.telephone = telephone\n",
    "        \n",
    "c = Person(\"Newman\")"
   ]
  },
  {
   "cell_type": "code",
   "execution_count": null,
   "metadata": {},
   "outputs": [],
   "source": [
    "c."
   ]
  },
  {
   "cell_type": "code",
   "execution_count": null,
   "metadata": {},
   "outputs": [],
   "source": [
    "c.address = \"New Jersey\""
   ]
  },
  {
   "cell_type": "code",
   "execution_count": null,
   "metadata": {},
   "outputs": [],
   "source": [
    "c.address"
   ]
  },
  {
   "cell_type": "markdown",
   "metadata": {
    "collapsed": true
   },
   "source": [
    "# Methods"
   ]
  },
  {
   "cell_type": "code",
   "execution_count": null,
   "metadata": {},
   "outputs": [],
   "source": [
    "class Person:\n",
    "    \n",
    "    address = \"New York\"\n",
    "    \n",
    "    def __init__(self, lastname, name = \"Harry\", telephone = \"445 342 1245\"):\n",
    "        self.name = name\n",
    "        self.lastname = lastname\n",
    "        self.telephone = telephone\n",
    "        \n",
    "    def greet_person(self):\n",
    "        print (\"Hello and welcome \" + self.name + \" \" + self.lastname)\n",
    "        \n",
    "        \n",
    "a = Person(\"Smith\")"
   ]
  },
  {
   "cell_type": "code",
   "execution_count": null,
   "metadata": {},
   "outputs": [],
   "source": [
    "type(a)"
   ]
  },
  {
   "cell_type": "code",
   "execution_count": null,
   "metadata": {},
   "outputs": [],
   "source": [
    "a"
   ]
  },
  {
   "cell_type": "code",
   "execution_count": null,
   "metadata": {},
   "outputs": [],
   "source": [
    "a.lastname"
   ]
  },
  {
   "cell_type": "code",
   "execution_count": null,
   "metadata": {},
   "outputs": [],
   "source": [
    "class Person:\n",
    "    \n",
    "    address = \"New York\"\n",
    "    \n",
    "    def __init__(self, lastname, name = \"Harry\", telephone = \"445 342 1245\"):\n",
    "        self.name = name\n",
    "        self.lastname = lastname\n",
    "        self.telephone = telephone\n",
    "        \n",
    "    def greet_person(self):\n",
    "        print (\"Hello and welcome \" + self.name + \" \" + self.lastname)\n",
    "        \n",
    "    def ask_person(self):\n",
    "        print (\"are you from \" + Person.address + \" \" + self.name + \" ?\")\n",
    "        \n",
    "xx = Person(\"Smith\")"
   ]
  },
  {
   "cell_type": "code",
   "execution_count": null,
   "metadata": {},
   "outputs": [],
   "source": [
    "xx.greet_person"
   ]
  },
  {
   "cell_type": "code",
   "execution_count": null,
   "metadata": {},
   "outputs": [],
   "source": [
    "xx.greet_person()"
   ]
  },
  {
   "cell_type": "code",
   "execution_count": null,
   "metadata": {},
   "outputs": [],
   "source": [
    "xx.ask_person()"
   ]
  },
  {
   "cell_type": "markdown",
   "metadata": {
    "collapsed": true
   },
   "source": [
    "# Class attributes"
   ]
  },
  {
   "cell_type": "code",
   "execution_count": null,
   "metadata": {},
   "outputs": [],
   "source": [
    "class Person:\n",
    "    \n",
    "    MAJORS = (\"Engineering\", \"Law\", \"IT\", \"Psychology\")\n",
    "    \n",
    "    def __init__(self, major, name, lastname):\n",
    "        \n",
    "        if major not in self.MAJORS:\n",
    "            raise ValueError (\"{} is not a valid major\".format(major)) \n",
    "        \n",
    "        self.major = major\n",
    "        self.name = name\n",
    "        self.lastname = lastname\n",
    "        \n",
    "    def person_major(self):\n",
    "        print (\"The major of \" + self.name + \" \" + self.lastname + \" is \" + self.major)\n",
    "        \n",
    "jimmy = Person(\"Engineering\", \"Jimmy\", \"Newman\")"
   ]
  },
  {
   "cell_type": "code",
   "execution_count": null,
   "metadata": {},
   "outputs": [],
   "source": [
    "jimmy.person_major()"
   ]
  },
  {
   "cell_type": "code",
   "execution_count": null,
   "metadata": {},
   "outputs": [],
   "source": [
    "jimmy.lastname"
   ]
  },
  {
   "cell_type": "code",
   "execution_count": null,
   "metadata": {},
   "outputs": [],
   "source": [
    "jimmy.major"
   ]
  },
  {
   "cell_type": "code",
   "execution_count": null,
   "metadata": {},
   "outputs": [],
   "source": [
    "class Person:\n",
    "    \"\"\" this is a doc string ok\"\"\"\n",
    "    sports = []\n",
    "    \n",
    "    def __init__(self):\n",
    "        \"\"\"create a list of sports here\"\"\"\n",
    "        self.sports = []\n",
    "        \n",
    "    def add_sport(self, sport):\n",
    "        \"\"\"add a list of sports to your list\"\"\"\n",
    "        self.sports.append(sport)\n",
    "        print (\"the following sport has been added to our sports list: \" + sport)\n",
    "\n",
    "x = Person()\n",
    "x.__doc__"
   ]
  },
  {
   "cell_type": "code",
   "execution_count": null,
   "metadata": {},
   "outputs": [],
   "source": [
    "x.sports"
   ]
  },
  {
   "cell_type": "code",
   "execution_count": null,
   "metadata": {},
   "outputs": [],
   "source": [
    "x.add_sport(\"basket ball\")"
   ]
  },
  {
   "cell_type": "code",
   "execution_count": null,
   "metadata": {},
   "outputs": [],
   "source": [
    "x.sports"
   ]
  },
  {
   "cell_type": "code",
   "execution_count": null,
   "metadata": {},
   "outputs": [],
   "source": [
    "class Person:\n",
    "    \n",
    "    sports = []\n",
    "    \n",
    "    def __init__(self):\n",
    "        self.sports = []\n",
    "        \n",
    "    def add_sport(self, sport):\n",
    "        self.sports.append(sport)\n",
    "        print (\"the following sport has been added to our sports list: \" + sport)\n",
    "        \n",
    "    def sport_list(self):\n",
    "        print (\"here is a list of all the sports in our list \" + str(self.sports))\n",
    "        \n",
    "x = Person()"
   ]
  },
  {
   "cell_type": "code",
   "execution_count": null,
   "metadata": {},
   "outputs": [],
   "source": [
    "x.sports"
   ]
  },
  {
   "cell_type": "code",
   "execution_count": null,
   "metadata": {},
   "outputs": [],
   "source": [
    "x.sport_list()"
   ]
  },
  {
   "cell_type": "markdown",
   "metadata": {},
   "source": [
    "# doc strings"
   ]
  },
  {
   "cell_type": "code",
   "execution_count": null,
   "metadata": {},
   "outputs": [],
   "source": [
    " -- gives us info \"\"\"doc strings \"\"\" ''' doc strings '''"
   ]
  },
  {
   "cell_type": "code",
   "execution_count": null,
   "metadata": {},
   "outputs": [],
   "source": [
    "class Person:\n",
    "    \"\"\"class to represent a person\n",
    "    Attributes:\n",
    "        name - first name of the person\n",
    "        lastname - last name of the person\n",
    "        telephone - telephone of the person\n",
    "    \"\"\"\n",
    "    \n",
    "    def __init__(self, name, lastname, telephone = \"445 342 1245\"):\n",
    "        \"\"\"The person init method\n",
    "        Params:\n",
    "            name - initializes our name attr\n",
    "            lastname - initializes our last name attr\n",
    "            telephone - initializes our telephone\n",
    "                        default value is 445 342 1245\n",
    "        \"\"\"\n",
    "        self.name = name\n",
    "        self.lastname = lastname\n",
    "        self.telephone = telephone"
   ]
  },
  {
   "cell_type": "code",
   "execution_count": null,
   "metadata": {},
   "outputs": [],
   "source": [
    "help(Person)"
   ]
  },
  {
   "cell_type": "code",
   "execution_count": null,
   "metadata": {},
   "outputs": [],
   "source": [
    "class Person:\n",
    "    \"\"\"class to represent a person\"\"\"\n",
    "    \n",
    "    address = \"New York\"\n",
    "    \n",
    "    def __init__(self, lastname, name = \"Harry\", telephone = \"445 342 1245\"):\n",
    "        \"\"\"Person init method\"\"\"\n",
    "        self.name = name\n",
    "        self.lastname = lastname\n",
    "        self.telephone = telephone\n",
    "        \n",
    "    def greet_person(self):\n",
    "        \"\"\"Method to greet a person\"\"\"\n",
    "        print (\"Hello and welcome \" + self.name + \" \" + self.lastname)\n",
    "        \n",
    "    def ask_person(self):\n",
    "        \"\"\"method to ask persons where abouts\"\"\"\n",
    "        print (\"are you from \" + Person.address + \" \" + self.name + \" ?\")"
   ]
  },
  {
   "cell_type": "code",
   "execution_count": null,
   "metadata": {},
   "outputs": [],
   "source": [
    "help(Person)"
   ]
  },
  {
   "cell_type": "markdown",
   "metadata": {},
   "source": [
    "# Inheritance and Method Overriding"
   ]
  },
  {
   "cell_type": "code",
   "execution_count": null,
   "metadata": {},
   "outputs": [],
   "source": [
    "class Parent:\n",
    "    method1: print \"hi\"\n",
    "    method2\n",
    "    method3\n",
    "    \n",
    "class Child(Parent):\n",
    "    method4\n",
    "    method5\n",
    "    method1: print \"hi there\"\n"
   ]
  },
  {
   "cell_type": "code",
   "execution_count": null,
   "metadata": {},
   "outputs": [],
   "source": [
    "class House:\n",
    "    \"\"\"This is our House parent class\"\"\"\n",
    "    def __init__(self):\n",
    "        print (\"This is a house\")\n",
    "    \n",
    "    def color(self):\n",
    "        print (\"I am red!\")\n",
    "        \n",
    "    def size(self):\n",
    "        print (\"I am 3500 sq ft\")\n",
    "        \n",
    "    def location(self):\n",
    "        print (\"I am in NY\")\n",
    "        \n",
    "    def kind(self):\n",
    "        print (\"I am a town house\")\n",
    "        \n",
    "#==================================================\n",
    "    \n",
    "    \n",
    "class Kitchen(House):\n",
    "    \"\"\"Kitchen class and inherits from House class\"\"\"\n",
    "    def __init__(self):\n",
    "        House.__init__(self)\n",
    "        print (\"I am a kitchen\")\n",
    "        \n",
    "    def color(self):\n",
    "        print (\"I am cream in color\")\n",
    "        \n",
    "    def oven(self):\n",
    "        print (\"I make food!\")\n",
    "        \n",
    "    def size(self):\n",
    "        print (\"I am no longer 3500 sq ft\")\n",
    "        print (\"I am now 800 sq ft\")"
   ]
  },
  {
   "cell_type": "code",
   "execution_count": null,
   "metadata": {},
   "outputs": [],
   "source": [
    "x = Kitchen()"
   ]
  },
  {
   "cell_type": "code",
   "execution_count": null,
   "metadata": {},
   "outputs": [],
   "source": [
    "x.oven()"
   ]
  },
  {
   "cell_type": "code",
   "execution_count": null,
   "metadata": {},
   "outputs": [],
   "source": [
    "x.color()"
   ]
  },
  {
   "cell_type": "code",
   "execution_count": null,
   "metadata": {},
   "outputs": [],
   "source": [
    "x.kind()"
   ]
  },
  {
   "cell_type": "code",
   "execution_count": null,
   "metadata": {},
   "outputs": [],
   "source": [
    "x.location()"
   ]
  },
  {
   "cell_type": "code",
   "execution_count": null,
   "metadata": {},
   "outputs": [],
   "source": [
    "x.size()"
   ]
  },
  {
   "cell_type": "code",
   "execution_count": null,
   "metadata": {},
   "outputs": [],
   "source": [
    "class Rational:\n",
    "    \n",
    "    def __init__(self, num, den):\n",
    "        self.numerator = num\n",
    "        if den != 0:\n",
    "            self.denominator = den\n",
    "        else:\n",
    "            print (\"there was an error with your calculation\")\n",
    "            from sys import exit\n",
    "            exit()\n",
    "       \n",
    "    def get_numerator(self):\n",
    "        return self.numerator\n",
    "    \n",
    "    def get_denominator(self):\n",
    "        return self.denominator\n",
    "    \n",
    "    def set_numerator(self, n):\n",
    "        self.numerator = n\n",
    "        \n",
    "    def set_denominator(self, d):\n",
    "        if d != 0:\n",
    "            self.denominator = d\n",
    "        else:\n",
    "            print \"error, can't be zero\"\n",
    "            from sys import exit\n",
    "            exit()\n",
    "\n",
    "    def __str__(self):\n",
    "        return str(self.get_numerator()) + \"/\" + str(self.get_denominator())\n",
    "    \n",
    "def main():\n",
    "    fract1 = Rational(1,4)\n",
    "    fract2 = Rational(2,3)\n",
    "    print fract1\n",
    "    print fract2\n",
    "    fract1.set_numerator(3)\n",
    "    fract1.set_denominator(4)\n",
    "    print fract1\n",
    "    fract3 = Rational(4,9)\n",
    "    print fract3\n",
    "    print fract3.get_denominator()\n",
    "    \n",
    "main()"
   ]
  },
  {
   "cell_type": "code",
   "execution_count": null,
   "metadata": {},
   "outputs": [],
   "source": [
    "class BankAccount:\n",
    "    \n",
    "    def __init__(self, number, name, balance):\n",
    "        self.account_number = number\n",
    "        #self.ssn = ssn\n",
    "        self.name = name\n",
    "        self.balance = balance\n",
    "        self.min_balance = 500\n",
    "        self.active = True\n",
    "        \n",
    "    def deposit(self, amount):\n",
    "        \n",
    "        if self.is_active():\n",
    "            self.balance += amount\n",
    "            return True\n",
    "        else:\n",
    "            print (\"will need to go to a nearest branch ...\")\n",
    "            return False\n",
    "    \n",
    "    def withdraw(self, amount):\n",
    "        \n",
    "        result = False\n",
    "        \n",
    "        if self.is_active() and self.balance - amount >= self.min_balance:\n",
    "            self.balance -= amount\n",
    "            result = True\n",
    "        else:\n",
    "            print( \"you will need a min balance of 500 to remain in yr acct\")\n",
    "            \n",
    "        return result\n",
    "        \n",
    "    \n",
    "    def set_active(self, act):\n",
    "        self.active = act\n",
    "        \n",
    "    def is_active(self):\n",
    "        if self.balance > 0:\n",
    "            return self.active\n",
    "        return False"
   ]
  },
  {
   "cell_type": "code",
   "execution_count": null,
   "metadata": {},
   "outputs": [],
   "source": [
    "acct = BankAccount(23333, \"Jane\", 200)"
   ]
  },
  {
   "cell_type": "code",
   "execution_count": null,
   "metadata": {},
   "outputs": [],
   "source": [
    "acct.set_active(\"False\")"
   ]
  },
  {
   "cell_type": "code",
   "execution_count": null,
   "metadata": {},
   "outputs": [],
   "source": [
    "acct.deposit(200)"
   ]
  },
  {
   "cell_type": "code",
   "execution_count": null,
   "metadata": {},
   "outputs": [],
   "source": [
    "acct.balance"
   ]
  },
  {
   "cell_type": "code",
   "execution_count": null,
   "metadata": {},
   "outputs": [],
   "source": [
    "acct.withdraw(2600)"
   ]
  },
  {
   "cell_type": "code",
   "execution_count": null,
   "metadata": {},
   "outputs": [],
   "source": [
    "acct.is_active()"
   ]
  },
  {
   "cell_type": "code",
   "execution_count": null,
   "metadata": {},
   "outputs": [],
   "source": [
    "acct.name"
   ]
  }
 ],
 "metadata": {
  "kernelspec": {
   "display_name": "Python 3",
   "language": "python",
   "name": "python3"
  },
  "language_info": {
   "codemirror_mode": {
    "name": "ipython",
    "version": 3
   },
   "file_extension": ".py",
   "mimetype": "text/x-python",
   "name": "python",
   "nbconvert_exporter": "python",
   "pygments_lexer": "ipython3",
   "version": "3.7.4"
  }
 },
 "nbformat": 4,
 "nbformat_minor": 1
}
