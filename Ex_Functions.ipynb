{
 "cells": [
  {
   "cell_type": "code",
   "execution_count": null,
   "metadata": {
    "colab": {},
    "colab_type": "code",
    "id": "nJAPckw0bh66"
   },
   "outputs": [],
   "source": [
    "# define a function that accepts two parameters lower and upper\n",
    "# the parameters lower and upper are int and must be lower first then upper\n",
    "# prompt the user to enter integers between the parameters lower and upper\n",
    "# if user doesn't enter int between the lower and upper params, prompt to enter int again\n",
    "# finally return the appropriate int entered"
   ]
  },
  {
   "cell_type": "code",
   "execution_count": 3,
   "metadata": {
    "colab": {},
    "colab_type": "code",
    "id": "twZR2JWnbh7H"
   },
   "outputs": [],
   "source": [
    "def display_integer(lower, upper):\n",
    "    if lower > upper:\n",
    "        lower, upper = upper, lower\n",
    "        \n",
    "    int_input = int(input(\"Enter an integer within the range \" + str(lower) + \" and \" + str(upper) + \" : \"))\n",
    "        \n",
    "    while int_input < lower or int_input > upper:\n",
    "                    print (int_input, \"isn't between\", lower, \" and \", upper)\n",
    "                    int_input = int(input(\"Enter an approriate int: \"))\n",
    "                \n",
    "    return int_input"
   ]
  },
  {
   "cell_type": "code",
   "execution_count": 4,
   "metadata": {
    "colab": {},
    "colab_type": "code",
    "id": "wA-tCVAUbh7T",
    "outputId": "2f089d06-39c8-46c5-f7f6-7495d65d1531"
   },
   "outputs": [
    {
     "name": "stdout",
     "output_type": "stream",
     "text": [
      "Enter an integer within the range 5 and 16 : 7\n"
     ]
    },
    {
     "data": {
      "text/plain": [
       "7"
      ]
     },
     "execution_count": 4,
     "metadata": {},
     "output_type": "execute_result"
    }
   ],
   "source": [
    "display_integer(5, 16)"
   ]
  },
  {
   "cell_type": "code",
   "execution_count": null,
   "metadata": {
    "colab": {},
    "colab_type": "code",
    "id": "liRE_Sukbh7d",
    "outputId": "0e947448-77b8-46ed-fe86-cf9250aa7319"
   },
   "outputs": [
    {
     "name": "stdout",
     "output_type": "stream",
     "text": [
      "Before the execution of the display_integer function between 5 and 16\n",
      "Enter an integer within the range 5 and 16 : 78\n",
      "78 isn't between 5  and  16\n",
      "Enter an approriate int: 4\n",
      "4 isn't between 5  and  16\n",
      "Enter an approriate int: 7\n",
      "The execution of the display_integer function between 5 and 16 is completed..\n",
      "------------------------------------------------------------------------\n",
      "Before the execution of the display_integer function between 7 and 30\n"
     ]
    }
   ],
   "source": [
    "def display_integer(lower, upper):\n",
    "    if lower > upper:\n",
    "        lower, upper = upper, lower\n",
    "        \n",
    "    int_input = int(input(\"Enter an integer within the range \" + str(lower) + \" and \" + str(upper) + \" : \"))\n",
    "        \n",
    "    while int_input < lower or int_input > upper:\n",
    "                    print (int_input, \"isn't between\", lower, \" and \", upper)\n",
    "                    int_input = int(input(\"Enter an approriate int: \"))\n",
    "                \n",
    "    return int_input\n",
    "\n",
    "def main():\n",
    "    print (\"Before the execution of the display_integer function between 5 and 16\")\n",
    "    display_integer(5, 16)\n",
    "    print (\"The execution of the display_integer function between 5 and 16 is completed..\")\n",
    "    print (\"----\" * 18)\n",
    "    \n",
    "    print (\"Before the execution of the display_integer function between 7 and 30\")\n",
    "    display_integer(30, 7)\n",
    "    print (\"The execution of the display_integer function between 7 and 30 is completed..\")\n",
    "    print (\"----\" * 18)\n",
    "    \n",
    "    print (\"Before the execution of the display_integer function between -15 and 25\")\n",
    "    display_integer(-15, 25)\n",
    "    print (\"The execution of the display_integer function between -15 and 25 is completed..\")\n",
    "    print (\"----\" * 18)\n",
    "    \n",
    "    \n",
    "main()"
   ]
  },
  {
   "cell_type": "code",
   "execution_count": null,
   "metadata": {},
   "outputs": [],
   "source": []
  }
 ],
 "metadata": {
  "colab": {
   "collapsed_sections": [],
   "name": "Ex_06_Functions.ipynb",
   "provenance": []
  },
  "kernelspec": {
   "display_name": "Python 3",
   "language": "python",
   "name": "python3"
  },
  "language_info": {
   "codemirror_mode": {
    "name": "ipython",
    "version": 3
   },
   "file_extension": ".py",
   "mimetype": "text/x-python",
   "name": "python",
   "nbconvert_exporter": "python",
   "pygments_lexer": "ipython3",
   "version": "3.7.4"
  }
 },
 "nbformat": 4,
 "nbformat_minor": 1
}
