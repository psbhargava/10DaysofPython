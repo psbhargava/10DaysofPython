{
 "cells": [
  {
   "cell_type": "markdown",
   "metadata": {
    "colab_type": "text",
    "id": "TGshp3nJTOBi"
   },
   "source": [
    "#### Simple Conditions and blocks"
   ]
  },
  {
   "cell_type": "code",
   "execution_count": null,
   "metadata": {
    "colab": {},
    "colab_type": "code",
    "id": "4Wyz-IUXTdps"
   },
   "outputs": [],
   "source": [
    "attendancePercentage = 70\n",
    "# In the code below the two print statements are one block. \n",
    "# They are indented by 4-spaces to convey that\n",
    "if attendancePercentage < 75:\n",
    "    print(\"Attendance requirement for Merit certificate not met\")\n",
    "    print(\"Partcipation Certificate only\")"
   ]
  },
  {
   "cell_type": "code",
   "execution_count": null,
   "metadata": {
    "colab": {},
    "colab_type": "code",
    "id": "eiofx0fDTiLa"
   },
   "outputs": [],
   "source": [
    "attendancePercentage = 80\n",
    "# In the code below the two print statements are one block. \n",
    "# They are indented by 4-spaces to convey that\n",
    "if attendancePercentage < 75:\n",
    "    print(\"Attendance requirement for Merit certificate not met\")\n",
    "    print(\"Partcipation Certificate only\")"
   ]
  },
  {
   "cell_type": "markdown",
   "metadata": {
    "colab_type": "text",
    "id": "Emr6kqok1XNy"
   },
   "source": [
    "As you can see there is no output if the condition is not met"
   ]
  },
  {
   "cell_type": "markdown",
   "metadata": {
    "colab_type": "text",
    "id": "EtNcuPAETN46"
   },
   "source": [
    "#### Else Statement"
   ]
  },
  {
   "cell_type": "code",
   "execution_count": null,
   "metadata": {
    "colab": {},
    "colab_type": "code",
    "id": "OyfbCbhxTvYa"
   },
   "outputs": [],
   "source": [
    "attendancePercentage = 80\n",
    "\n",
    "if attendancePercentage < 75:\n",
    "    print(\"Attendance requirement for Merit certificate not met\")\n",
    "    print(\"Partcipation Certificate only\")\n",
    "else:\n",
    "    print(\"Attendance requirement for Merit certificate met\")\n",
    "    print(\"Verify grades\")"
   ]
  },
  {
   "cell_type": "markdown",
   "metadata": {
    "colab_type": "text",
    "id": "WVIq0Gc-TN1W"
   },
   "source": [
    "#### Else if ladder"
   ]
  },
  {
   "cell_type": "code",
   "execution_count": null,
   "metadata": {
    "colab": {},
    "colab_type": "code",
    "id": "DJU1Gs8GT2vy"
   },
   "outputs": [],
   "source": [
    "attendancePercentage = 80\n",
    "gradePoints = 320\n",
    "\n",
    "if attendancePercentage < 75:\n",
    "    print(\"Attendance requirement for Merit certificate not met\")\n",
    "    print(\"Participation Certificate only\")\n",
    "elif gradePoints < 300:\n",
    "    print(\"Attendance requirement for Merit certificate met\")\n",
    "    print(\"But insufficient grade\")\n",
    "    print(\"Participation Certificate only\")\n",
    "else:\n",
    "    print(\"Attendance requirement for Merit certificate met\")\n",
    "    print(\"Grade Requirement for Merit Certificate met\")"
   ]
  },
  {
   "cell_type": "markdown",
   "metadata": {
    "colab_type": "text",
    "id": "F1I7Tqw-hFqO"
   },
   "source": [
    "#### Combining conditions\n",
    "We can combine conditions using **and**, **or** and **not** operators"
   ]
  },
  {
   "cell_type": "code",
   "execution_count": null,
   "metadata": {
    "colab": {},
    "colab_type": "code",
    "id": "7Q8SaGDP1XOY"
   },
   "outputs": [],
   "source": [
    "attendancePercentage = 80\n",
    "gradePoints = 320\n",
    "if attendancePercentage >= 75 and gradePoints >= 300:\n",
    "    print(\"Attendance and grade requirement for Merit certificate met\")\n",
    "else: \n",
    "    print(\"Either attendance of grade (or both) insufficient\")\n",
    "    print(\"Participation certificate only\")"
   ]
  },
  {
   "cell_type": "markdown",
   "metadata": {
    "colab_type": "text",
    "id": "CifE3XpO1XOf"
   },
   "source": [
    "#### More on blocks\n",
    "* blocks start below a line ending in :\n",
    "* all lines in a block are indented (by 4 spaces)\n",
    "* Nested blocks --> nested indenting\n",
    "* End of block --> unindent\n"
   ]
  },
  {
   "cell_type": "code",
   "execution_count": null,
   "metadata": {
    "colab": {},
    "colab_type": "code",
    "id": "ojFY-NQH1XOh"
   },
   "outputs": [],
   "source": [
    "mark = 76\n",
    "if mark < 40:\n",
    "    status = \"Fail\"\n",
    "    letterGrade = \"F\"\n",
    "else:\n",
    "    status = \"Pass\"\n",
    "    if mark < 50:\n",
    "        letterGrade = \"D\"\n",
    "    elif mark < 60:\n",
    "        letterGrade = \"C\"\n",
    "    elif mark < 75:\n",
    "        letterGrade = \"B\"\n",
    "    elif mark < 90:\n",
    "        letterGrade = \"A\"\n",
    "    else:\n",
    "        letterGrade = \"A+\""
   ]
  },
  {
   "cell_type": "code",
   "execution_count": null,
   "metadata": {},
   "outputs": [],
   "source": [
    "print(letterGrade)"
   ]
  },
  {
   "cell_type": "markdown",
   "metadata": {
    "colab_type": "text",
    "id": "Xl2hkOusOxL5"
   },
   "source": [
    "## Difference"
   ]
  },
  {
   "cell_type": "code",
   "execution_count": null,
   "metadata": {
    "colab": {
     "base_uri": "https://localhost:8080/",
     "height": 72
    },
    "colab_type": "code",
    "executionInfo": {
     "elapsed": 6639,
     "status": "ok",
     "timestamp": 1582011448382,
     "user": {
      "displayName": "Bhargava PS",
      "photoUrl": "https://lh3.googleusercontent.com/a-/AAuE7mAZuQixI0oA-425Y0zTulWum7t-y1FUh9nPYlWW6w=s64",
      "userId": "00506351467246390238"
     },
     "user_tz": -330
    },
    "id": "01xP_GXCOreM",
    "outputId": "6bfc5e9a-5c35-4398-fb75-38397f6aee48"
   },
   "outputs": [],
   "source": [
    "x = int(input(\"Enter x value :  \\b\"))\n",
    "y = int(input(\"enter y value :  \\b\"))\n",
    "\n",
    "if x>y:\n",
    "    diff = x-y\n",
    "    print(diff)\n",
    "elif y>x:\n",
    "    diff = y-x\n",
    "    print(diff)\n",
    "else:\n",
    "    diff = 0\n",
    "    print(diff)"
   ]
  }
 ],
 "metadata": {
  "colab": {
   "collapsed_sections": [],
   "name": "Conditions.ipynb",
   "provenance": [],
   "toc_visible": true
  },
  "kernelspec": {
   "display_name": "Python 3",
   "language": "python",
   "name": "python3"
  },
  "language_info": {
   "codemirror_mode": {
    "name": "ipython",
    "version": 3
   },
   "file_extension": ".py",
   "mimetype": "text/x-python",
   "name": "python",
   "nbconvert_exporter": "python",
   "pygments_lexer": "ipython3",
   "version": "3.7.4"
  }
 },
 "nbformat": 4,
 "nbformat_minor": 1
}
