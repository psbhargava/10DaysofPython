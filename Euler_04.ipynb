{
 "cells": [
  {
   "cell_type": "markdown",
   "metadata": {
    "colab_type": "text",
    "id": "N_UTJHYYFtNE"
   },
   "source": [
    "# Euler 4\n",
    "A palindromic number reads the same both ways. The largest palindrome made from the product of two 2-digit numbers is 9009 = 91 × 99.\n",
    "\n",
    "Find the largest palindrome made from the product of two 3-digit numbers."
   ]
  },
  {
   "cell_type": "code",
   "execution_count": 1,
   "metadata": {
    "colab": {},
    "colab_type": "code",
    "id": "9zUlmbW0FtNH"
   },
   "outputs": [],
   "source": [
    "def reverse(n):\n",
    "    r = 0\n",
    "    while n > 0:\n",
    "        r = r * 10 + n % 10\n",
    "        n //= 10\n",
    "    return r"
   ]
  },
  {
   "cell_type": "code",
   "execution_count": 2,
   "metadata": {
    "colab": {},
    "colab_type": "code",
    "id": "Sszgx_sUFtNP"
   },
   "outputs": [
    {
     "data": {
      "text/plain": [
       "6781"
      ]
     },
     "execution_count": 2,
     "metadata": {},
     "output_type": "execute_result"
    }
   ],
   "source": [
    "reverse(1876)"
   ]
  },
  {
   "cell_type": "code",
   "execution_count": 3,
   "metadata": {
    "colab": {},
    "colab_type": "code",
    "id": "f3Yy4goNFtNV"
   },
   "outputs": [],
   "source": [
    "def isPalindrome(n):\n",
    "    return n == reverse(n)"
   ]
  },
  {
   "cell_type": "code",
   "execution_count": 4,
   "metadata": {
    "colab": {},
    "colab_type": "code",
    "id": "fV7pTTypqpGq"
   },
   "outputs": [],
   "source": [
    "# Using strings\n",
    "def isPalindrOme(n):\n",
    "    s = str(n)\n",
    "    return s == s[::-1]"
   ]
  },
  {
   "cell_type": "code",
   "execution_count": 5,
   "metadata": {
    "colab": {},
    "colab_type": "code",
    "id": "QR0qpaFuFtNZ"
   },
   "outputs": [
    {
     "data": {
      "text/plain": [
       "(False, True)"
      ]
     },
     "execution_count": 5,
     "metadata": {},
     "output_type": "execute_result"
    }
   ],
   "source": [
    "isPalindrome(17), isPalindrome(121)"
   ]
  },
  {
   "cell_type": "code",
   "execution_count": 0,
   "metadata": {
    "colab": {},
    "colab_type": "code",
    "id": "tB_AHFmxFtNk"
   },
   "outputs": [],
   "source": [
    "largest = 0\n",
    "for first in range(100, 1000):\n",
    "    for second in range(100, 1000):\n",
    "        prod = first * second\n",
    "        if largest < prod:\n",
    "            if isPalindrome(prod):\n",
    "                largest = prod\n",
    "print(largest)"
   ]
  },
  {
   "cell_type": "code",
   "execution_count": 0,
   "metadata": {
    "colab": {},
    "colab_type": "code",
    "id": "O5w4xGmOFtNq"
   },
   "outputs": [],
   "source": [
    "### Doing one optimization\n",
    "largest = 0\n",
    "for first in range(100, 1000):\n",
    "    for second in range(first, 1000):\n",
    "        prod = first * second\n",
    "        if largest < prod:\n",
    "            if isPalindrome(prod):\n",
    "                largest = prod\n",
    "print(largest)"
   ]
  }
 ],
 "metadata": {
  "colab": {
   "collapsed_sections": [],
   "name": "M0_Python_Euler_04.ipynb",
   "provenance": []
  },
  "kernelspec": {
   "display_name": "Python 3",
   "language": "python",
   "name": "python3"
  },
  "language_info": {
   "codemirror_mode": {
    "name": "ipython",
    "version": 3
   },
   "file_extension": ".py",
   "mimetype": "text/x-python",
   "name": "python",
   "nbconvert_exporter": "python",
   "pygments_lexer": "ipython3",
   "version": "3.7.4"
  }
 },
 "nbformat": 4,
 "nbformat_minor": 1
}
