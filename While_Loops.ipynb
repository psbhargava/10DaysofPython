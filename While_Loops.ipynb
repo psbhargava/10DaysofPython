{
 "cells": [
  {
   "cell_type": "code",
   "execution_count": 4,
   "metadata": {
    "colab": {},
    "colab_type": "code",
    "id": "HsELk4BneUjB",
    "outputId": "bb096202-d177-489a-86d1-0d723d8f04d0"
   },
   "outputs": [
    {
     "name": "stdout",
     "output_type": "stream",
     "text": [
      "0\n",
      "1\n",
      "2\n",
      "3\n",
      "4\n",
      "5\n"
     ]
    }
   ],
   "source": [
    "x = 0\n",
    "\n",
    "while x < 6:\n",
    "    print (x)\n",
    "    x += 1 # x = x + 1 # infinite loop"
   ]
  },
  {
   "cell_type": "code",
   "execution_count": 5,
   "metadata": {
    "colab": {},
    "colab_type": "code",
    "id": "UOe9NuoceUjN",
    "outputId": "fd0ad4a4-e784-44c6-d734-b72135e89c20"
   },
   "outputs": [
    {
     "name": "stdout",
     "output_type": "stream",
     "text": [
      "x is 0\n",
      "x is 1\n",
      "x is 2\n",
      "x is 3\n",
      "x is 4\n",
      "x is 5\n",
      "x is 6\n",
      "x is 7\n"
     ]
    }
   ],
   "source": [
    "x = 0\n",
    "\n",
    "while x < 8:\n",
    "    print( \"x is {}\".format(x))\n",
    "    x += 1"
   ]
  },
  {
   "cell_type": "code",
   "execution_count": 6,
   "metadata": {
    "colab": {},
    "colab_type": "code",
    "id": "ZV8N73ACeUja",
    "outputId": "fdefed27-53dc-47fe-d310-07e1e62922c8"
   },
   "outputs": [
    {
     "name": "stdout",
     "output_type": "stream",
     "text": [
      "x is 0\n",
      "x is 1\n",
      "x is 2\n",
      "x is 3\n",
      "x is 4\n",
      "x is 5\n",
      "x is 6\n",
      "x is 7\n",
      "x is no longer < 8\n"
     ]
    }
   ],
   "source": [
    "x = 0 \n",
    "\n",
    "while x < 8:\n",
    "    print (\"x is {}\".format(x))\n",
    "    x += 1\n",
    "else:\n",
    "    print (\"x is no longer < 8\")"
   ]
  },
  {
   "cell_type": "code",
   "execution_count": 7,
   "metadata": {
    "colab": {},
    "colab_type": "code",
    "id": "CZEn6JBAeUjk",
    "outputId": "c13027b8-95d4-4f58-ea08-a3cf3c818169"
   },
   "outputs": [
    {
     "name": "stdout",
     "output_type": "stream",
     "text": [
      "x is 8\n",
      "x is 7\n",
      "x is 6\n",
      "x is 5\n",
      "x is 4\n",
      "x is 3\n",
      "x is 2\n"
     ]
    }
   ],
   "source": [
    "x = 8\n",
    "\n",
    "while x > 1:\n",
    "    print (\"x is {}\".format(x))\n",
    "    x -= 1"
   ]
  },
  {
   "cell_type": "code",
   "execution_count": 8,
   "metadata": {
    "colab": {},
    "colab_type": "code",
    "id": "8lcGomNxeUjs",
    "outputId": "3be3273a-b1a9-4892-ea8f-5cefb6611935"
   },
   "outputs": [
    {
     "name": "stdout",
     "output_type": "stream",
     "text": [
      "x is 8\n",
      "x is 7\n",
      "x is 6\n",
      "x is 5\n",
      "x is 4\n",
      "x is 3\n",
      "x is 2\n",
      "x is no longer greater than 1\n"
     ]
    }
   ],
   "source": [
    "x = 8\n",
    "\n",
    "while x > 1:\n",
    "    print (\"x is {}\".format(x))\n",
    "    x -= 1\n",
    "else:\n",
    "    print (\"x is no longer greater than 1\")"
   ]
  },
  {
   "cell_type": "code",
   "execution_count": null,
   "metadata": {
    "colab": {},
    "colab_type": "code",
    "id": "YhDADZ3leUjz"
   },
   "outputs": [],
   "source": [
    "# break and continue"
   ]
  },
  {
   "cell_type": "code",
   "execution_count": 11,
   "metadata": {
    "colab": {},
    "colab_type": "code",
    "id": "Co7DY3saeUj5",
    "outputId": "a91052a9-9d8f-47de-b170-9e6596efaa52"
   },
   "outputs": [
    {
     "name": "stdout",
     "output_type": "stream",
     "text": [
      "Choose a menu: none\n",
      "I am not hungry\n"
     ]
    }
   ],
   "source": [
    "menu = ['yogurt', 'salad', 'chicken', 'fruits', 'beef']\n",
    "\n",
    "chosen_menu = ''\n",
    "\n",
    "while chosen_menu not in menu:\n",
    "    chosen_menu = input('Choose a menu: ')\n",
    "    if chosen_menu == 'none':\n",
    "        print (\"I am not hungry\")\n",
    "        break\n",
    "        \n",
    "else:\n",
    "    print (\"I can't wait till {} is served\".format(chosen_menu))"
   ]
  },
  {
   "cell_type": "code",
   "execution_count": 12,
   "metadata": {
    "colab": {},
    "colab_type": "code",
    "id": "9Os1IO9XeUj-",
    "outputId": "93eeb7b0-d69c-450f-abc4-06845bbe4c77"
   },
   "outputs": [
    {
     "name": "stdout",
     "output_type": "stream",
     "text": [
      "x is 5\n",
      "x is 6\n",
      "x is 7\n",
      "x is 8\n",
      "x is 9\n",
      "x is still less than 12\n",
      "x is 10\n",
      "x is 11\n",
      "x is no longer less than 12\n"
     ]
    }
   ],
   "source": [
    "x = 5\n",
    "\n",
    "while x < 12:\n",
    "    print (\"x is {}\".format(x))\n",
    "    x += 1\n",
    "    if x == 10:\n",
    "        print (\"x is still less than 12\")\n",
    "        continue\n",
    "else:\n",
    "    print (\"x is no longer less than 12\")\n",
    "            "
   ]
  },
  {
   "cell_type": "code",
   "execution_count": 13,
   "metadata": {
    "colab": {},
    "colab_type": "code",
    "id": "3cJESXq_eUkF",
    "outputId": "a56ffae4-e68f-4277-afba-b91136d71a5c"
   },
   "outputs": [
    {
     "name": "stdout",
     "output_type": "stream",
     "text": [
      "x is 5\n",
      "x is 6\n",
      "x is 7\n",
      "x is 8\n",
      "x is 9\n",
      "x is still less than 12 but exiting the loop either ways\n"
     ]
    }
   ],
   "source": [
    "x = 5\n",
    "\n",
    "while x < 12:\n",
    "    print (\"x is {}\".format(x))\n",
    "    x += 1\n",
    "    if x == 10:\n",
    "        print (\"x is still less than 12 but exiting the loop either ways\")\n",
    "        break\n",
    "else:\n",
    "    print (\"x is no longer less than 12\")"
   ]
  },
  {
   "cell_type": "code",
   "execution_count": 15,
   "metadata": {
    "colab": {},
    "colab_type": "code",
    "id": "KQiGoHWUeUkR",
    "outputId": "b7bcff0e-0179-4ed7-98f0-c0f0cf2380e4"
   },
   "outputs": [
    {
     "name": "stdout",
     "output_type": "stream",
     "text": [
      "what would you like to have?: carb\n",
      "we don't have: carb\n",
      "what would you like to have?: yogurt\n",
      "mineral\n",
      "what would you like to have?: none\n"
     ]
    }
   ],
   "source": [
    "menu = {'salad': 'vitamin', 'potato': 'carb', 'chicken': 'protein', 'yogurt': 'mineral'}\n",
    "\n",
    "while True:\n",
    "    \n",
    "    menu_choice = input(\"what would you like to have?: \")\n",
    "    \n",
    "    if menu_choice == 'none':\n",
    "        break\n",
    "    \n",
    "    if menu_choice in menu:\n",
    "        food = menu.get(menu_choice)\n",
    "        print (food)\n",
    "    \n",
    "    else: \n",
    "        print (\"we don't have: \" + menu_choice)"
   ]
  },
  {
   "cell_type": "code",
   "execution_count": 16,
   "metadata": {
    "colab": {},
    "colab_type": "code",
    "id": "TZ3RVfCdeUkZ",
    "outputId": "9f2f4e19-831e-4175-8a27-f3ed48267987"
   },
   "outputs": [
    {
     "name": "stdout",
     "output_type": "stream",
     "text": [
      "please bring me potato\n",
      "please bring me beef\n",
      "please bring me chicken\n"
     ]
    }
   ],
   "source": [
    "menu = ['potato', 'beef', 'chicken', 'salad', 'yogurt', 'cheese']\n",
    "\n",
    "for food in menu:\n",
    "    if food == 'salad':\n",
    "        break\n",
    "    print (\"please bring me \" + food)"
   ]
  },
  {
   "cell_type": "code",
   "execution_count": null,
   "metadata": {
    "colab": {},
    "colab_type": "code",
    "id": "RE-0oAjYeUkh",
    "outputId": "ea241d78-2cf4-4af4-b2a1-e2eff6841a69"
   },
   "outputs": [],
   "source": [
    "menu = ['potato', 'beef', 'chicken', 'salad', 'yogurt', 'cheese']\n",
    "\n",
    "for food in menu:\n",
    "    if food == 'salad':\n",
    "        continue\n",
    "    print \"please bring me \" + food"
   ]
  },
  {
   "cell_type": "markdown",
   "metadata": {
    "colab_type": "text",
    "id": "N7PySQ_3eUkr"
   },
   "source": [
    "# Infinite Loops"
   ]
  },
  {
   "cell_type": "code",
   "execution_count": null,
   "metadata": {
    "colab": {},
    "colab_type": "code",
    "id": "1oACyUIPeUkt"
   },
   "outputs": [],
   "source": [
    "# condition always true"
   ]
  },
  {
   "cell_type": "code",
   "execution_count": 17,
   "metadata": {
    "colab": {},
    "colab_type": "code",
    "id": "KpP2hvg3eUky",
    "outputId": "1c45c47f-4ca7-4f68-8aac-29d685641ae7"
   },
   "outputs": [
    {
     "name": "stdout",
     "output_type": "stream",
     "text": [
      "my lucky number is 5\n"
     ]
    }
   ],
   "source": [
    "x = 5\n",
    "\n",
    "while x == 5:\n",
    "    \n",
    "    print (\"my lucky number is {}\".format(x))\n",
    "    x += 1"
   ]
  },
  {
   "cell_type": "code",
   "execution_count": 18,
   "metadata": {
    "colab": {},
    "colab_type": "code",
    "id": "tkD0OItqeUk2",
    "outputId": "de72d565-b5e5-48ed-ac76-07849b230de1"
   },
   "outputs": [
    {
     "name": "stdout",
     "output_type": "stream",
     "text": [
      "x is 7\n",
      "x is 6\n",
      "x is 5\n",
      "x is 4\n",
      "x is 3\n"
     ]
    }
   ],
   "source": [
    "x = 7\n",
    "\n",
    "while x > 2:\n",
    "    print (\"x is {}\".format(x))\n",
    "    x -= 1"
   ]
  },
  {
   "cell_type": "code",
   "execution_count": 19,
   "metadata": {
    "colab": {},
    "colab_type": "code",
    "id": "0aTTIP-DeUk7",
    "outputId": "a8be57ca-229d-46ba-d307-b76bc81c5cc7"
   },
   "outputs": [
    {
     "name": "stdout",
     "output_type": "stream",
     "text": [
      "x is 7\n",
      "x is 6\n",
      "x is 5\n",
      "x is 4\n",
      "x is 3\n",
      "x is no longer > 2\n"
     ]
    }
   ],
   "source": [
    "x = 7\n",
    "\n",
    "while x > 2:\n",
    "    print (\"x is {}\".format(x))\n",
    "    x -= 1\n",
    "    \n",
    "else:\n",
    "    print (\"x is no longer > 2\")"
   ]
  },
  {
   "cell_type": "code",
   "execution_count": null,
   "metadata": {},
   "outputs": [],
   "source": []
  }
 ],
 "metadata": {
  "colab": {
   "collapsed_sections": [],
   "name": "While_Loops.ipynb",
   "provenance": [],
   "toc_visible": true
  },
  "kernelspec": {
   "display_name": "Python 3",
   "language": "python",
   "name": "python3"
  },
  "language_info": {
   "codemirror_mode": {
    "name": "ipython",
    "version": 3
   },
   "file_extension": ".py",
   "mimetype": "text/x-python",
   "name": "python",
   "nbconvert_exporter": "python",
   "pygments_lexer": "ipython3",
   "version": "3.7.4"
  }
 },
 "nbformat": 4,
 "nbformat_minor": 1
}
