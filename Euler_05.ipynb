{
 "cells": [
  {
   "cell_type": "markdown",
   "metadata": {
    "colab_type": "text",
    "id": "BB4Ex4uRFtWG"
   },
   "source": [
    "# Euler 5\n",
    "2520 is the smallest number that can be divided by each of the numbers from 1 to 10 without any remainder.\n",
    "\n",
    "What is the smallest positive number that is evenly divisible by all of the numbers from 1 to 20?"
   ]
  },
  {
   "cell_type": "code",
   "execution_count": 0,
   "metadata": {
    "colab": {},
    "colab_type": "code",
    "id": "ZSb0CvMlFtWH"
   },
   "outputs": [],
   "source": [
    "## Brute force\n",
    "## One of the WORST ideas \n",
    "## WILL take quite a bit of time\n",
    "def divisible_11to20(n):\n",
    "    for i in range(11,21):\n",
    "        if n % i != 0:\n",
    "            return False\n",
    "    return True\n",
    "\n",
    "START = 2520 ## Given in problem; so answer must be > START\n",
    "\n",
    "p = START\n",
    "while not divisible_11to20(p):\n",
    "    p += 1\n",
    "print(p)"
   ]
  },
  {
   "cell_type": "code",
   "execution_count": 0,
   "metadata": {
    "colab": {},
    "colab_type": "code",
    "id": "8LalyxdrFtWN"
   },
   "outputs": [],
   "source": [
    "## Recognise we are looking for lcm\n",
    "def lcm2(a, b):\n",
    "    import math\n",
    "    return a * b // math.gcd(a, b)"
   ]
  },
  {
   "cell_type": "code",
   "execution_count": 0,
   "metadata": {
    "colab": {},
    "colab_type": "code",
    "id": "tiPMhPAYFtWU"
   },
   "outputs": [],
   "source": [
    "lcm2(11, 10)"
   ]
  },
  {
   "cell_type": "code",
   "execution_count": 0,
   "metadata": {
    "colab": {},
    "colab_type": "code",
    "id": "gks6cV74FtWb"
   },
   "outputs": [],
   "source": [
    "lcm2(26, 65)"
   ]
  },
  {
   "cell_type": "code",
   "execution_count": 0,
   "metadata": {
    "colab": {},
    "colab_type": "code",
    "id": "oBvIusJXFtWx"
   },
   "outputs": [],
   "source": [
    "### Loop over 11 to 20 finding the new lcm\n",
    "sofar = 2520\n",
    "for n in range(11, 21):\n",
    "    sofar = lcm2(sofar, n)\n",
    "print(sofar)"
   ]
  },
  {
   "cell_type": "code",
   "execution_count": 0,
   "metadata": {
    "colab": {},
    "colab_type": "code",
    "id": "atbalsXeFtW5"
   },
   "outputs": [],
   "source": [
    "def lcm(many):\n",
    "    '''Finds the lcm of a list of numbers'''\n",
    "    answer = many[0]\n",
    "    for n in many[1:]:\n",
    "        answer = lcm2(answer, n)\n",
    "    return answer"
   ]
  },
  {
   "cell_type": "code",
   "execution_count": 0,
   "metadata": {
    "colab": {},
    "colab_type": "code",
    "id": "ctxyX2f9FtXC"
   },
   "outputs": [],
   "source": [
    "lcm(range(1, 10))"
   ]
  },
  {
   "cell_type": "code",
   "execution_count": 0,
   "metadata": {
    "colab": {},
    "colab_type": "code",
    "id": "lXLWHA4nFtXP"
   },
   "outputs": [],
   "source": [
    "print(lcm2(2520, lcm(range(11, 21))))"
   ]
  },
  {
   "cell_type": "code",
   "execution_count": 0,
   "metadata": {
    "colab": {},
    "colab_type": "code",
    "id": "ZX_JXGNBFtXX"
   },
   "outputs": [],
   "source": [
    "### Recursive lcm\n",
    "def lcmr(many):\n",
    "    if len(many) == 1:\n",
    "        return many[0]\n",
    "    if len(many) == 2:\n",
    "        return lcm2(many[0], many[1])\n",
    "    return lcm2(lcm2(many[0], many[1]), lcmr(many[2:]))"
   ]
  },
  {
   "cell_type": "code",
   "execution_count": 0,
   "metadata": {
    "colab": {},
    "colab_type": "code",
    "id": "UQzNoLwUFtXc"
   },
   "outputs": [],
   "source": [
    "lcmr(range(1, 10))"
   ]
  },
  {
   "cell_type": "code",
   "execution_count": 0,
   "metadata": {
    "colab": {},
    "colab_type": "code",
    "id": "QXRZWgipFtXj"
   },
   "outputs": [],
   "source": [
    "print(lcmr(range(1, 21)))"
   ]
  },
  {
   "cell_type": "code",
   "execution_count": 0,
   "metadata": {
    "colab": {},
    "colab_type": "code",
    "id": "KpwEFDbdFtXn"
   },
   "outputs": [],
   "source": [
    "### ADVANCED\n",
    "### functional lcm :: Using reduce\n",
    "from functools import reduce\n",
    "def lcmf(many):\n",
    "    return reduce(lcm2, many)"
   ]
  },
  {
   "cell_type": "code",
   "execution_count": 0,
   "metadata": {
    "colab": {},
    "colab_type": "code",
    "id": "g_oQkvFKFtXq"
   },
   "outputs": [],
   "source": [
    "lcmf(range(1, 10))"
   ]
  },
  {
   "cell_type": "code",
   "execution_count": 0,
   "metadata": {
    "colab": {},
    "colab_type": "code",
    "id": "GEJuGjAOFtXu"
   },
   "outputs": [],
   "source": [
    "data = [2520] + list(range(11, 21))"
   ]
  },
  {
   "cell_type": "code",
   "execution_count": 0,
   "metadata": {
    "colab": {},
    "colab_type": "code",
    "id": "kJJI-f7nFtX0"
   },
   "outputs": [],
   "source": [
    "lcmf(data)"
   ]
  }
 ],
 "metadata": {
  "colab": {
   "collapsed_sections": [],
   "name": "M0_Python_Euler_05.ipynb",
   "provenance": []
  },
  "kernelspec": {
   "display_name": "Python 3",
   "language": "python",
   "name": "python3"
  },
  "language_info": {
   "codemirror_mode": {
    "name": "ipython",
    "version": 3
   },
   "file_extension": ".py",
   "mimetype": "text/x-python",
   "name": "python",
   "nbconvert_exporter": "python",
   "pygments_lexer": "ipython3",
   "version": "3.7.4"
  }
 },
 "nbformat": 4,
 "nbformat_minor": 1
}
