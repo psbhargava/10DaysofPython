{
 "cells": [
  {
   "cell_type": "code",
   "execution_count": null,
   "metadata": {
    "colab": {},
    "colab_type": "code",
    "id": "OFvXlTShbgbu"
   },
   "outputs": [],
   "source": [
    "# gp of organized codes with a name and can be called using (). Reusable!"
   ]
  },
  {
   "cell_type": "code",
   "execution_count": null,
   "metadata": {
    "colab": {},
    "colab_type": "code",
    "id": "h7wkPp5EbgcD"
   },
   "outputs": [],
   "source": [
    "def fn_name(arguments_parameters):\n",
    "    \"body of our fn code goes here\""
   ]
  },
  {
   "cell_type": "code",
   "execution_count": 1,
   "metadata": {
    "colab": {},
    "colab_type": "code",
    "id": "Zz4fS28dbgcO"
   },
   "outputs": [],
   "source": [
    "def fn_name():\n",
    "    print(\"body of our fn\")"
   ]
  },
  {
   "cell_type": "code",
   "execution_count": 2,
   "metadata": {
    "colab": {},
    "colab_type": "code",
    "id": "-rOip9bIbgcW",
    "outputId": "3102f588-addd-4454-aad4-04fe52391662"
   },
   "outputs": [
    {
     "name": "stdout",
     "output_type": "stream",
     "text": [
      "body of our fn\n"
     ]
    }
   ],
   "source": [
    "fn_name()"
   ]
  },
  {
   "cell_type": "code",
   "execution_count": 3,
   "metadata": {
    "colab": {},
    "colab_type": "code",
    "id": "DMHHAwP1bgci",
    "outputId": "b8878833-d7e0-4349-e706-675c2f7f5ea1"
   },
   "outputs": [
    {
     "name": "stdout",
     "output_type": "stream",
     "text": [
      "body goes here\n"
     ]
    }
   ],
   "source": [
    "def fn_name(x):\n",
    "    print(\"body goes here\")\n",
    "    \n",
    "fn_name(4)"
   ]
  },
  {
   "cell_type": "code",
   "execution_count": 4,
   "metadata": {
    "colab": {},
    "colab_type": "code",
    "id": "E_DKK3DVbgcs",
    "outputId": "e144a04c-9516-4411-a551-9e77f008a8c0"
   },
   "outputs": [
    {
     "name": "stdout",
     "output_type": "stream",
     "text": [
      "body goes here\n"
     ]
    }
   ],
   "source": [
    "fn_name(8)"
   ]
  },
  {
   "cell_type": "code",
   "execution_count": 5,
   "metadata": {
    "colab": {},
    "colab_type": "code",
    "id": "G43sBUifbgc1",
    "outputId": "5d9843f9-1eb1-410e-ed30-b130a2213a14"
   },
   "outputs": [
    {
     "name": "stdout",
     "output_type": "stream",
     "text": [
      "body goes here\n"
     ]
    }
   ],
   "source": [
    "fn_name('a')"
   ]
  },
  {
   "cell_type": "code",
   "execution_count": 6,
   "metadata": {
    "colab": {},
    "colab_type": "code",
    "id": "UG167nLTbgc6",
    "outputId": "4b6f5085-b1e3-45fe-8f64-1fa6cd58136b"
   },
   "outputs": [
    {
     "name": "stdout",
     "output_type": "stream",
     "text": [
      "body goes here\n"
     ]
    }
   ],
   "source": [
    "fn_name(\"arg\")"
   ]
  },
  {
   "cell_type": "code",
   "execution_count": 7,
   "metadata": {
    "colab": {},
    "colab_type": "code",
    "id": "eJhyG5kebgdB",
    "outputId": "53c74f3a-1628-4b65-d559-83b2c1219ca7"
   },
   "outputs": [
    {
     "name": "stdout",
     "output_type": "stream",
     "text": [
      "7\n"
     ]
    }
   ],
   "source": [
    "def subtract(x, y):\n",
    "    print (x - y)\n",
    "    \n",
    "subtract(12, 5)"
   ]
  },
  {
   "cell_type": "code",
   "execution_count": 8,
   "metadata": {
    "colab": {},
    "colab_type": "code",
    "id": "C3Si7UuMbgdG",
    "outputId": "ac1195ca-8906-498d-883c-e9d1685dd629"
   },
   "outputs": [
    {
     "name": "stdout",
     "output_type": "stream",
     "text": [
      "-7\n"
     ]
    }
   ],
   "source": [
    "subtract(5, 12)"
   ]
  },
  {
   "cell_type": "code",
   "execution_count": 9,
   "metadata": {
    "colab": {},
    "colab_type": "code",
    "id": "GiIPhsrybgdN",
    "outputId": "758e7db3-c0e2-4a51-a5c9-d4e3d1e42934"
   },
   "outputs": [
    {
     "name": "stdout",
     "output_type": "stream",
     "text": [
      "hello Python\n"
     ]
    }
   ],
   "source": [
    "def greet(x):\n",
    "    print (\"hello \" + x)\n",
    "    \n",
    "greet(\"Python\")"
   ]
  },
  {
   "cell_type": "code",
   "execution_count": null,
   "metadata": {
    "colab": {},
    "colab_type": "code",
    "id": "D6dew9Wbbgdb"
   },
   "outputs": [],
   "source": [
    "# It takes a python object and outputs a printed representation of it in the output."
   ]
  },
  {
   "cell_type": "code",
   "execution_count": null,
   "metadata": {
    "colab": {},
    "colab_type": "code",
    "id": "XWmGVEJVbgdg"
   },
   "outputs": [],
   "source": [
    "# A function that returns a value is producing a value for use by the program,\n",
    "# may be for use in the part of the code where the function was invoked"
   ]
  },
  {
   "cell_type": "markdown",
   "metadata": {
    "colab_type": "text",
    "id": "Fd1EM_tPbgds"
   },
   "source": [
    "# Print vs Return "
   ]
  },
  {
   "cell_type": "code",
   "execution_count": null,
   "metadata": {
    "colab": {},
    "colab_type": "code",
    "id": "mOioVr90bgd4"
   },
   "outputs": [],
   "source": [
    "# A function that returns a value is producing a value for use by the program,\n",
    "# may be for use in the part of the code where the function was invoked.\n",
    "# can be saved in a var, print the result or even use it for other expressions..."
   ]
  },
  {
   "cell_type": "code",
   "execution_count": 10,
   "metadata": {
    "colab": {},
    "colab_type": "code",
    "id": "mtftK0djbgd8",
    "outputId": "16571390-64f0-403a-9f95-8694625d9f21"
   },
   "outputs": [
    {
     "name": "stdout",
     "output_type": "stream",
     "text": [
      "1\n"
     ]
    }
   ],
   "source": [
    "def subtract(x, y):\n",
    "    print (x - y)\n",
    "    \n",
    "a = subtract(4,3)"
   ]
  },
  {
   "cell_type": "code",
   "execution_count": 11,
   "metadata": {
    "colab": {},
    "colab_type": "code",
    "id": "II-xCh7ibgeB",
    "outputId": "5932460d-61a1-4b88-852f-d58f857852aa"
   },
   "outputs": [
    {
     "data": {
      "text/plain": [
       "1"
      ]
     },
     "execution_count": 11,
     "metadata": {},
     "output_type": "execute_result"
    }
   ],
   "source": [
    "def subtract(x, y):\n",
    "    return x - y\n",
    "\n",
    "subtract(4,3)"
   ]
  },
  {
   "cell_type": "code",
   "execution_count": null,
   "metadata": {
    "colab": {},
    "colab_type": "code",
    "id": "3wWnRGbTbgeH"
   },
   "outputs": [],
   "source": [
    "b = subtract(4,3)"
   ]
  },
  {
   "cell_type": "code",
   "execution_count": null,
   "metadata": {
    "colab": {},
    "colab_type": "code",
    "id": "0t2XWB1FbgeR",
    "outputId": "20fd3183-7cf4-4649-ea00-0c26b3641e51"
   },
   "outputs": [],
   "source": [
    "b + 8"
   ]
  },
  {
   "cell_type": "code",
   "execution_count": null,
   "metadata": {
    "colab": {},
    "colab_type": "code",
    "id": "GtqlEflUbgeW",
    "outputId": "4c20df9b-214f-4816-c21b-4a5773b8c17d"
   },
   "outputs": [],
   "source": [
    "b + b"
   ]
  },
  {
   "cell_type": "code",
   "execution_count": 12,
   "metadata": {
    "colab": {},
    "colab_type": "code",
    "id": "-3AZl9T7bgeZ"
   },
   "outputs": [],
   "source": [
    "def greet(x):\n",
    "    print (\"hello\" + x)"
   ]
  },
  {
   "cell_type": "code",
   "execution_count": 13,
   "metadata": {
    "colab": {},
    "colab_type": "code",
    "id": "fHiYle9Hbgee"
   },
   "outputs": [],
   "source": [
    "def greet(x):\n",
    "    return x\n",
    "\n",
    "x = greet(\"Hi there\")"
   ]
  },
  {
   "cell_type": "code",
   "execution_count": 14,
   "metadata": {
    "colab": {},
    "colab_type": "code",
    "id": "YQtdaorTbgek",
    "outputId": "150bc04f-a0a9-4b32-e720-fad392ac7603"
   },
   "outputs": [
    {
     "data": {
      "text/plain": [
       "'Hi there Python'"
      ]
     },
     "execution_count": 14,
     "metadata": {},
     "output_type": "execute_result"
    }
   ],
   "source": [
    "x + \" Python\""
   ]
  },
  {
   "cell_type": "code",
   "execution_count": 15,
   "metadata": {
    "colab": {},
    "colab_type": "code",
    "id": "I99JdhiHbgfA",
    "outputId": "8b4a546c-cf6a-4444-a22e-556fe488526a"
   },
   "outputs": [
    {
     "name": "stdout",
     "output_type": "stream",
     "text": [
      "hello Python\n"
     ]
    }
   ],
   "source": [
    "def greet(x):\n",
    "    print (\"hello\" + x)\n",
    "    \n",
    "greet(\" Python\")"
   ]
  },
  {
   "cell_type": "code",
   "execution_count": 16,
   "metadata": {
    "colab": {},
    "colab_type": "code",
    "id": "1WJod4hfbgfN",
    "outputId": "0a45a8ee-3e73-400f-9733-a9d16da60b11"
   },
   "outputs": [
    {
     "name": "stdout",
     "output_type": "stream",
     "text": [
      "hello Python\n"
     ]
    }
   ],
   "source": [
    "y = greet(\" Python\")"
   ]
  },
  {
   "cell_type": "code",
   "execution_count": null,
   "metadata": {
    "colab": {},
    "colab_type": "code",
    "id": "QQI2kCbqbgfR"
   },
   "outputs": [],
   "source": [
    "y"
   ]
  },
  {
   "cell_type": "code",
   "execution_count": null,
   "metadata": {
    "colab": {},
    "colab_type": "code",
    "id": "kXN-3VxFbgfd"
   },
   "outputs": [],
   "source": [
    "# write a function that prints odd numbers from a given list"
   ]
  },
  {
   "cell_type": "code",
   "execution_count": 17,
   "metadata": {
    "colab": {},
    "colab_type": "code",
    "id": "R-FKJ7dpbgfg",
    "outputId": "2a50aa5a-7c22-4823-9ee6-f6468d684167"
   },
   "outputs": [
    {
     "name": "stdout",
     "output_type": "stream",
     "text": [
      "Here are the odd numbers: \n",
      "1\n",
      "3\n",
      "5\n",
      "7\n",
      "9\n",
      "11\n",
      "13\n"
     ]
    }
   ],
   "source": [
    "def print_odd(x):\n",
    "    for i in range(1, x, 2):\n",
    "        print (i)\n",
    "\n",
    "print (\"Here are the odd numbers: \" )       \n",
    "print_odd(15)"
   ]
  },
  {
   "cell_type": "code",
   "execution_count": 18,
   "metadata": {
    "colab": {},
    "colab_type": "code",
    "id": "b0rVW3h8bgfj",
    "outputId": "cb0d2d08-26da-483f-d24f-2e4b976651e3"
   },
   "outputs": [
    {
     "name": "stdout",
     "output_type": "stream",
     "text": [
      "1\n",
      "3\n",
      "5\n",
      "7\n",
      "9\n",
      "11\n",
      "13\n",
      "15\n",
      "17\n",
      "19\n"
     ]
    }
   ],
   "source": [
    "print_odd(20)"
   ]
  },
  {
   "cell_type": "code",
   "execution_count": 20,
   "metadata": {},
   "outputs": [
    {
     "name": "stdout",
     "output_type": "stream",
     "text": [
      "Here are the even numbers: \n",
      "0\n",
      "2\n",
      "4\n",
      "6\n",
      "8\n",
      "10\n",
      "12\n",
      "14\n"
     ]
    }
   ],
   "source": [
    "def print_odd(x):\n",
    "    for i in range(0, x, 2):\n",
    "        print (i)\n",
    "\n",
    "print (\"Here are the even numbers: \" )       \n",
    "print_odd(15)"
   ]
  },
  {
   "cell_type": "code",
   "execution_count": null,
   "metadata": {
    "colab": {},
    "colab_type": "code",
    "id": "SrS0ysszbgfz"
   },
   "outputs": [],
   "source": [
    "# write a function that prompts a user to enter two integers and add those integers and display the result"
   ]
  },
  {
   "cell_type": "code",
   "execution_count": 21,
   "metadata": {
    "colab": {},
    "colab_type": "code",
    "id": "azxQnXKybgf2"
   },
   "outputs": [],
   "source": [
    "def add():\n",
    "    num = int(input(\"enter an integer: \"))\n",
    "    return num"
   ]
  },
  {
   "cell_type": "code",
   "execution_count": 22,
   "metadata": {
    "colab": {},
    "colab_type": "code",
    "id": "EbVcZRgQbgf4",
    "outputId": "4abdd7c4-df29-4101-ed27-fbe56b4a2d40"
   },
   "outputs": [
    {
     "name": "stdout",
     "output_type": "stream",
     "text": [
      "enter an integer: 6\n"
     ]
    },
    {
     "data": {
      "text/plain": [
       "6"
      ]
     },
     "execution_count": 22,
     "metadata": {},
     "output_type": "execute_result"
    }
   ],
   "source": [
    "add()"
   ]
  },
  {
   "cell_type": "code",
   "execution_count": 23,
   "metadata": {
    "colab": {},
    "colab_type": "code",
    "id": "nbOfYsX9bgf-",
    "outputId": "57a5e806-80e4-4b25-d0ac-520ca22e773b"
   },
   "outputs": [
    {
     "name": "stdout",
     "output_type": "stream",
     "text": [
      "this function will add two integers\n",
      "enter an integer: 5\n",
      "enter an integer: 6\n",
      "The sum of the two integers is: 11\n"
     ]
    }
   ],
   "source": [
    "print (\"this function will add two integers\")\n",
    "\n",
    "first_integer = add()\n",
    "second_integer = add()\n",
    "result = first_integer + second_integer\n",
    "\n",
    "print (\"The sum of the two integers is: \" + str(result))"
   ]
  },
  {
   "cell_type": "markdown",
   "metadata": {
    "colab_type": "text",
    "id": "Fsy1dlXUMxyT"
   },
   "source": [
    "#### def keyword"
   ]
  },
  {
   "cell_type": "code",
   "execution_count": 24,
   "metadata": {
    "colab": {},
    "colab_type": "code",
    "id": "4kDkrW9tMxyU"
   },
   "outputs": [],
   "source": [
    "def square(n):\n",
    "    return n * n"
   ]
  },
  {
   "cell_type": "code",
   "execution_count": 25,
   "metadata": {
    "colab": {},
    "colab_type": "code",
    "id": "nxJxAhs6MxyZ"
   },
   "outputs": [
    {
     "name": "stdout",
     "output_type": "stream",
     "text": [
      "49\n"
     ]
    }
   ],
   "source": [
    "print(square(7))"
   ]
  },
  {
   "cell_type": "code",
   "execution_count": 26,
   "metadata": {
    "colab": {},
    "colab_type": "code",
    "id": "yc_k5_pHMxye"
   },
   "outputs": [
    {
     "name": "stdout",
     "output_type": "stream",
     "text": [
      "50.41\n"
     ]
    }
   ],
   "source": [
    "print(square(7.1))"
   ]
  },
  {
   "cell_type": "code",
   "execution_count": 27,
   "metadata": {
    "colab": {},
    "colab_type": "code",
    "id": "dDFswfdPMxyh"
   },
   "outputs": [
    {
     "name": "stdout",
     "output_type": "stream",
     "text": [
      "(-49+0j)\n"
     ]
    }
   ],
   "source": [
    "print(square(7j))"
   ]
  },
  {
   "cell_type": "markdown",
   "metadata": {
    "colab_type": "text",
    "id": "pShMgyoDMxym"
   },
   "source": [
    "### *Note the absence of type declarations and that the return type is determined by the input type.*"
   ]
  },
  {
   "cell_type": "code",
   "execution_count": 28,
   "metadata": {
    "colab": {},
    "colab_type": "code",
    "id": "Xtg-BdswMxyo"
   },
   "outputs": [
    {
     "ename": "TypeError",
     "evalue": "can't multiply sequence by non-int of type 'str'",
     "output_type": "error",
     "traceback": [
      "\u001b[1;31m---------------------------------------------------------------------------\u001b[0m",
      "\u001b[1;31mTypeError\u001b[0m                                 Traceback (most recent call last)",
      "\u001b[1;32m<ipython-input-28-6957b28a17ef>\u001b[0m in \u001b[0;36m<module>\u001b[1;34m\u001b[0m\n\u001b[1;32m----> 1\u001b[1;33m \u001b[0mprint\u001b[0m\u001b[1;33m(\u001b[0m\u001b[0msquare\u001b[0m\u001b[1;33m(\u001b[0m\u001b[1;34m\"Hello\"\u001b[0m\u001b[1;33m)\u001b[0m\u001b[1;33m)\u001b[0m\u001b[1;33m\u001b[0m\u001b[1;33m\u001b[0m\u001b[0m\n\u001b[0m",
      "\u001b[1;32m<ipython-input-24-41d34acc1492>\u001b[0m in \u001b[0;36msquare\u001b[1;34m(n)\u001b[0m\n\u001b[0;32m      1\u001b[0m \u001b[1;32mdef\u001b[0m \u001b[0msquare\u001b[0m\u001b[1;33m(\u001b[0m\u001b[0mn\u001b[0m\u001b[1;33m)\u001b[0m\u001b[1;33m:\u001b[0m\u001b[1;33m\u001b[0m\u001b[1;33m\u001b[0m\u001b[0m\n\u001b[1;32m----> 2\u001b[1;33m     \u001b[1;32mreturn\u001b[0m \u001b[0mn\u001b[0m \u001b[1;33m*\u001b[0m \u001b[0mn\u001b[0m\u001b[1;33m\u001b[0m\u001b[1;33m\u001b[0m\u001b[0m\n\u001b[0m",
      "\u001b[1;31mTypeError\u001b[0m: can't multiply sequence by non-int of type 'str'"
     ]
    }
   ],
   "source": [
    "print(square(\"Hello\"))"
   ]
  },
  {
   "cell_type": "code",
   "execution_count": 29,
   "metadata": {
    "colab": {},
    "colab_type": "code",
    "id": "K4G4P5DOMxyr"
   },
   "outputs": [],
   "source": [
    "def isPrime(n):\n",
    "    if n in [2, 3, 5, 7]:\n",
    "        return True\n",
    "    if n % 2 == 0:\n",
    "        return False\n",
    "    r = 3\n",
    "    while r * r <= n:\n",
    "        if n % r == 0:\n",
    "            return False\n",
    "        r += 2\n",
    "    return True"
   ]
  },
  {
   "cell_type": "code",
   "execution_count": 32,
   "metadata": {
    "colab": {},
    "colab_type": "code",
    "id": "UyRlFsCcMxyv"
   },
   "outputs": [
    {
     "name": "stdout",
     "output_type": "stream",
     "text": [
      "False True\n"
     ]
    }
   ],
   "source": [
    "print(isPrime(15), isPrime(17))"
   ]
  },
  {
   "cell_type": "code",
   "execution_count": 48,
   "metadata": {},
   "outputs": [
    {
     "name": "stdout",
     "output_type": "stream",
     "text": [
      "<function isPrime at 0x000001D31052A678>\n"
     ]
    }
   ],
   "source": [
    "print(isPrime)"
   ]
  },
  {
   "cell_type": "code",
   "execution_count": 33,
   "metadata": {
    "colab": {},
    "colab_type": "code",
    "id": "wEPv5n0aMxy0"
   },
   "outputs": [],
   "source": [
    "def vowelCount(s):\n",
    "    \"\"\"Counts the number of vowels in s and returns the same\n",
    "    Ignores case of letters\"\"\"\n",
    "    VOWELS = \"aeiouAEIOU\"\n",
    "    vc = 0\n",
    "    for ch in s:\n",
    "        if ch in VOWELS:\n",
    "            vc += 1\n",
    "    return vc"
   ]
  },
  {
   "cell_type": "code",
   "execution_count": 34,
   "metadata": {
    "colab": {},
    "colab_type": "code",
    "id": "0Lh1P9dhMxy4"
   },
   "outputs": [
    {
     "name": "stdout",
     "output_type": "stream",
     "text": [
      "11\n"
     ]
    }
   ],
   "source": [
    "print(vowelCount(\"The quick brown fox jumps over the lazy dog\"))"
   ]
  },
  {
   "cell_type": "code",
   "execution_count": 35,
   "metadata": {
    "colab": {},
    "colab_type": "code",
    "id": "NoQADi-c3ZlQ"
   },
   "outputs": [
    {
     "data": {
      "text/plain": [
       "'Counts the number of vowels in s and returns the same\\n    Ignores case of letters'"
      ]
     },
     "execution_count": 35,
     "metadata": {},
     "output_type": "execute_result"
    }
   ],
   "source": [
    "vowelCount.__doc__"
   ]
  },
  {
   "cell_type": "markdown",
   "metadata": {
    "colab_type": "text",
    "id": "xP8DwUHrMxy9"
   },
   "source": [
    "#### Recursion\n",
    "Recursion is also pretty simple."
   ]
  },
  {
   "cell_type": "code",
   "execution_count": 36,
   "metadata": {
    "colab": {},
    "colab_type": "code",
    "id": "b7Udg0KcMxzA"
   },
   "outputs": [],
   "source": [
    "def isPowerOf2(n):\n",
    "    \"\"\"Checks if a number is a power of 2. \n",
    "    That is, verifies if an integer p exists such that n == 2 ** p\n",
    "    Remember 1 is 2 ** 0    \"\"\"\n",
    "    if n == 1:\n",
    "        return True\n",
    "    if n % 2 == 1:\n",
    "        return False\n",
    "    return isPowerOf2(n // 2)"
   ]
  },
  {
   "cell_type": "code",
   "execution_count": 38,
   "metadata": {},
   "outputs": [
    {
     "data": {
      "text/plain": [
       "True"
      ]
     },
     "execution_count": 38,
     "metadata": {},
     "output_type": "execute_result"
    }
   ],
   "source": [
    "isPowerOf2(4)"
   ]
  },
  {
   "cell_type": "markdown",
   "metadata": {
    "colab_type": "text",
    "id": "ya5hUyEjMxzL"
   },
   "source": [
    "Python functions can return multiple values. The simplest example is the built-in function divmod"
   ]
  },
  {
   "cell_type": "code",
   "execution_count": 40,
   "metadata": {
    "colab": {},
    "colab_type": "code",
    "id": "YezCorddMxzM"
   },
   "outputs": [
    {
     "data": {
      "text/plain": [
       "(3, 2)"
      ]
     },
     "execution_count": 40,
     "metadata": {},
     "output_type": "execute_result"
    }
   ],
   "source": [
    "divmod(17, 5)"
   ]
  },
  {
   "cell_type": "code",
   "execution_count": 39,
   "metadata": {
    "colab": {},
    "colab_type": "code",
    "id": "GvPH358QMxzQ"
   },
   "outputs": [
    {
     "name": "stdout",
     "output_type": "stream",
     "text": [
      "3 2\n"
     ]
    }
   ],
   "source": [
    "quotient, remainder = divmod(17, 5)\n",
    "print(quotient, remainder)"
   ]
  },
  {
   "cell_type": "code",
   "execution_count": 41,
   "metadata": {
    "colab": {},
    "colab_type": "code",
    "id": "MPu8N6x-uOlF"
   },
   "outputs": [
    {
     "name": "stdout",
     "output_type": "stream",
     "text": [
      "3\n",
      "2\n",
      "(3, 2)\n"
     ]
    }
   ],
   "source": [
    "c = divmod(17, 5)\n",
    "print(c[0])\n",
    "print(c[1])\n",
    "print(c)"
   ]
  },
  {
   "cell_type": "code",
   "execution_count": 42,
   "metadata": {
    "colab": {},
    "colab_type": "code",
    "id": "H4loCmNyMxzX"
   },
   "outputs": [],
   "source": [
    "# Our own implementation of divmod\n",
    "# But this is wrong!!!! \n",
    "# Why and what is wrong is left as an exercise to you\n",
    "def quotrem(n, d):\n",
    "    return n // d, n % d"
   ]
  },
  {
   "cell_type": "code",
   "execution_count": 43,
   "metadata": {
    "colab": {},
    "colab_type": "code",
    "id": "-kPct1WyMxze"
   },
   "outputs": [
    {
     "data": {
      "text/plain": [
       "(3, 2)"
      ]
     },
     "execution_count": 43,
     "metadata": {},
     "output_type": "execute_result"
    }
   ],
   "source": [
    "quotrem(17, 5)"
   ]
  },
  {
   "cell_type": "code",
   "execution_count": 44,
   "metadata": {
    "colab": {},
    "colab_type": "code",
    "id": "qE-2r9CfvT8j"
   },
   "outputs": [
    {
     "ename": "ZeroDivisionError",
     "evalue": "integer division or modulo by zero",
     "output_type": "error",
     "traceback": [
      "\u001b[1;31m---------------------------------------------------------------------------\u001b[0m",
      "\u001b[1;31mZeroDivisionError\u001b[0m                         Traceback (most recent call last)",
      "\u001b[1;32m<ipython-input-44-d1756abb4eaa>\u001b[0m in \u001b[0;36m<module>\u001b[1;34m\u001b[0m\n\u001b[1;32m----> 1\u001b[1;33m \u001b[1;36m17\u001b[0m\u001b[1;33m//\u001b[0m\u001b[1;36m0\u001b[0m\u001b[1;33m\u001b[0m\u001b[1;33m\u001b[0m\u001b[0m\n\u001b[0m",
      "\u001b[1;31mZeroDivisionError\u001b[0m: integer division or modulo by zero"
     ]
    }
   ],
   "source": [
    "17//0"
   ]
  },
  {
   "cell_type": "markdown",
   "metadata": {
    "colab_type": "text",
    "id": "VSJIRb9UMxzl"
   },
   "source": [
    "#### Higher Order Functions\n",
    "Python functions are first class objects. They can be assigned to variables, passed to functions as parameters and returned from functions!"
   ]
  },
  {
   "cell_type": "code",
   "execution_count": 45,
   "metadata": {
    "colab": {},
    "colab_type": "code",
    "id": "ItUf3KA_v6p6"
   },
   "outputs": [
    {
     "data": {
      "text/plain": [
       "17"
      ]
     },
     "execution_count": 45,
     "metadata": {},
     "output_type": "execute_result"
    }
   ],
   "source": [
    "fvar = abs\n",
    "fvar(-17)"
   ]
  },
  {
   "cell_type": "code",
   "execution_count": 46,
   "metadata": {
    "colab": {},
    "colab_type": "code",
    "id": "fSldkGZCxEGt"
   },
   "outputs": [
    {
     "data": {
      "text/plain": [
       "tuple"
      ]
     },
     "execution_count": 46,
     "metadata": {},
     "output_type": "execute_result"
    }
   ],
   "source": [
    "c = quotrem(13, 3)\n",
    "type(c)"
   ]
  },
  {
   "cell_type": "code",
   "execution_count": 47,
   "metadata": {
    "colab": {},
    "colab_type": "code",
    "id": "fQ6m5bX1yMW_"
   },
   "outputs": [],
   "source": [
    "quotrem??"
   ]
  },
  {
   "cell_type": "markdown",
   "metadata": {
    "colab_type": "text",
    "collapsed": true,
    "id": "GW5gRsJabgid"
   },
   "source": [
    "# The main( ) function"
   ]
  },
  {
   "cell_type": "code",
   "execution_count": null,
   "metadata": {
    "colab": {},
    "colab_type": "code",
    "id": "rWbad9aPbgie"
   },
   "outputs": [],
   "source": [
    "# we place all of our statements we have not placed within our function definition in\n",
    "# the main function..\n",
    "# at the end, we call the main( ) fn which will inturn call other functions"
   ]
  },
  {
   "cell_type": "code",
   "execution_count": null,
   "metadata": {
    "colab": {},
    "colab_type": "code",
    "id": "zVsEbFybbgih",
    "outputId": "d91f0762-b35a-4c5b-8db6-b1a02a7dac87"
   },
   "outputs": [],
   "source": [
    "def add2(x):\n",
    "    print (\"before the add2 function is called, value of x is: \", x)\n",
    "    x += 2\n",
    "    print (\"after the add2 function is called, value of x is: \", x)\n",
    "    \n",
    "def main():\n",
    "    x = 3\n",
    "    add2(x)\n",
    "    print (\"----\" * 14)\n",
    "    x = 7\n",
    "    add2(x)\n",
    "    print (\"----\" * 14)\n",
    "    x = 22\n",
    "    add2(x)\n",
    "    \n",
    "main()"
   ]
  },
  {
   "cell_type": "code",
   "execution_count": null,
   "metadata": {
    "colab": {},
    "colab_type": "code",
    "id": "TO2Cq1h-bgik",
    "outputId": "43087be2-9156-4ffc-8bbd-b4b802d70320"
   },
   "outputs": [],
   "source": [
    "def add2(x):\n",
    "    print (\"before the add2 function is called, value of x is: \", x)\n",
    "    x += 2\n",
    "    print (\"after the add2 function is called, value of x is: \", x)\n",
    "    \n",
    "def main():\n",
    "    x = 3\n",
    "    print (\"before our add2 fn....\", x)\n",
    "    add2(x)\n",
    "    print (\"after our add2 fn...\", x)\n",
    "\n",
    "    \n",
    "main()"
   ]
  },
  {
   "cell_type": "code",
   "execution_count": null,
   "metadata": {
    "colab": {},
    "colab_type": "code",
    "id": "Bj9L1Epcbgim",
    "outputId": "e7a3a7fc-a5ac-4e17-9fcd-70673fb06b0c"
   },
   "outputs": [],
   "source": [
    "def add2(x):\n",
    "    print (\"before the add2 function is called, value of x is: \", x)\n",
    "    x += 2\n",
    "    print (\"after the add2 function is called, value of x is: \", x)\n",
    "    \n",
    "def main():\n",
    "    x = 3\n",
    "    print (\"before our add2 fn...\", x)\n",
    "    add2(x)\n",
    "    print (\"after our add2 fn...\", x)\n",
    "    print (\"----\" * 14)\n",
    "    x = 7\n",
    "    print (\"before our add2 fn...\", x)\n",
    "    add2(x)\n",
    "    print (\"after our add2 fn...\", x)\n",
    "    print (\"----\" * 14)\n",
    "    x = 22\n",
    "    print (\"before our add2 fn...\", x)\n",
    "    add2(x)\n",
    "    print (\"after our add2 fn...\", x)\n",
    "    print (\"----\" * 14)\n",
    "    \n",
    "main()\n"
   ]
  },
  {
   "cell_type": "code",
   "execution_count": null,
   "metadata": {
    "colab": {},
    "colab_type": "code",
    "id": "wfRu3SQ_bgio",
    "outputId": "b3867d44-66c0-493c-c31c-8178b76a9ee4"
   },
   "outputs": [],
   "source": [
    "print (\"|----------|\")\n",
    "print (\"|*  *   *  |\")\n",
    "print (\"|*  *      |\")\n",
    "print (\"|--------- |\")"
   ]
  },
  {
   "cell_type": "code",
   "execution_count": null,
   "metadata": {},
   "outputs": [],
   "source": []
  }
 ],
 "metadata": {
  "colab": {
   "collapsed_sections": [],
   "name": "Functions_Overview.ipynb",
   "provenance": [],
   "toc_visible": true
  },
  "kernelspec": {
   "display_name": "Python 3",
   "language": "python",
   "name": "python3"
  },
  "language_info": {
   "codemirror_mode": {
    "name": "ipython",
    "version": 3
   },
   "file_extension": ".py",
   "mimetype": "text/x-python",
   "name": "python",
   "nbconvert_exporter": "python",
   "pygments_lexer": "ipython3",
   "version": "3.7.4"
  }
 },
 "nbformat": 4,
 "nbformat_minor": 1
}
