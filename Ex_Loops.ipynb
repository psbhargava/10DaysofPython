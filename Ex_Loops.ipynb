{
 "cells": [
  {
   "cell_type": "code",
   "execution_count": null,
   "metadata": {
    "colab": {},
    "colab_type": "code",
    "id": "Klla6Hoze1Pf"
   },
   "outputs": [],
   "source": [
    "#1)\n",
    "# prompt a user to enter an integer n\n",
    "# find out all the divisors of n by checking the modulous of all the numbers between 1 and n =0\n",
    "# finally print out a list of all the divisors!\n",
    "# example, if n=6, check 6%5, 6%4, 6%3,2,1 so 6 is divisible by [1,2,3 and 6]."
   ]
  },
  {
   "cell_type": "code",
   "execution_count": null,
   "metadata": {
    "colab": {},
    "colab_type": "code",
    "id": "zut4QxXXe1Py",
    "outputId": "28d59615-a2c0-4e87-b52c-4cbc8fdc49bc"
   },
   "outputs": [],
   "source": [
    "num = int(input(\"Enter your integer: \")) # 8 range(1,9)\n",
    "num_range = list(range(1, num+1)) # [1,2,3,4,...,8]\n",
    "\n",
    "divisor_num = [] # empty [1, 2, ...]\n",
    "\n",
    "for number in num_range:\n",
    "    if num % number == 0: # 8 % 2 == 0\n",
    "        divisor_num.append(number)\n",
    "        \n",
    "print (divisor_num)"
   ]
  },
  {
   "cell_type": "code",
   "execution_count": null,
   "metadata": {
    "colab": {},
    "colab_type": "code",
    "id": "QVbPUHvDe1QQ"
   },
   "outputs": [],
   "source": [
    "#2)\n",
    "x = [-3,-5,-11,0,2,4,6, 12.6, -0.024, 0.34]\n",
    "# use a for loop and if statement to find out if the numbers in the list, x are positive,\n",
    "# negative or zero.\n",
    "# if the number is negative, find out the abs of the number."
   ]
  },
  {
   "cell_type": "code",
   "execution_count": null,
   "metadata": {
    "colab": {},
    "colab_type": "code",
    "id": "46ERQ9Sre1QZ",
    "outputId": "c1fe3c0f-7adb-4a19-d40b-d55b69c89402"
   },
   "outputs": [],
   "source": [
    "for num in x:\n",
    "    if num > 0:\n",
    "        print (num, \" is a positive number\")\n",
    "    elif num == 0:\n",
    "        print (num, \" is neither a pos nor a negative number\")\n",
    "    else:\n",
    "        print (num, \" is a negative number\")\n",
    "        print (\"  and its abs is: \", abs(num))"
   ]
  },
  {
   "cell_type": "code",
   "execution_count": null,
   "metadata": {
    "colab": {},
    "colab_type": "code",
    "id": "Sej33mgme1Qm"
   },
   "outputs": [],
   "source": [
    "#3)\n",
    "list1= [1,'a',2,'b','c','d',3,4,5,6,8]\n",
    "# use a for loop to print out all the adjacent elements in the list above\n",
    "#(1,'a'), ('a',2)"
   ]
  },
  {
   "cell_type": "code",
   "execution_count": null,
   "metadata": {
    "colab": {},
    "colab_type": "code",
    "id": "yexBjxMve1Qs",
    "outputId": "40168e76-cd6f-4a18-ca31-c43739e0303e"
   },
   "outputs": [],
   "source": [
    "for x in range(1, len(list1)): #(1,11) [1,2,3..10]\n",
    "    first = list1[x-1] # 1\n",
    "    second = list1[x] # a\n",
    "    \n",
    "    print (first,second)\n",
    "\n",
    "list1= [1,'a',2,'b','c','d',3,4,5,6,8]"
   ]
  },
  {
   "cell_type": "code",
   "execution_count": null,
   "metadata": {
    "colab": {},
    "colab_type": "code",
    "id": "XqYyDoUqe1Q5"
   },
   "outputs": [],
   "source": [
    "#4)\n",
    "# write a program that will count the length of each word in a given string and place each\\\n",
    "# word in a separate list Start out with an empty list and append to each list by using for\\\n",
    "# loops and if statements good luck\n",
    "\n",
    "\n",
    "st = \"write a program that will count the length of each word in a given string and place\\\n",
    "      each word in a separate list Start out with an empty list and append to each list\\\n",
    "      by using for loops and if statements good luck\"\n"
   ]
  },
  {
   "cell_type": "code",
   "execution_count": null,
   "metadata": {
    "colab": {},
    "colab_type": "code",
    "id": "8kw1BTjwe1RA",
    "outputId": "af31f75c-7aa1-40bf-c2f7-a3df2ad00ab2"
   },
   "outputs": [],
   "source": [
    "st = input(\"enter your string now!: \")\n",
    "\n",
    "print (\"------\" * 14)\n",
    "\n",
    "three = []\n",
    "four = []\n",
    "five = []\n",
    "six = []\n",
    "seven = []\n",
    "article = [] # if length < 3\n",
    "rest = [] # if length > 7\n",
    "\n",
    "for word in st.split():\n",
    "    if len(word) == 3:\n",
    "        three.append(word)\n",
    "    elif len(word) == 4:\n",
    "        four.append(word)\n",
    "    elif len(word) == 5:\n",
    "        five.append(word)\n",
    "    elif len(word) == 6:\n",
    "        six.append(word)\n",
    "    elif len(word) == 7:\n",
    "        seven.append(word)\n",
    "    elif len(word) < 3:\n",
    "        article.append(word)\n",
    "    else:\n",
    "        rest.append(word)\n",
    "\n",
    "print (\"words with length = 3: \", three)\n",
    "print (\"------\" * 15)\n",
    "print (\"words with length = 4: \", four)\n",
    "print (\"------\" * 15)\n",
    "print (\"words with length = 5: \", five)\n",
    "print (\"------\" * 15)\n",
    "print (\"words with length = 6: \", six)\n",
    "print (\"------\" * 15)\n",
    "print (\"words with length = 7: \", seven)\n",
    "print (\"------\" * 15)\n",
    "print (\"words with length < 3: \", article)\n",
    "print (\"------\" * 15)\n",
    "print (\"rest of the words: \", rest)\n",
    "print (\"------\" * 15)\n"
   ]
  },
  {
   "cell_type": "code",
   "execution_count": null,
   "metadata": {
    "colab": {},
    "colab_type": "code",
    "id": "rupFtJtFe1RO"
   },
   "outputs": [],
   "source": [
    "#5)  \n",
    "# define punctuation and numbers as shown below. Prompt a user to enter a string with a\\\n",
    "# combination of numbers, punct and characters. Use a for loop and if statements to find\\\n",
    "# out if the char is a num, alpha or punct. and print out a string of all the numbers, \\\n",
    "# puctuations and alphabets...\n",
    "\n",
    "punctuations = '''!()-[]{};:'\"\\,<>./?@#$%^&*_~+'''\n",
    "numbers = '''1234567890'''\n",
    "#my_string = \"It's the last week of November 2016, and it's cold!!432?@# so cold +>??\""
   ]
  },
  {
   "cell_type": "code",
   "execution_count": null,
   "metadata": {
    "colab": {},
    "colab_type": "code",
    "id": "QxGrbHeIe1RU",
    "outputId": "8866c716-b501-4e98-fa69-9dab1c7ea868"
   },
   "outputs": [],
   "source": [
    "\n",
    "#my_string = raw_input(\"please enter your string now: \")\n",
    "my_string = \"It's the last week of November 2016, and it's cold!!432?@# so cold +>??\"\n",
    "\n",
    "print (\"------\" * 15)\n",
    "alpha_only = \"\"\n",
    "num_only = \"\"\n",
    "punc_only = \"\"\n",
    "\n",
    "for char in my_string:\n",
    "    if (char not in punctuations and char not in numbers):\n",
    "        alpha_only = alpha_only + char\n",
    "    elif char in numbers:\n",
    "        num_only = num_only + char\n",
    "    elif char in punctuations:\n",
    "        punc_only = punc_only + char\n",
    "    else:\n",
    "        print (\"I don't know what that character is! \")\n",
    "        \n",
    "print (\"alphabets: \", alpha_only)\n",
    "print (\"------\" * 15)\n",
    "print (\"numbers: \", num_only)\n",
    "print (\"------\" * 15)\n",
    "print (\"punctuations: \", punc_only)\n",
    "print (\"------\" * 15)\n"
   ]
  },
  {
   "cell_type": "code",
   "execution_count": null,
   "metadata": {
    "colab": {},
    "colab_type": "code",
    "id": "wowZrb7Ce1T7",
    "outputId": "67e0f368-34bf-4efa-aeda-f608c81498ac"
   },
   "outputs": [],
   "source": [
    "#5)  \n",
    "# define punctuation and numbers as shown below. Prompt a user to enter a string with a\\\n",
    "# combination of numbers, punct and characters. Use a for loop and if statements to find\\\n",
    "# out if the char is a num, alpha or punct. and print out a string of all the numbers, \\\n",
    "# puctuations and alphabets...\n",
    "\n",
    "punctuations = '''!()-[]{};:'\"\\,<>./?@#$%^&*_~+'''\n",
    "numbers = '''1234567890'''\n",
    "#my_string = \"It's the last week of November 2016, and it's cold!!432?@# so cold +>??\"\n",
    "\n",
    "# To take input from the user\n",
    "my_string = raw_input(\"Enter a string: \")\n",
    "\n",
    "# remove punctuation from the string\n",
    "alpha_only = \"\"\n",
    "num_only = \"\"\n",
    "punc_only = \"\"\n",
    "for char in my_str:\n",
    "    if (char not in punctuations and char not in numbers):\n",
    "        alpha_only = alpha_only + char\n",
    "    elif char in numbers:\n",
    "        num_only = num_only + char\n",
    "    elif char in punctuations:\n",
    "        punc_only = punc_only + char\n",
    "    else:\n",
    "        print (\"I dont know what that char is\")\n",
    "        \n",
    "\n",
    "# display the unpunctuated string\n",
    "print (\"alpha: \", alpha_only)\n",
    "print (\"num: \", num_only)\n",
    "print (\"punc: \", punc_only)"
   ]
  },
  {
   "cell_type": "code",
   "execution_count": null,
   "metadata": {
    "colab": {},
    "colab_type": "code",
    "id": "d0AzjurGe1UH",
    "outputId": "f28d7c32-85cd-467f-c07f-16af824b3783"
   },
   "outputs": [],
   "source": [
    "# Use range.\n",
    "\n",
    "list1 = [1,'a',2,'b','c','d',3,4,5,6,8]\n",
    "for x in range(1, len(list1)):\n",
    "    # Get two adjacent elements.\n",
    "    first = list1[x - 1]\n",
    "    second = list1[x]\n",
    "\n",
    "    # Print two elements.\n",
    "    print(first, second)"
   ]
  },
  {
   "cell_type": "code",
   "execution_count": null,
   "metadata": {
    "colab": {},
    "colab_type": "code",
    "id": "MgQ-j4xne1US"
   },
   "outputs": [],
   "source": [
    "#4)\n",
    "# write a program that will count the length of each word in a given string and place each\\\n",
    "# word in a separate list Start out with an empty list and append to each list by using for\\\n",
    "# loops and if statements good luck\n",
    "\n",
    "\n",
    "st = \"write a program that will count the length of each word in a given string and place\\\n",
    "      each word in a separate list Start out with an empty list and append to each list\\\n",
    "      by using for loops and if statements good luck\"\n",
    "\n",
    "three = []\n",
    "four = []\n",
    "five = []\n",
    "six = []\n",
    "seven = []\n",
    "rest = []\n",
    "article = []\n",
    "\n",
    "for words in st.split():\n",
    "    if len(words) == 3:\n",
    "        three.append(words)\n",
    "    elif len(words) == 4:\n",
    "        four.append(words)\n",
    "    elif len(words) == 5:\n",
    "        five.append(words)\n",
    "    elif len(words) == 6:\n",
    "        six.append(words)\n",
    "    elif len(words) == 7:\n",
    "        seven.append(words)\n",
    "    elif len(words) < 3:\n",
    "        article.append(words)\n",
    "    else:\n",
    "        rest.append(words)\n",
    "        \n",
    "print (\"|words with length = 3: \", three)\n",
    "print (\"------\" * 15)\n",
    "print (\"|words with length = 4: \", four)\n",
    "print (\"------\" * 15)\n",
    "print (\"|words with length = 5: \", five)\n",
    "print (\"------\" * 15) \n",
    "print (\"|words with length = 6: \", six)\n",
    "print (\"------\" * 15)\n",
    "print (\"|words with length = 7: \", seven)\n",
    "print (\"------\" * 15)\n",
    "print (\"|words with length < 3: \", article)\n",
    "print (\"------\" * 15)\n",
    "print (\"|rest of the words: \", rest)\n",
    "print (\"------\" * 15)\n"
   ]
  },
  {
   "cell_type": "code",
   "execution_count": null,
   "metadata": {
    "colab": {},
    "colab_type": "code",
    "id": "pg3OeSF0e1Uk",
    "outputId": "8a71e14c-35a8-41d9-d666-fd3082112a05"
   },
   "outputs": [],
   "source": [
    "\n",
    "\n",
    "# a list of digit\n",
    "list_of_digits = []\n",
    "\n",
    "# To take input from user, uncomment the code below\n",
    "input_digit = int(input(\"Enter a digit: \"))\n",
    "\n",
    "# search the input digit in our list\n",
    "if input_digit in list_of_digits:\n",
    "    print(\"Digit is in the list\")\n",
    "else:\n",
    "    print(\"Digit not found in list\")\n",
    "    x = input(\"do you want me to add the number to the list? \")\n",
    "    if x == 'yes':\n",
    "        list_of_digits.append(input_digit) \n",
    "        print (input_digit, \"is now added to your list\")\n",
    "        list_of_digits = list_of_digits\n",
    "    else:\n",
    "        print (\"you have chosen not to include\", input_digit , \"in your list\")"
   ]
  },
  {
   "cell_type": "code",
   "execution_count": null,
   "metadata": {
    "colab": {},
    "colab_type": "code",
    "id": "50hq3irIe1Un",
    "outputId": "a9354a46-89cd-4443-f981-e18c774553b7"
   },
   "outputs": [],
   "source": [
    "list_of_digits"
   ]
  },
  {
   "cell_type": "code",
   "execution_count": null,
   "metadata": {
    "colab": {},
    "colab_type": "code",
    "id": "HVkUcuiBe1Uq"
   },
   "outputs": [],
   "source": [
    "x = [-3,-5,-11,0,2,4,6, 12.6, -0.024, 0.34]\n",
    "# use a for loop and if statement to find out if the numbers in the list, x are positive,\n",
    "# negative or zero.\n",
    "# if the number is negative, print out the abs of the number."
   ]
  },
  {
   "cell_type": "code",
   "execution_count": null,
   "metadata": {
    "colab": {},
    "colab_type": "code",
    "id": "sTS3cYY4e1Us",
    "outputId": "661d00ef-b8bd-4292-8306-76742ed8cd4c"
   },
   "outputs": [],
   "source": [
    "#num = float(raw_input(\"Enter a number: \"))\n",
    "\n",
    "x = [1,2,3,4,0,-2,-4]\n",
    "\n",
    "for num in x:\n",
    "    if num > 0:\n",
    "        print (num,\" is a Positive number\")\n",
    "    elif num == 0:\n",
    "        print (num,\" is Zero\")\n",
    "    else:\n",
    "        print (num, \"is a Negative number\")\n",
    "        print \"   and its abs is: \", abs(num)"
   ]
  },
  {
   "cell_type": "code",
   "execution_count": null,
   "metadata": {
    "colab": {},
    "colab_type": "code",
    "id": "h6XjFBVoe1Uv"
   },
   "outputs": [],
   "source": []
  },
  {
   "cell_type": "code",
   "execution_count": null,
   "metadata": {
    "colab": {},
    "colab_type": "code",
    "id": "AJDWmP3Fe1Ux",
    "outputId": "7a2ddf56-715b-4d50-98f4-4953c71dc90e"
   },
   "outputs": [],
   "source": [
    "num = [-2,-3,0,2,3,4,5,6]\n",
    "\n",
    "#num = int(input(\"Enter a number: \"))\n",
    "\n",
    "factorial = 1\n",
    "\n",
    "for x in num:\n",
    "# check if the number is negative, positive or zero\n",
    "    if x < 0:\n",
    "           print (\"Sorry, factorial does not exist for negative numbers: \",x)\n",
    "    elif x == 0:\n",
    "           print (\"The factorial of 0 is 1\")\n",
    "    else:\n",
    "        print (\"factorial is as follows...\")\n",
    "if num[x] > 0:        \n",
    "    for i in range(1,num[x] + 1):\n",
    "        factorial = factorial*i\n",
    "        #print \"The factorial of\",num[x],\"is\",factorial\n",
    "        print (\"\\n\")\n",
    "        print (\"The factorial of\",num[x],\"is\",factorial)"
   ]
  },
  {
   "cell_type": "code",
   "execution_count": null,
   "metadata": {
    "colab": {},
    "colab_type": "code",
    "id": "UEviOoZDe1U0"
   },
   "outputs": [],
   "source": []
  },
  {
   "cell_type": "code",
   "execution_count": null,
   "metadata": {
    "colab": {},
    "colab_type": "code",
    "id": "d3-gxo26e1U2"
   },
   "outputs": [],
   "source": [
    "#3)\n",
    "list1= [1,'a',2,'b','c','d',3,4,5,6,8]\n",
    "# use a for loop to print out all the adjacent elements in the list above\n",
    "\n",
    "list1 = [1,'a',2,'b','c','d',3,4,5,6,8]\n",
    "for x in range(1, len(list1)):\n",
    "    # Get two adjacent elements.\n",
    "    first = list1[x - 1]\n",
    "    second = list1[x]\n",
    "\n",
    "    # Print two elements.\n",
    "    print(first, second)"
   ]
  },
  {
   "cell_type": "code",
   "execution_count": null,
   "metadata": {
    "colab": {},
    "colab_type": "code",
    "id": "2BUrttpMe1U-"
   },
   "outputs": [],
   "source": []
  },
  {
   "cell_type": "code",
   "execution_count": null,
   "metadata": {
    "colab": {},
    "colab_type": "code",
    "id": "MV2XRJ80e1VB",
    "outputId": "5caeea9f-6f63-40f4-8991-23c5b2863925"
   },
   "outputs": [],
   "source": [
    "st = \"write a program that will count the length of each word in a given string and place each\\\n",
    "      word in a separate list Start out with an empty list and append to each list by using for\\\n",
    "      loops and if statements good luck\"\n",
    "\n",
    "three = []\n",
    "four = []\n",
    "five = []\n",
    "six = []\n",
    "rest = []\n",
    "for words in st.split():\n",
    "    if len(words) == 3:\n",
    "    elif len(words) == 4:\n",
    "        four.append(words)\n",
    "    elif len(words) == 5:\n",
    "        five.append(words)\n",
    "    else:\n",
    "        rest.append(words)\n",
    "        \n",
    "print (\"words with length = 3: \", three)\n",
    "print (\"words with length = 4: \", four)\n",
    "print (\"words with length = 5: \", five)\n",
    "print (\"words with length = 6: \", six)\n",
    "print (\"here is the rest of the words \", rest)\n"
   ]
  },
  {
   "cell_type": "code",
   "execution_count": null,
   "metadata": {
    "colab": {},
    "colab_type": "code",
    "id": "MFfpuQL2e1VF",
    "outputId": "47cff8ec-7a3d-45cb-979c-a1c5317e1d5c"
   },
   "outputs": [],
   "source": [
    "three"
   ]
  },
  {
   "cell_type": "code",
   "execution_count": null,
   "metadata": {
    "colab": {},
    "colab_type": "code",
    "id": "3UQh_Cwee1VI",
    "outputId": "3ba3caae-8ba0-422f-e3bc-c3d3992f8f4f"
   },
   "outputs": [],
   "source": [
    "four"
   ]
  },
  {
   "cell_type": "code",
   "execution_count": null,
   "metadata": {
    "colab": {},
    "colab_type": "code",
    "id": "zt1Fp1Hwe1VK",
    "outputId": "28135f0f-1c1c-4f4b-e589-d258c39e88f5"
   },
   "outputs": [],
   "source": [
    "five"
   ]
  },
  {
   "cell_type": "code",
   "execution_count": null,
   "metadata": {
    "colab": {},
    "colab_type": "code",
    "id": "oE8EIUQ9e1VM",
    "outputId": "82cf752b-ac3e-497b-84f2-1d9d93b919f0"
   },
   "outputs": [],
   "source": [
    "rest"
   ]
  },
  {
   "cell_type": "code",
   "execution_count": null,
   "metadata": {
    "colab": {},
    "colab_type": "code",
    "id": "uWYq9r0De1Vg"
   },
   "outputs": [],
   "source": []
  }
 ],
 "metadata": {
  "colab": {
   "collapsed_sections": [],
   "name": "Ex_07_Loops.ipynb",
   "provenance": [],
   "toc_visible": true
  },
  "kernelspec": {
   "display_name": "Python 3",
   "language": "python",
   "name": "python3"
  },
  "language_info": {
   "codemirror_mode": {
    "name": "ipython",
    "version": 3
   },
   "file_extension": ".py",
   "mimetype": "text/x-python",
   "name": "python",
   "nbconvert_exporter": "python",
   "pygments_lexer": "ipython3",
   "version": "3.7.4"
  }
 },
 "nbformat": 4,
 "nbformat_minor": 1
}
