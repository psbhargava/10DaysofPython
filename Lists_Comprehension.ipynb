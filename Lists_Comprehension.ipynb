{
 "cells": [
  {
   "cell_type": "code",
   "execution_count": 1,
   "metadata": {
    "colab": {},
    "colab_type": "code",
    "id": "hohqLp4GTjbh"
   },
   "outputs": [],
   "source": [
    "list1 = [1,2,3,4,5,6]"
   ]
  },
  {
   "cell_type": "code",
   "execution_count": 2,
   "metadata": {
    "colab": {},
    "colab_type": "code",
    "id": "BvNycftiTjbx"
   },
   "outputs": [],
   "source": [
    "cubes = []\n",
    "for numbers in list1:\n",
    "    cubes.append(numbers**3)"
   ]
  },
  {
   "cell_type": "code",
   "execution_count": 3,
   "metadata": {
    "colab": {},
    "colab_type": "code",
    "id": "BMP8K5alTjb8",
    "outputId": "67761fcd-12c9-408c-ee6b-9fb88ade4fe2"
   },
   "outputs": [
    {
     "data": {
      "text/plain": [
       "[1, 8, 27, 64, 125, 216]"
      ]
     },
     "execution_count": 3,
     "metadata": {},
     "output_type": "execute_result"
    }
   ],
   "source": [
    "cubes"
   ]
  },
  {
   "cell_type": "code",
   "execution_count": 4,
   "metadata": {
    "colab": {},
    "colab_type": "code",
    "id": "yamYxsCPTjcF",
    "outputId": "245c4522-7952-4786-8cda-87cc17a28928"
   },
   "outputs": [
    {
     "data": {
      "text/plain": [
       "[1, 8, 27, 64, 125, 216]"
      ]
     },
     "execution_count": 4,
     "metadata": {},
     "output_type": "execute_result"
    }
   ],
   "source": [
    "[numbers**3 for numbers in list1]"
   ]
  },
  {
   "cell_type": "code",
   "execution_count": 5,
   "metadata": {
    "colab": {},
    "colab_type": "code",
    "id": "-ii2CpoxTjcN"
   },
   "outputs": [],
   "source": [
    "sqrt = []"
   ]
  },
  {
   "cell_type": "code",
   "execution_count": 6,
   "metadata": {
    "colab": {},
    "colab_type": "code",
    "id": "etSSLPw6TjcW"
   },
   "outputs": [],
   "source": [
    "for number in list1:\n",
    "    sqrt.append(number**0.5)"
   ]
  },
  {
   "cell_type": "code",
   "execution_count": 7,
   "metadata": {
    "colab": {},
    "colab_type": "code",
    "id": "hfdEo0uwTjcc",
    "outputId": "b2949a0a-619d-4112-934d-7e326d16c087"
   },
   "outputs": [
    {
     "data": {
      "text/plain": [
       "[1.0,\n",
       " 1.4142135623730951,\n",
       " 1.7320508075688772,\n",
       " 2.0,\n",
       " 2.23606797749979,\n",
       " 2.449489742783178]"
      ]
     },
     "execution_count": 7,
     "metadata": {},
     "output_type": "execute_result"
    }
   ],
   "source": [
    "sqrt"
   ]
  },
  {
   "cell_type": "code",
   "execution_count": 8,
   "metadata": {
    "colab": {},
    "colab_type": "code",
    "id": "lB7oricxTjcn",
    "outputId": "6061c650-fc43-4094-d00f-a7cb16a0af50"
   },
   "outputs": [
    {
     "data": {
      "text/plain": [
       "[1.0,\n",
       " 1.4142135623730951,\n",
       " 1.7320508075688772,\n",
       " 2.0,\n",
       " 2.23606797749979,\n",
       " 2.449489742783178]"
      ]
     },
     "execution_count": 8,
     "metadata": {},
     "output_type": "execute_result"
    }
   ],
   "source": [
    "[number**0.5 for number in list1]"
   ]
  },
  {
   "cell_type": "code",
   "execution_count": 9,
   "metadata": {
    "colab": {},
    "colab_type": "code",
    "id": "aKWJNmh_Tjcu"
   },
   "outputs": [],
   "source": [
    "list2 = [-2,-4,-5, -8, 3, 5]\n",
    "absv = []\n",
    "\n",
    "for x in list2:\n",
    "    absv.append(abs(x))"
   ]
  },
  {
   "cell_type": "code",
   "execution_count": 10,
   "metadata": {
    "colab": {},
    "colab_type": "code",
    "id": "EjaRW58jTjc2",
    "outputId": "f475b27e-35d3-46d6-ca42-43a6b90dd565"
   },
   "outputs": [
    {
     "data": {
      "text/plain": [
       "[2, 4, 5, 8, 3, 5]"
      ]
     },
     "execution_count": 10,
     "metadata": {},
     "output_type": "execute_result"
    }
   ],
   "source": [
    "absv"
   ]
  },
  {
   "cell_type": "code",
   "execution_count": 11,
   "metadata": {
    "colab": {},
    "colab_type": "code",
    "id": "vuiPxs8KTjc9"
   },
   "outputs": [],
   "source": [
    "absv = [abs(x) for x in list2]"
   ]
  },
  {
   "cell_type": "code",
   "execution_count": 12,
   "metadata": {
    "colab": {},
    "colab_type": "code",
    "id": "gZO-9lJ0TjdE",
    "outputId": "6cceef02-1160-4778-e04a-b0114a81e627"
   },
   "outputs": [
    {
     "data": {
      "text/plain": [
       "[2, 4, 5, 8, 3, 5]"
      ]
     },
     "execution_count": 12,
     "metadata": {},
     "output_type": "execute_result"
    }
   ],
   "source": [
    "absv"
   ]
  },
  {
   "cell_type": "code",
   "execution_count": 13,
   "metadata": {
    "colab": {},
    "colab_type": "code",
    "id": "tBDf_n0ATjdK",
    "outputId": "4689f0cb-a919-4cf5-8e13-9632050df25e"
   },
   "outputs": [
    {
     "data": {
      "text/plain": [
       "[-2, -4, -5, -8, 3, 5]"
      ]
     },
     "execution_count": 13,
     "metadata": {},
     "output_type": "execute_result"
    }
   ],
   "source": [
    "list2"
   ]
  },
  {
   "cell_type": "code",
   "execution_count": 14,
   "metadata": {
    "colab": {},
    "colab_type": "code",
    "id": "U9-fnafXTjdP"
   },
   "outputs": [],
   "source": [
    "both = []"
   ]
  },
  {
   "cell_type": "code",
   "execution_count": 15,
   "metadata": {
    "colab": {},
    "colab_type": "code",
    "id": "GpiiM-SKTjdX"
   },
   "outputs": [],
   "source": [
    "for x in list2:\n",
    "    if x < 0:\n",
    "        both.append(abs(x))\n",
    "    else:\n",
    "        both.append(x**3)"
   ]
  },
  {
   "cell_type": "code",
   "execution_count": 16,
   "metadata": {
    "colab": {},
    "colab_type": "code",
    "id": "k6-uCfSCTjdc",
    "outputId": "0ca80a44-5e69-4757-bc68-6da77f939dec"
   },
   "outputs": [
    {
     "data": {
      "text/plain": [
       "[2, 4, 5, 8, 27, 125]"
      ]
     },
     "execution_count": 16,
     "metadata": {},
     "output_type": "execute_result"
    }
   ],
   "source": [
    "both"
   ]
  },
  {
   "cell_type": "code",
   "execution_count": 17,
   "metadata": {
    "colab": {},
    "colab_type": "code",
    "id": "6_W0-do0Tjdf",
    "outputId": "302a3b4f-2f1f-4ee7-a7c6-9f15ec80d796"
   },
   "outputs": [
    {
     "data": {
      "text/plain": [
       "[2, 4, 5, 8, 27, 125]"
      ]
     },
     "execution_count": 17,
     "metadata": {},
     "output_type": "execute_result"
    }
   ],
   "source": [
    "[abs(x) if x < 0 else x**3 for x in list2]"
   ]
  },
  {
   "cell_type": "code",
   "execution_count": 18,
   "metadata": {
    "colab": {},
    "colab_type": "code",
    "id": "4uOW7iW0Tjdl"
   },
   "outputs": [],
   "source": [
    "list3 = [-2,-3,-4,2,3,4,5,6]"
   ]
  },
  {
   "cell_type": "code",
   "execution_count": 19,
   "metadata": {
    "colab": {},
    "colab_type": "code",
    "id": "5YPNd4sMTjdp"
   },
   "outputs": [],
   "source": [
    "three_methods = []\n",
    "for number in list3:\n",
    "    if number < 0:\n",
    "        three_methods.append(abs(number))\n",
    "    elif number % 2 == 0:\n",
    "        three_methods.append(number**0.5)\n",
    "    else:\n",
    "        three_methods.append(number**3)"
   ]
  },
  {
   "cell_type": "code",
   "execution_count": 20,
   "metadata": {
    "colab": {},
    "colab_type": "code",
    "id": "jEbR_yScTjdu",
    "outputId": "80a4a004-f4ed-4d0d-c8f8-364bc1a650a0"
   },
   "outputs": [
    {
     "data": {
      "text/plain": [
       "[2, 3, 4, 1.4142135623730951, 27, 2.0, 125, 2.449489742783178]"
      ]
     },
     "execution_count": 20,
     "metadata": {},
     "output_type": "execute_result"
    }
   ],
   "source": [
    "three_methods"
   ]
  },
  {
   "cell_type": "code",
   "execution_count": 21,
   "metadata": {
    "colab": {},
    "colab_type": "code",
    "id": "9PFK8bekTjdz",
    "outputId": "deecab1e-0d54-4979-e905-c4293213dd85"
   },
   "outputs": [
    {
     "data": {
      "text/plain": [
       "[-2, -3, -4, 2, 3, 4, 5, 6]"
      ]
     },
     "execution_count": 21,
     "metadata": {},
     "output_type": "execute_result"
    }
   ],
   "source": [
    "list3"
   ]
  },
  {
   "cell_type": "code",
   "execution_count": 22,
   "metadata": {
    "colab": {},
    "colab_type": "code",
    "id": "9SnZsOmxTjeF"
   },
   "outputs": [],
   "source": [
    "movies = ['Departed', 'Titanic', 'Aviator', 'Avatar', '2012']"
   ]
  },
  {
   "cell_type": "code",
   "execution_count": 23,
   "metadata": {
    "colab": {},
    "colab_type": "code",
    "id": "fF4dt-bXTjeI",
    "outputId": "8a9ea642-77ce-49e4-971e-bb56ca4fdca3"
   },
   "outputs": [
    {
     "data": {
      "text/plain": [
       "{4, 6, 7, 8}"
      ]
     },
     "execution_count": 23,
     "metadata": {},
     "output_type": "execute_result"
    }
   ],
   "source": [
    "{len(movie) for movie in movies}"
   ]
  },
  {
   "cell_type": "code",
   "execution_count": 24,
   "metadata": {
    "colab": {},
    "colab_type": "code",
    "id": "4l8l8T-TTjeL"
   },
   "outputs": [],
   "source": [
    "movies = {'Departed':9, 'Titanic':9.2, 'Aviator': 8.7, 'Avatar': 9.1, '2012': 8.6}"
   ]
  },
  {
   "cell_type": "code",
   "execution_count": 25,
   "metadata": {
    "colab": {},
    "colab_type": "code",
    "id": "UvO6WMVITjeP",
    "outputId": "33e69c21-dd3f-439d-95c1-2964db00f220"
   },
   "outputs": [
    {
     "data": {
      "text/plain": [
       "{'Departed': 0, 'Titanic': 1, 'Aviator': 2, 'Avatar': 3, '2012': 4}"
      ]
     },
     "execution_count": 25,
     "metadata": {},
     "output_type": "execute_result"
    }
   ],
   "source": [
    "{movie:rating for rating, movie in enumerate(movies)}"
   ]
  },
  {
   "cell_type": "code",
   "execution_count": 26,
   "metadata": {},
   "outputs": [
    {
     "name": "stdout",
     "output_type": "stream",
     "text": [
      "badboy \r",
      " goodboy\n",
      "range(0, 10)\n",
      "[0, 1, 4, 9, 16, 25, 36, 49, 64, 81]\n"
     ]
    }
   ],
   "source": [
    "print('badboy \\r goodboy')\n",
    "\n",
    "number = range(10)\n",
    "print(number)\n",
    "squares = []\n",
    "for i in number:\n",
    "    x = i**2\n",
    "    squares.append(x)\n",
    "print(squares)"
   ]
  },
  {
   "cell_type": "code",
   "execution_count": 27,
   "metadata": {},
   "outputs": [
    {
     "name": "stdout",
     "output_type": "stream",
     "text": [
      "[0, 1, 4, 9, 16, 25, 36, 49, 64, 81]\n"
     ]
    }
   ],
   "source": [
    "squares2 = [i**2 for i in number ]\n",
    "print(squares2)"
   ]
  },
  {
   "cell_type": "code",
   "execution_count": null,
   "metadata": {},
   "outputs": [],
   "source": []
  }
 ],
 "metadata": {
  "colab": {
   "collapsed_sections": [],
   "name": "Comprehension !!.ipynb",
   "provenance": [],
   "toc_visible": true
  },
  "kernelspec": {
   "display_name": "Python 3",
   "language": "python",
   "name": "python3"
  },
  "language_info": {
   "codemirror_mode": {
    "name": "ipython",
    "version": 3
   },
   "file_extension": ".py",
   "mimetype": "text/x-python",
   "name": "python",
   "nbconvert_exporter": "python",
   "pygments_lexer": "ipython3",
   "version": "3.7.4"
  }
 },
 "nbformat": 4,
 "nbformat_minor": 1
}
