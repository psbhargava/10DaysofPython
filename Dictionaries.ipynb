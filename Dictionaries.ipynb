{
 "cells": [
  {
   "cell_type": "code",
   "execution_count": 1,
   "metadata": {
    "colab": {},
    "colab_type": "code",
    "id": "88RnxRrRBSJS"
   },
   "outputs": [],
   "source": [
    "#Create a dictionary\n",
    "capitals = {\"INDIA\" : \"New Delhi\", \"BA\" : \"Washington DC\", \"UK\" : \"London\" }"
   ]
  },
  {
   "cell_type": "code",
   "execution_count": 2,
   "metadata": {
    "colab": {},
    "colab_type": "code",
    "id": "Yb2GxmTRDrss"
   },
   "outputs": [
    {
     "data": {
      "text/plain": [
       "'Washington DC'"
      ]
     },
     "execution_count": 2,
     "metadata": {},
     "output_type": "execute_result"
    }
   ],
   "source": [
    "#Retrive value of a key\n",
    "capitals[\"BA\"]"
   ]
  },
  {
   "cell_type": "code",
   "execution_count": 3,
   "metadata": {
    "colab": {},
    "colab_type": "code",
    "id": "TS1KqNtkHBq4"
   },
   "outputs": [
    {
     "data": {
      "text/plain": [
       "'New Delhi'"
      ]
     },
     "execution_count": 3,
     "metadata": {},
     "output_type": "execute_result"
    }
   ],
   "source": [
    "#Retrive value of a key\n",
    "capitals[\"INDIA\"]"
   ]
  },
  {
   "cell_type": "code",
   "execution_count": 4,
   "metadata": {
    "colab": {},
    "colab_type": "code",
    "id": "kTkrYdB-HflQ"
   },
   "outputs": [
    {
     "ename": "KeyError",
     "evalue": "'India'",
     "output_type": "error",
     "traceback": [
      "\u001b[1;31m---------------------------------------------------------------------------\u001b[0m",
      "\u001b[1;31mKeyError\u001b[0m                                  Traceback (most recent call last)",
      "\u001b[1;32m<ipython-input-4-efd167ae77aa>\u001b[0m in \u001b[0;36m<module>\u001b[1;34m\u001b[0m\n\u001b[0;32m      1\u001b[0m \u001b[1;31m#Case sensitive\u001b[0m\u001b[1;33m\u001b[0m\u001b[1;33m\u001b[0m\u001b[1;33m\u001b[0m\u001b[0m\n\u001b[1;32m----> 2\u001b[1;33m \u001b[0mcapitals\u001b[0m\u001b[1;33m[\u001b[0m\u001b[1;34m\"India\"\u001b[0m\u001b[1;33m]\u001b[0m\u001b[1;33m\u001b[0m\u001b[1;33m\u001b[0m\u001b[0m\n\u001b[0m",
      "\u001b[1;31mKeyError\u001b[0m: 'India'"
     ]
    }
   ],
   "source": [
    "#Case sensitive\n",
    "capitals[\"India\"]"
   ]
  },
  {
   "cell_type": "code",
   "execution_count": 5,
   "metadata": {
    "colab": {},
    "colab_type": "code",
    "id": "zKzS_V9gD60W"
   },
   "outputs": [
    {
     "data": {
      "text/plain": [
       "3"
      ]
     },
     "execution_count": 5,
     "metadata": {},
     "output_type": "execute_result"
    }
   ],
   "source": [
    "#Length of a dictionary\n",
    "len(capitals)"
   ]
  },
  {
   "cell_type": "code",
   "execution_count": 6,
   "metadata": {
    "colab": {},
    "colab_type": "code",
    "id": "dzIM-hUJEBfQ"
   },
   "outputs": [
    {
     "data": {
      "text/plain": [
       "dict_keys(['INDIA', 'BA', 'UK'])"
      ]
     },
     "execution_count": 6,
     "metadata": {},
     "output_type": "execute_result"
    }
   ],
   "source": [
    "#Built-in function to get the keys\n",
    "capitals.keys()"
   ]
  },
  {
   "cell_type": "code",
   "execution_count": 7,
   "metadata": {
    "colab": {},
    "colab_type": "code",
    "id": "Ib_V2aNTEQAO"
   },
   "outputs": [
    {
     "data": {
      "text/plain": [
       "dict_values(['New Delhi', 'Washington DC', 'London'])"
      ]
     },
     "execution_count": 7,
     "metadata": {},
     "output_type": "execute_result"
    }
   ],
   "source": [
    "#Built-in function to get values \n",
    "capitals.values()"
   ]
  },
  {
   "cell_type": "code",
   "execution_count": 8,
   "metadata": {
    "colab": {},
    "colab_type": "code",
    "id": "OBBNljqvFWvO"
   },
   "outputs": [
    {
     "data": {
      "text/plain": [
       "dict_items([('INDIA', 'New Delhi'), ('BA', 'Washington DC'), ('UK', 'London')])"
      ]
     },
     "execution_count": 8,
     "metadata": {},
     "output_type": "execute_result"
    }
   ],
   "source": [
    "#Retrive all the key - value pairs\n",
    "capitals.items()"
   ]
  },
  {
   "cell_type": "code",
   "execution_count": 9,
   "metadata": {
    "colab": {},
    "colab_type": "code",
    "id": "kvQnx8UlFt0K"
   },
   "outputs": [],
   "source": [
    "#Assign a key - value pair\n",
    "capitals[\"UK\"] = \"\""
   ]
  },
  {
   "cell_type": "code",
   "execution_count": 10,
   "metadata": {
    "colab": {},
    "colab_type": "code",
    "id": "RIvnOM5SF51Y"
   },
   "outputs": [
    {
     "data": {
      "text/plain": [
       "3"
      ]
     },
     "execution_count": 10,
     "metadata": {},
     "output_type": "execute_result"
    }
   ],
   "source": [
    "#New length of dictionary\n",
    "len(capitals)"
   ]
  },
  {
   "cell_type": "code",
   "execution_count": 11,
   "metadata": {
    "colab": {},
    "colab_type": "code",
    "id": "kQIBmjJ_F-Ru"
   },
   "outputs": [
    {
     "data": {
      "text/plain": [
       "{'INDIA': 'New Delhi', 'BA': 'Washington DC', 'UK': ''}"
      ]
     },
     "execution_count": 11,
     "metadata": {},
     "output_type": "execute_result"
    }
   ],
   "source": [
    "#Order of key-value pairs get changed\n",
    "capitals"
   ]
  },
  {
   "cell_type": "code",
   "execution_count": 12,
   "metadata": {
    "colab": {},
    "colab_type": "code",
    "id": "xmpY8CaeOT0U"
   },
   "outputs": [],
   "source": [
    "capitals[\"AFGANISTAN\"] = \"Kabul\""
   ]
  },
  {
   "cell_type": "code",
   "execution_count": 13,
   "metadata": {
    "colab": {},
    "colab_type": "code",
    "id": "jCdte-XHOd6o"
   },
   "outputs": [],
   "source": [
    "#Update an existing dictionary\n",
    "capitals[\"AFGANISTAN\"] = \"KABUL\""
   ]
  },
  {
   "cell_type": "code",
   "execution_count": 14,
   "metadata": {
    "colab": {},
    "colab_type": "code",
    "id": "2uLlL38nPIRE"
   },
   "outputs": [
    {
     "data": {
      "text/plain": [
       "{'INDIA': 'New Delhi', 'BA': 'Washington DC', 'UK': '', 'AFGANISTAN': 'KABUL'}"
      ]
     },
     "execution_count": 14,
     "metadata": {},
     "output_type": "execute_result"
    }
   ],
   "source": [
    "capitals"
   ]
  },
  {
   "cell_type": "code",
   "execution_count": 15,
   "metadata": {
    "colab": {},
    "colab_type": "code",
    "id": "FBW2K6khGBwm"
   },
   "outputs": [],
   "source": [
    "#Dictionaries can contain tuples\n",
    "capitals[(23,45)] = \"Number\""
   ]
  },
  {
   "cell_type": "code",
   "execution_count": 16,
   "metadata": {
    "colab": {},
    "colab_type": "code",
    "id": "TfYMEBI3LYCc"
   },
   "outputs": [
    {
     "data": {
      "text/plain": [
       "{'INDIA': 'New Delhi',\n",
       " 'BA': 'Washington DC',\n",
       " 'UK': '',\n",
       " 'AFGANISTAN': 'KABUL',\n",
       " (23, 45): 'Number'}"
      ]
     },
     "execution_count": 16,
     "metadata": {},
     "output_type": "execute_result"
    }
   ],
   "source": [
    "capitals"
   ]
  },
  {
   "cell_type": "code",
   "execution_count": 17,
   "metadata": {
    "colab": {},
    "colab_type": "code",
    "id": "RjmV9Re6LYyO"
   },
   "outputs": [
    {
     "name": "stdout",
     "output_type": "stream",
     "text": [
      "New Delhi\n",
      "Washington DC\n",
      "\n",
      "KABUL\n",
      "Number\n"
     ]
    }
   ],
   "source": [
    "for k in capitals.keys():\n",
    "    print(capitals[k])"
   ]
  },
  {
   "cell_type": "code",
   "execution_count": 18,
   "metadata": {
    "colab": {},
    "colab_type": "code",
    "id": "0dbkuLt-OB_A"
   },
   "outputs": [
    {
     "name": "stdout",
     "output_type": "stream",
     "text": [
      "INDIA New Delhi\n",
      "BA Washington DC\n",
      "UK \n",
      "AFGANISTAN KABUL\n",
      "(23, 45) Number\n"
     ]
    }
   ],
   "source": [
    "for k in capitals.keys():\n",
    "    print(k,capitals[k])"
   ]
  },
  {
   "cell_type": "code",
   "execution_count": 19,
   "metadata": {
    "colab": {},
    "colab_type": "code",
    "id": "KUYGcfrWOGzM"
   },
   "outputs": [],
   "source": [
    "#Letter count\n",
    "letterCount = {}"
   ]
  },
  {
   "cell_type": "code",
   "execution_count": 20,
   "metadata": {
    "colab": {},
    "colab_type": "code",
    "id": "BbHaNYTYP3MY"
   },
   "outputs": [],
   "source": [
    "s = \"Tetrasoft is a digital platform designed to transform the lives of professionals in the new economy.Its blended bootcamps offer deeptech skills.\""
   ]
  },
  {
   "cell_type": "code",
   "execution_count": 21,
   "metadata": {},
   "outputs": [
    {
     "data": {
      "text/plain": [
       "'Tetrasoft is a digital platform designed to transform the lives of professionals in the new economy.Its blended bootcamps offer deeptech skills.'"
      ]
     },
     "execution_count": 21,
     "metadata": {},
     "output_type": "execute_result"
    }
   ],
   "source": [
    "s"
   ]
  },
  {
   "cell_type": "code",
   "execution_count": 22,
   "metadata": {
    "colab": {},
    "colab_type": "code",
    "id": "hgdeGHePRAMK"
   },
   "outputs": [],
   "source": [
    "for ch in s :\n",
    "    ch = ch.lower()\n",
    "    if ch not in letterCount:\n",
    "        letterCount[ch] = 1\n",
    "    else:\n",
    "        letterCount[ch] += 1"
   ]
  },
  {
   "cell_type": "code",
   "execution_count": 23,
   "metadata": {
    "colab": {},
    "colab_type": "code",
    "id": "SYg7ARPLRkZy"
   },
   "outputs": [
    {
     "data": {
      "text/plain": [
       "{'t': 12,\n",
       " 'e': 15,\n",
       " 'r': 6,\n",
       " 'a': 7,\n",
       " 's': 12,\n",
       " 'o': 12,\n",
       " 'f': 7,\n",
       " ' ': 20,\n",
       " 'i': 9,\n",
       " 'd': 6,\n",
       " 'g': 2,\n",
       " 'l': 7,\n",
       " 'p': 4,\n",
       " 'm': 4,\n",
       " 'n': 7,\n",
       " 'h': 3,\n",
       " 'v': 1,\n",
       " 'w': 1,\n",
       " 'c': 3,\n",
       " 'y': 1,\n",
       " '.': 2,\n",
       " 'b': 2,\n",
       " 'k': 1}"
      ]
     },
     "execution_count": 23,
     "metadata": {},
     "output_type": "execute_result"
    }
   ],
   "source": [
    "letterCount"
   ]
  },
  {
   "cell_type": "code",
   "execution_count": 24,
   "metadata": {
    "colab": {},
    "colab_type": "code",
    "id": "IbUJKNpBRu9s"
   },
   "outputs": [
    {
     "data": {
      "text/plain": [
       "dict_keys(['t', 'e', 'r', 'a', 's', 'o', 'f', ' ', 'i', 'd', 'g', 'l', 'p', 'm', 'n', 'h', 'v', 'w', 'c', 'y', '.', 'b', 'k'])"
      ]
     },
     "execution_count": 24,
     "metadata": {},
     "output_type": "execute_result"
    }
   ],
   "source": [
    "letterCount.keys()"
   ]
  },
  {
   "cell_type": "code",
   "execution_count": null,
   "metadata": {},
   "outputs": [],
   "source": []
  }
 ],
 "metadata": {
  "colab": {
   "collapsed_sections": [],
   "name": "Dictionaries_Overview.ipynb",
   "provenance": [],
   "toc_visible": true
  },
  "kernelspec": {
   "display_name": "Python 3",
   "language": "python",
   "name": "python3"
  },
  "language_info": {
   "codemirror_mode": {
    "name": "ipython",
    "version": 3
   },
   "file_extension": ".py",
   "mimetype": "text/x-python",
   "name": "python",
   "nbconvert_exporter": "python",
   "pygments_lexer": "ipython3",
   "version": "3.7.4"
  }
 },
 "nbformat": 4,
 "nbformat_minor": 1
}
