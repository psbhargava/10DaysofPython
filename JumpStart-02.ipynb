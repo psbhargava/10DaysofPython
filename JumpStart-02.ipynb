{
 "cells": [
  {
   "cell_type": "markdown",
   "metadata": {
    "colab_type": "text",
    "id": "WI75kZcg1x1J",
    "slideshow": {
     "slide_type": "slide"
    }
   },
   "source": [
    "# Python Jumpstart\n",
    "## Part 2\n",
    "### Conditions and Iterations"
   ]
  },
  {
   "cell_type": "markdown",
   "metadata": {
    "colab_type": "text",
    "id": "inAMwIU11x1M",
    "slideshow": {
     "slide_type": "slide"
    }
   },
   "source": [
    "### Blocks\n",
    "  * Blocks are indicated by indenting\n",
    "  * Recommended standard is 4 spaces\n",
    "     - some projects use two spaces\n",
    "  * Wrong indentation **may** flag a syntax error "
   ]
  },
  {
   "cell_type": "code",
   "execution_count": null,
   "metadata": {
    "colab": {},
    "colab_type": "code",
    "id": "Nsit5V8s1x1O",
    "outputId": "2c975bb9-5863-4e42-b5c6-3d747f09bd74",
    "slideshow": {
     "slide_type": "fragment"
    }
   },
   "outputs": [],
   "source": [
    "SENIOR_CITIZEN_ELIGIBILITY = 60\n",
    "my_age = 62\n",
    "if my_age > SENIOR_CITIZEN_ELIGIBILITY:\n",
    "    print(\"Eligible for senior citizen rates\")\n",
    "else:\n",
    "    print(\"Grow up some more!\")"
   ]
  },
  {
   "cell_type": "code",
   "execution_count": null,
   "metadata": {
    "colab": {},
    "colab_type": "code",
    "id": "b5isyK0V1x1b",
    "outputId": "b7ab1ba9-7116-4795-bf20-5fa1f837732a",
    "slideshow": {
     "slide_type": "fragment"
    }
   },
   "outputs": [],
   "source": [
    "SENIOR_CITIZEN_ELIGIBILITY = 60\n",
    "my_age = 62\n",
    "if my_age > SENIOR_CITIZEN_ELIGIBILITY:\n",
    "    print(\"Eligible for senior citizen rates\")\n",
    "    discount = 0.5\n",
    "else:\n",
    "    print(\"Grow up some more!\")\n",
    "print(\"Thank you\")"
   ]
  },
  {
   "cell_type": "markdown",
   "metadata": {
    "colab_type": "text",
    "id": "iDQYp6xZ1x1j",
    "slideshow": {
     "slide_type": "slide"
    }
   },
   "source": [
    "### Two indenting errors"
   ]
  },
  {
   "cell_type": "code",
   "execution_count": null,
   "metadata": {
    "colab": {},
    "colab_type": "code",
    "id": "LQDsJf411x1l",
    "outputId": "9179895f-6603-4b28-a238-13c86909b036",
    "slideshow": {
     "slide_type": "fragment"
    }
   },
   "outputs": [],
   "source": [
    "SENIOR_CITIZEN_ELIGIBILITY = 60\n",
    "my_age = 62\n",
    "if my_age > SENIOR_CITIZEN_ELIGIBILITY:\n",
    "     print(\"Eligible for senior citizen rates\")\n",
    "    discount = 0.5\n",
    "else:\n",
    "    print(\"Grow up some more!\")\n",
    "print(\"Thank you\")"
   ]
  },
  {
   "cell_type": "code",
   "execution_count": null,
   "metadata": {
    "colab": {},
    "colab_type": "code",
    "id": "XSAU2aJP1x1s",
    "outputId": "daec8e5c-fb6d-4c22-840d-e4b227130570",
    "slideshow": {
     "slide_type": "fragment"
    }
   },
   "outputs": [],
   "source": [
    "SENIOR_CITIZEN_ELIGIBILITY = 60\n",
    "my_age = 62\n",
    "if my_age > SENIOR_CITIZEN_ELIGIBILITY:\n",
    "    print(\"Eligible for senior citizen rates\")\n",
    "     discount = 0.5\n",
    "else:\n",
    "    print(\"Grow up some more!\")\n",
    "print(\"Thank you\")"
   ]
  },
  {
   "cell_type": "markdown",
   "metadata": {
    "colab_type": "text",
    "id": "1Mln67Wr1x1z",
    "slideshow": {
     "slide_type": "slide"
    }
   },
   "source": [
    "#### Blocks Summary\n",
    "  * colon as the last character\n",
    "  * indentation to include in block\n",
    "  * unindent to close block\n",
    "  * Loops, Conditions, Functions ...."
   ]
  },
  {
   "cell_type": "code",
   "execution_count": null,
   "metadata": {
    "colab": {},
    "colab_type": "code",
    "id": "Z7G2jI9s1x11",
    "outputId": "b00f94ad-0f5c-4501-e0b0-fe632146fe24",
    "slideshow": {
     "slide_type": "slide"
    }
   },
   "outputs": [],
   "source": [
    "x = 7\n",
    "if x > 0:\n",
    "    print(\"Positive\")\n",
    "elif x < 0:\n",
    "    print(\"Negative\")\n",
    "else:\n",
    "    print(\"Zero!\")"
   ]
  },
  {
   "cell_type": "markdown",
   "metadata": {
    "colab_type": "text",
    "id": "IU7L4SjP1x18",
    "slideshow": {
     "slide_type": "slide"
    }
   },
   "source": [
    "### while loop\n",
    "  * usual\n",
    "  * no parens required (as for if)\n",
    "  * possible to end with infinite loops\n",
    "  * Nestable"
   ]
  },
  {
   "cell_type": "code",
   "execution_count": null,
   "metadata": {
    "colab": {},
    "colab_type": "code",
    "id": "AVw7nIPC1x19",
    "outputId": "d5cc0652-e088-40cf-e5a6-0c30b24c64a6",
    "slideshow": {
     "slide_type": "fragment"
    }
   },
   "outputs": [],
   "source": [
    "a, b, n = 0, 1, 0\n",
    "while n < 10:\n",
    "    print(a, end = \" \")\n",
    "    a, b = b, a + b\n",
    "    n += 1"
   ]
  },
  {
   "cell_type": "markdown",
   "metadata": {
    "colab_type": "text",
    "id": "aIPjJZCt1x2E",
    "slideshow": {
     "slide_type": "fragment"
    }
   },
   "source": [
    "* break, continue are available\n",
    "* but please avoid using them"
   ]
  },
  {
   "cell_type": "markdown",
   "metadata": {
    "colab_type": "text",
    "id": "2Sr3LxoE1x2J",
    "slideshow": {
     "slide_type": "slide"
    }
   },
   "source": [
    "### for \n",
    "  * iterator not a loop\n",
    "  * ubiquitous\n",
    " "
   ]
  },
  {
   "cell_type": "code",
   "execution_count": null,
   "metadata": {
    "colab": {},
    "colab_type": "code",
    "id": "-XN8iIcV1x2L",
    "outputId": "92111608-faab-474f-f890-14b98d4d0201",
    "slideshow": {
     "slide_type": "fragment"
    }
   },
   "outputs": [],
   "source": [
    "f = [0, 1, 1, 2, 3, 5, 8]\n",
    "for n in f:\n",
    "    print(n, n * n - 1, end = \" \")"
   ]
  },
  {
   "cell_type": "code",
   "execution_count": null,
   "metadata": {
    "colab": {},
    "colab_type": "code",
    "id": "Wcug3H201x2X",
    "outputId": "58df6462-a8d5-4540-f54e-44e3984ed177",
    "slideshow": {
     "slide_type": "fragment"
    }
   },
   "outputs": [],
   "source": [
    "for ch in \"Hello VES!\":\n",
    "    print(ch.swapcase(), end=\"\")"
   ]
  },
  {
   "cell_type": "code",
   "execution_count": null,
   "metadata": {
    "colab": {},
    "colab_type": "code",
    "id": "c30gAXii1x2c",
    "outputId": "561183e0-022d-4c4f-afff-dba400af0ea7",
    "slideshow": {
     "slide_type": "fragment"
    }
   },
   "outputs": [],
   "source": [
    "for p in [2, 3, 5, 7]:\n",
    "    print(2 ** p - 1)"
   ]
  },
  {
   "cell_type": "code",
   "execution_count": null,
   "metadata": {
    "colab": {},
    "colab_type": "code",
    "id": "6UMAPwdD1x2i",
    "outputId": "b421220c-a9c6-41d5-9f03-2a1d8d31aedd",
    "slideshow": {
     "slide_type": "fragment"
    }
   },
   "outputs": [],
   "source": [
    "for x in (\"Ashoka\", \"CLO\", 62, [\"Python\", \"Haskell\"]):\n",
    "    print(x)"
   ]
  }
 ],
 "metadata": {
  "colab": {
   "name": "JS-02.ipynb",
   "provenance": [],
   "version": "0.3.2"
  },
  "kernelspec": {
   "display_name": "Python 3",
   "language": "python",
   "name": "python3"
  },
  "language_info": {
   "codemirror_mode": {
    "name": "ipython",
    "version": 3
   },
   "file_extension": ".py",
   "mimetype": "text/x-python",
   "name": "python",
   "nbconvert_exporter": "python",
   "pygments_lexer": "ipython3",
   "version": "3.7.4"
  }
 },
 "nbformat": 4,
 "nbformat_minor": 1
}
