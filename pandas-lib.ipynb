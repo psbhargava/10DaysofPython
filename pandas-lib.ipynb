{
 "cells": [
  {
   "cell_type": "code",
   "execution_count": null,
   "metadata": {},
   "outputs": [],
   "source": [
    "#!pip install pandas\n",
    "import pandas as pd\n",
    "print(\"Pandas version : {}\".format(pd.__version__))"
   ]
  },
  {
   "cell_type": "code",
   "execution_count": null,
   "metadata": {},
   "outputs": [],
   "source": [
    "import pandas as pd\n",
    "import matplotlib.pyplot as plt\n",
    "from matplotlib import style\n",
    "style.use(\"fivethirtyeight\")"
   ]
  },
  {
   "cell_type": "code",
   "execution_count": null,
   "metadata": {},
   "outputs": [],
   "source": [
    "# DATA FRAMING\n",
    "XYZ_web = {'Day': [1,2,3,4,5,6],'Visitors':[100,700,6000,1000,400,350],\"Bounce_rate\":[20,20,23,15,10,34]}\n",
    "df = pd.DataFrame(XYZ_web)"
   ]
  },
  {
   "cell_type": "code",
   "execution_count": null,
   "metadata": {},
   "outputs": [],
   "source": [
    "print(df)"
   ]
  },
  {
   "cell_type": "code",
   "execution_count": null,
   "metadata": {},
   "outputs": [],
   "source": [
    "print(df.head(2))"
   ]
  },
  {
   "cell_type": "code",
   "execution_count": null,
   "metadata": {},
   "outputs": [],
   "source": [
    "print(df.tail(2))"
   ]
  },
  {
   "cell_type": "code",
   "execution_count": null,
   "metadata": {},
   "outputs": [],
   "source": [
    "# DATA MERGING\n",
    "df1 = pd.DataFrame({\"HPI\":[80,90,70,60],\"Int_rate\":[2,1,2,3],\"IND_GDP\":[50,45,45,67]},index = [2001,2002,2003,2004])\n",
    "df2 = pd.DataFrame({\"HPI\":[80,90,70,60],\"Int_rate\":[2,1,2,3],\"IND_GDP\":[50,45,45,67]},index = [2005,2006,2007,2008])"
   ]
  },
  {
   "cell_type": "code",
   "execution_count": null,
   "metadata": {},
   "outputs": [],
   "source": [
    "merge = pd.merge(df1,df2)\n",
    "print(merge)"
   ]
  },
  {
   "cell_type": "code",
   "execution_count": null,
   "metadata": {},
   "outputs": [],
   "source": [
    "merge = pd.merge(df1,df2,on = \"HPI\")\n",
    "print(merge)"
   ]
  },
  {
   "cell_type": "code",
   "execution_count": null,
   "metadata": {},
   "outputs": [],
   "source": [
    "# DATA JOINING\n",
    "df1 = pd.DataFrame({\"Int_rate\":[2,1,2,3],\"IND_GDP\":[50,45,45,67]},index = [2001,2002,2003,2004])\n",
    "df2 = pd.DataFrame({\"Low_Tier_HPI\":[50,45,67,34],\"Unemployment\":[1,3,5,6]},index = [2001,2003,2004,2004])"
   ]
  },
  {
   "cell_type": "code",
   "execution_count": null,
   "metadata": {},
   "outputs": [],
   "source": [
    "joined = df1.join(df2)\n",
    "print(joined)"
   ]
  },
  {
   "cell_type": "code",
   "execution_count": null,
   "metadata": {},
   "outputs": [],
   "source": [
    "# REPLACING INDEX & PLOT\n",
    "df = pd.DataFrame({\"Day\":[1,2,3,4],\"Visitors\":[200,100,230,300],\"Bounce_rate\":[20,45,60,10]})\n",
    "print(df)"
   ]
  },
  {
   "cell_type": "code",
   "execution_count": null,
   "metadata": {},
   "outputs": [],
   "source": [
    "df.set_index(\"Day\",inplace=True)\n",
    "print(df)"
   ]
  },
  {
   "cell_type": "code",
   "execution_count": null,
   "metadata": {},
   "outputs": [],
   "source": [
    "df.plot()\n",
    "plt.show()"
   ]
  },
  {
   "cell_type": "code",
   "execution_count": null,
   "metadata": {},
   "outputs": [],
   "source": [
    "# INDEA RENAMING\n",
    "df = df.rename(columns={\"Visitors\":\"Users\"})\n",
    "print(df)"
   ]
  },
  {
   "cell_type": "code",
   "execution_count": null,
   "metadata": {},
   "outputs": [],
   "source": [
    "# DATA CONCATENATE\n",
    "df1 = pd.DataFrame({\"HPI\":[80,90,70,60],\"Int_rate\":[2,1,2,3],\"IND_GDP\":[50,45,45,67]},index = [2001,2002,2003,2004])\n",
    "df2 = pd.DataFrame({\"HPI\":[80,90,70,60],\"Int_rate\":[2,1,2,3],\"IND_GDP\":[50,45,45,67]},index = [2005,2006,2007,2008])"
   ]
  },
  {
   "cell_type": "code",
   "execution_count": null,
   "metadata": {},
   "outputs": [],
   "source": [
    "concat = pd.concat([df1,df2])\n",
    "print(concat)"
   ]
  },
  {
   "cell_type": "code",
   "execution_count": null,
   "metadata": {},
   "outputs": [],
   "source": [
    "# DATA MANJING\n",
    "country = pd.read_csv('spar_data.txt',index_col=0)\n",
    "country.to_html('spar_data.html')"
   ]
  },
  {
   "cell_type": "code",
   "execution_count": null,
   "metadata": {},
   "outputs": [],
   "source": [
    "count = pd.read_csv('flights.txt',index_col=0)\n",
    "print(count.head())"
   ]
  }
 ],
 "metadata": {
  "kernelspec": {
   "display_name": "Python 3",
   "language": "python",
   "name": "python3"
  },
  "language_info": {
   "codemirror_mode": {
    "name": "ipython",
    "version": 3
   },
   "file_extension": ".py",
   "mimetype": "text/x-python",
   "name": "python",
   "nbconvert_exporter": "python",
   "pygments_lexer": "ipython3",
   "version": "3.7.4"
  }
 },
 "nbformat": 4,
 "nbformat_minor": 4
}
