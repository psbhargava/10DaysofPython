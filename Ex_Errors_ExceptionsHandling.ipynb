{
 "cells": [
  {
   "cell_type": "code",
   "execution_count": null,
   "metadata": {
    "colab": {},
    "colab_type": "code",
    "id": "TyRB_JyFhLgd"
   },
   "outputs": [],
   "source": [
    "#1)\n",
    "# prompt a user to enter an index, and if the index is in the range(list1), display the number\n",
    "# in list1 at the specified index.\n",
    "# use a combination of while and if statements to make it challenging\n",
    "# in the prompt message, display the option to enter quit if they wanna quit and break out of \n",
    "# the while loop.\n",
    "# use try and except to handle errors like if the user enters an out of range index (IndexError)\n",
    "# or if they enter characters different from numbers..."
   ]
  },
  {
   "cell_type": "code",
   "execution_count": null,
   "metadata": {
    "colab": {},
    "colab_type": "code",
    "id": "rWilDa2chLg1",
    "outputId": "c6a57c66-71b5-4cd7-b2b6-e65c0b0310c4"
   },
   "outputs": [],
   "source": [
    "list1 = [23,44,56,32,57,89,76,99,222,123]\n",
    "\n",
    "while True:\n",
    "    choice = input(\"Choose your index now: 'type quit to quit':\")\n",
    "    if choice == 'quit':\n",
    "        print (\"---\" * 15)\n",
    "        break\n",
    "        \n",
    "    try:\n",
    "        index = int(choice)\n",
    "        print (list1[index])\n",
    "        print(\"---\" * 15)\n",
    "        \n",
    "    except IndexError:\n",
    "        print (\"Wrong Index: \", index)\n",
    "        print (\"---\" * 15)\n",
    "        \n",
    "    except:\n",
    "        print( \"Something else is wrong: \", choice)\n",
    "        print (\"---\" * 15)\n",
    "        "
   ]
  },
  {
   "cell_type": "code",
   "execution_count": null,
   "metadata": {
    "colab": {},
    "colab_type": "code",
    "id": "wdzc6aLfhLhU"
   },
   "outputs": [],
   "source": [
    "#2)\n",
    "# prompt a user to enter a number\n",
    "# prompt a user to enter a second number to divide the first number by\n",
    "# check to see if the first number divides by the second number evenly (i.e firstnum % sn == 0)\n",
    "# use try, except and finally to handle exceptions to handle ValueError and ZeroDivisionError"
   ]
  },
  {
   "cell_type": "code",
   "execution_count": null,
   "metadata": {
    "colab": {},
    "colab_type": "code",
    "id": "YUTrbeAchLhi",
    "outputId": "9af0ef24-3624-4846-c92c-f83c18656492"
   },
   "outputs": [],
   "source": [
    "try:\n",
    "    first = int(input(\"enter your first number: \"))\n",
    "    second = int(input(\"enter your second number: \"))\n",
    "    \n",
    "    if first % second == 0:\n",
    "        print (\"yr 1st number: \", first, \" divides evenly by yr 2nd number: \", second)\n",
    "    else:\n",
    "        print (\"yr 1st number: \", first, \" doesn't divide evenly by yr 2nd number: \", second)\n",
    "\n",
    "except ZeroDivisionError:\n",
    "    print (\"your second number can't be zero!\")\n",
    "    \n",
    "except ValueError:\n",
    "    print (\"enter numbers only!\")\n",
    "    \n",
    "finally:\n",
    "    print (\"all done now...\")"
   ]
  },
  {
   "cell_type": "code",
   "execution_count": null,
   "metadata": {
    "colab": {},
    "colab_type": "code",
    "id": "ooTKxk7ThLh7"
   },
   "outputs": [],
   "source": [
    "#3)\n",
    "# prompt a user to enter a number\n",
    "# check if the number is divisible by 5 and \n",
    "# use try, except and finally to handle exceptions"
   ]
  },
  {
   "cell_type": "code",
   "execution_count": null,
   "metadata": {
    "colab": {},
    "colab_type": "code",
    "id": "UDRXmfa1hLiD",
    "outputId": "7e4401c7-944f-4e5e-9d67-4816f3a17cd0"
   },
   "outputs": [],
   "source": [
    "try:\n",
    "    choice = int(input(\"Enter your number: \"))\n",
    "    \n",
    "    if choice % 5 == 0:\n",
    "        print (\"the number you chose\", choice, \"is divisible by 5\")\n",
    "    else:\n",
    "        print (\"your number is not divisible by 5!\")\n",
    "        \n",
    "except ValueError:\n",
    "    print (\"please choose a number only!!!\")\n",
    "    \n",
    "else:\n",
    "    print (\"good choice\")\n",
    "    \n",
    "finally:\n",
    "    print (\"all done now!....\")"
   ]
  },
  {
   "cell_type": "code",
   "execution_count": null,
   "metadata": {},
   "outputs": [],
   "source": []
  }
 ],
 "metadata": {
  "colab": {
   "collapsed_sections": [],
   "name": "Ex_08_Errors&ExceptionsHandling.ipynb",
   "provenance": []
  },
  "kernelspec": {
   "display_name": "Python 3",
   "language": "python",
   "name": "python3"
  },
  "language_info": {
   "codemirror_mode": {
    "name": "ipython",
    "version": 3
   },
   "file_extension": ".py",
   "mimetype": "text/x-python",
   "name": "python",
   "nbconvert_exporter": "python",
   "pygments_lexer": "ipython3",
   "version": "3.7.4"
  }
 },
 "nbformat": 4,
 "nbformat_minor": 1
}
