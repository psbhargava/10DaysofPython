{
 "cells": [
  {
   "cell_type": "markdown",
   "metadata": {
    "colab_type": "text",
    "id": "_EM39wxra9so"
   },
   "source": [
    "####unordered set of key and value pairs"
   ]
  },
  {
   "cell_type": "code",
   "execution_count": 1,
   "metadata": {
    "colab": {},
    "colab_type": "code",
    "id": "BtA7Z7hKanOs"
   },
   "outputs": [],
   "source": [
    "dict_new = {'key1':'value1', 'key2':'value2', 'key3':'value3'}"
   ]
  },
  {
   "cell_type": "code",
   "execution_count": 2,
   "metadata": {
    "colab": {},
    "colab_type": "code",
    "id": "UihnlfqEanO-",
    "outputId": "597a75be-9032-48bf-e14e-d591f00f7650"
   },
   "outputs": [
    {
     "data": {
      "text/plain": [
       "{'key1': 'value1', 'key2': 'value2', 'key3': 'value3'}"
      ]
     },
     "execution_count": 2,
     "metadata": {},
     "output_type": "execute_result"
    }
   ],
   "source": [
    "dict_new"
   ]
  },
  {
   "cell_type": "code",
   "execution_count": 3,
   "metadata": {
    "colab": {},
    "colab_type": "code",
    "id": "QNBb5vy2anPK",
    "outputId": "86e69c5d-2593-4183-cc8d-9bf23730d7c0"
   },
   "outputs": [
    {
     "data": {
      "text/plain": [
       "'value1'"
      ]
     },
     "execution_count": 3,
     "metadata": {},
     "output_type": "execute_result"
    }
   ],
   "source": [
    "dict_new['key1']"
   ]
  },
  {
   "cell_type": "code",
   "execution_count": 4,
   "metadata": {
    "colab": {},
    "colab_type": "code",
    "id": "7ThToJqranPU",
    "outputId": "d27b2542-44d6-4d16-ca65-046d85726882"
   },
   "outputs": [
    {
     "data": {
      "text/plain": [
       "'value3'"
      ]
     },
     "execution_count": 4,
     "metadata": {},
     "output_type": "execute_result"
    }
   ],
   "source": [
    "dict_new['key3']"
   ]
  },
  {
   "cell_type": "code",
   "execution_count": 5,
   "metadata": {
    "colab": {},
    "colab_type": "code",
    "id": "SVWH1gyganPd"
   },
   "outputs": [],
   "source": [
    "mix_dict = {1:23, 2:'stringvalue', 'name':['Joe','Jane','Smith'], 'key4': ['Person', 5, 8, 13]}"
   ]
  },
  {
   "cell_type": "code",
   "execution_count": 6,
   "metadata": {
    "colab": {},
    "colab_type": "code",
    "id": "arOJtYAFanPl",
    "outputId": "575c196f-0020-486a-d5fd-119ccac8a750"
   },
   "outputs": [
    {
     "data": {
      "text/plain": [
       "4"
      ]
     },
     "execution_count": 6,
     "metadata": {},
     "output_type": "execute_result"
    }
   ],
   "source": [
    "len(mix_dict)"
   ]
  },
  {
   "cell_type": "code",
   "execution_count": 7,
   "metadata": {
    "colab": {},
    "colab_type": "code",
    "id": "Iv26aqh-anPs",
    "outputId": "c7f2e3de-fcf4-4712-f5a0-49f8c2d76acd"
   },
   "outputs": [
    {
     "data": {
      "text/plain": [
       "['Joe', 'Jane', 'Smith']"
      ]
     },
     "execution_count": 7,
     "metadata": {},
     "output_type": "execute_result"
    }
   ],
   "source": [
    "mix_dict['name']"
   ]
  },
  {
   "cell_type": "code",
   "execution_count": 8,
   "metadata": {
    "colab": {},
    "colab_type": "code",
    "id": "wFndYJQ2anP2",
    "outputId": "59618aa4-6f34-4754-cb9b-c370cea9a817"
   },
   "outputs": [
    {
     "data": {
      "text/plain": [
       "'Joe'"
      ]
     },
     "execution_count": 8,
     "metadata": {},
     "output_type": "execute_result"
    }
   ],
   "source": [
    "mix_dict['name'][0]"
   ]
  },
  {
   "cell_type": "code",
   "execution_count": 9,
   "metadata": {
    "colab": {},
    "colab_type": "code",
    "id": "jrJtAOxmanQB",
    "outputId": "56489563-373b-477c-ce04-1614dc433068"
   },
   "outputs": [
    {
     "data": {
      "text/plain": [
       "['Person', 5, 8, 13]"
      ]
     },
     "execution_count": 9,
     "metadata": {},
     "output_type": "execute_result"
    }
   ],
   "source": [
    "mix_dict['key4']"
   ]
  },
  {
   "cell_type": "code",
   "execution_count": 10,
   "metadata": {
    "colab": {},
    "colab_type": "code",
    "id": "blnOOb0canQO",
    "outputId": "8a921413-ba3c-4972-920c-c2fd818f988f"
   },
   "outputs": [
    {
     "data": {
      "text/plain": [
       "16"
      ]
     },
     "execution_count": 10,
     "metadata": {},
     "output_type": "execute_result"
    }
   ],
   "source": [
    "mix_dict['key4'][2] + 8"
   ]
  },
  {
   "cell_type": "code",
   "execution_count": 11,
   "metadata": {
    "colab": {},
    "colab_type": "code",
    "id": "-l2RgFV4anQZ"
   },
   "outputs": [],
   "source": [
    "dict_new = {'key1':'value8', 'key2':'value2', 'key3':'value3', 'key4': 'value4'}"
   ]
  },
  {
   "cell_type": "code",
   "execution_count": 12,
   "metadata": {
    "colab": {},
    "colab_type": "code",
    "id": "zX3Y4RdHanQf",
    "outputId": "21f05771-7b2a-4115-9611-3304761e5e42"
   },
   "outputs": [
    {
     "data": {
      "text/plain": [
       "{'key1': 'value8', 'key2': 'value2', 'key3': 'value3', 'key4': 'value4'}"
      ]
     },
     "execution_count": 12,
     "metadata": {},
     "output_type": "execute_result"
    }
   ],
   "source": [
    "dict_new"
   ]
  },
  {
   "cell_type": "code",
   "execution_count": 13,
   "metadata": {
    "colab": {},
    "colab_type": "code",
    "id": "hJX5wMbnanQu"
   },
   "outputs": [],
   "source": [
    "person = {'name': 'Jane', 'age':43, 'state': 'NY'}"
   ]
  },
  {
   "cell_type": "code",
   "execution_count": 14,
   "metadata": {
    "colab": {},
    "colab_type": "code",
    "id": "l8-EV8ZqanQy",
    "outputId": "60a1f72e-7d57-40ac-a26a-bbdb67789b26"
   },
   "outputs": [
    {
     "data": {
      "text/plain": [
       "3"
      ]
     },
     "execution_count": 14,
     "metadata": {},
     "output_type": "execute_result"
    }
   ],
   "source": [
    "len(person)"
   ]
  },
  {
   "cell_type": "code",
   "execution_count": 15,
   "metadata": {
    "colab": {},
    "colab_type": "code",
    "id": "x6-9PcQwanQ5"
   },
   "outputs": [],
   "source": [
    "person.update({'department': 'IT'})"
   ]
  },
  {
   "cell_type": "code",
   "execution_count": 16,
   "metadata": {
    "colab": {},
    "colab_type": "code",
    "id": "hR9tYfJBanRA",
    "outputId": "9eeed5e5-fb34-4215-996d-6d90971f75bc"
   },
   "outputs": [
    {
     "data": {
      "text/plain": [
       "{'name': 'Jane', 'age': 43, 'state': 'NY', 'department': 'IT'}"
      ]
     },
     "execution_count": 16,
     "metadata": {},
     "output_type": "execute_result"
    }
   ],
   "source": [
    "person"
   ]
  },
  {
   "cell_type": "code",
   "execution_count": 17,
   "metadata": {
    "colab": {},
    "colab_type": "code",
    "id": "lcmWLmcEanRE"
   },
   "outputs": [],
   "source": [
    "person.update({6:[3,4,5]})"
   ]
  },
  {
   "cell_type": "code",
   "execution_count": 18,
   "metadata": {
    "colab": {},
    "colab_type": "code",
    "id": "PTioI-RzanRM",
    "outputId": "d8022eef-1498-46b7-fc2f-462ac639753f"
   },
   "outputs": [
    {
     "data": {
      "text/plain": [
       "{'name': 'Jane', 'age': 43, 'state': 'NY', 'department': 'IT', 6: [3, 4, 5]}"
      ]
     },
     "execution_count": 18,
     "metadata": {},
     "output_type": "execute_result"
    }
   ],
   "source": [
    "person"
   ]
  },
  {
   "cell_type": "code",
   "execution_count": 19,
   "metadata": {
    "colab": {},
    "colab_type": "code",
    "id": "Uio6h1BNanRQ"
   },
   "outputs": [],
   "source": [
    "person['key6'] = 'value6'"
   ]
  },
  {
   "cell_type": "code",
   "execution_count": 20,
   "metadata": {
    "colab": {},
    "colab_type": "code",
    "id": "Lvag4H7OanRW",
    "outputId": "cde85f1b-4b8e-43db-8789-015e4601cf7b"
   },
   "outputs": [
    {
     "data": {
      "text/plain": [
       "{'name': 'Jane',\n",
       " 'age': 43,\n",
       " 'state': 'NY',\n",
       " 'department': 'IT',\n",
       " 6: [3, 4, 5],\n",
       " 'key6': 'value6'}"
      ]
     },
     "execution_count": 20,
     "metadata": {},
     "output_type": "execute_result"
    }
   ],
   "source": [
    "person"
   ]
  },
  {
   "cell_type": "code",
   "execution_count": 21,
   "metadata": {
    "colab": {},
    "colab_type": "code",
    "id": "vlSvAWvsanRb"
   },
   "outputs": [],
   "source": [
    "person[7] = 7"
   ]
  },
  {
   "cell_type": "code",
   "execution_count": 22,
   "metadata": {
    "colab": {},
    "colab_type": "code",
    "id": "IwX-rnzCanRf",
    "outputId": "43710408-1ac4-46cb-c822-e8ce52d2d907"
   },
   "outputs": [
    {
     "data": {
      "text/plain": [
       "{'name': 'Jane',\n",
       " 'age': 43,\n",
       " 'state': 'NY',\n",
       " 'department': 'IT',\n",
       " 6: [3, 4, 5],\n",
       " 'key6': 'value6',\n",
       " 7: 7}"
      ]
     },
     "execution_count": 22,
     "metadata": {},
     "output_type": "execute_result"
    }
   ],
   "source": [
    "person"
   ]
  },
  {
   "cell_type": "code",
   "execution_count": 23,
   "metadata": {
    "colab": {},
    "colab_type": "code",
    "id": "u3biIcPSanRi"
   },
   "outputs": [],
   "source": [
    "person['age'] = 44"
   ]
  },
  {
   "cell_type": "code",
   "execution_count": 24,
   "metadata": {
    "colab": {},
    "colab_type": "code",
    "id": "r11Bwx9oanRm",
    "outputId": "62e37b10-60aa-4b8c-c1df-134c6b99fa7d"
   },
   "outputs": [
    {
     "data": {
      "text/plain": [
       "{'name': 'Jane',\n",
       " 'age': 44,\n",
       " 'state': 'NY',\n",
       " 'department': 'IT',\n",
       " 6: [3, 4, 5],\n",
       " 'key6': 'value6',\n",
       " 7: 7}"
      ]
     },
     "execution_count": 24,
     "metadata": {},
     "output_type": "execute_result"
    }
   ],
   "source": [
    "person"
   ]
  },
  {
   "cell_type": "code",
   "execution_count": 25,
   "metadata": {
    "colab": {},
    "colab_type": "code",
    "id": "eSd2i2hNanRr"
   },
   "outputs": [],
   "source": [
    "person['state'] = 'New Jersey'"
   ]
  },
  {
   "cell_type": "code",
   "execution_count": 26,
   "metadata": {
    "colab": {},
    "colab_type": "code",
    "id": "gdYYywgKanRu",
    "outputId": "631c403e-a8f5-4843-9ba1-7e4f5215780e"
   },
   "outputs": [
    {
     "data": {
      "text/plain": [
       "{'name': 'Jane',\n",
       " 'age': 44,\n",
       " 'state': 'New Jersey',\n",
       " 'department': 'IT',\n",
       " 6: [3, 4, 5],\n",
       " 'key6': 'value6',\n",
       " 7: 7}"
      ]
     },
     "execution_count": 26,
     "metadata": {},
     "output_type": "execute_result"
    }
   ],
   "source": [
    "person"
   ]
  },
  {
   "cell_type": "code",
   "execution_count": 27,
   "metadata": {
    "colab": {},
    "colab_type": "code",
    "id": "kZ7JaLrQanRy",
    "outputId": "ba27419b-a38e-48d1-a2a3-b0ef8b3756f6"
   },
   "outputs": [
    {
     "data": {
      "text/plain": [
       "dict_values(['Jane', 44, 'New Jersey', 'IT', [3, 4, 5], 'value6', 7])"
      ]
     },
     "execution_count": 27,
     "metadata": {},
     "output_type": "execute_result"
    }
   ],
   "source": [
    "person.values()"
   ]
  },
  {
   "cell_type": "code",
   "execution_count": 28,
   "metadata": {
    "colab": {},
    "colab_type": "code",
    "id": "8aTt4bJeanR3",
    "outputId": "018d7394-5c88-4fa2-bc33-21725adef66b"
   },
   "outputs": [
    {
     "data": {
      "text/plain": [
       "dict_keys(['name', 'age', 'state', 'department', 6, 'key6', 7])"
      ]
     },
     "execution_count": 28,
     "metadata": {},
     "output_type": "execute_result"
    }
   ],
   "source": [
    "person.keys()"
   ]
  },
  {
   "cell_type": "code",
   "execution_count": 29,
   "metadata": {
    "colab": {},
    "colab_type": "code",
    "id": "h4ThHatvanR6",
    "outputId": "c4361e9e-79d1-42d1-a6d8-2aadad31902f"
   },
   "outputs": [
    {
     "data": {
      "text/plain": [
       "dict_items([('name', 'Jane'), ('age', 44), ('state', 'New Jersey'), ('department', 'IT'), (6, [3, 4, 5]), ('key6', 'value6'), (7, 7)])"
      ]
     },
     "execution_count": 29,
     "metadata": {},
     "output_type": "execute_result"
    }
   ],
   "source": [
    "person.items()"
   ]
  },
  {
   "cell_type": "code",
   "execution_count": 30,
   "metadata": {
    "colab": {},
    "colab_type": "code",
    "id": "2mpXAvMQanR-"
   },
   "outputs": [],
   "source": [
    "dict1 = {}"
   ]
  },
  {
   "cell_type": "code",
   "execution_count": 31,
   "metadata": {
    "colab": {},
    "colab_type": "code",
    "id": "NUxpntlJanSC",
    "outputId": "7773dd3c-6379-46fd-8108-9dcbbd8198de"
   },
   "outputs": [
    {
     "data": {
      "text/plain": [
       "dict"
      ]
     },
     "execution_count": 31,
     "metadata": {},
     "output_type": "execute_result"
    }
   ],
   "source": [
    "type(dict1)"
   ]
  },
  {
   "cell_type": "code",
   "execution_count": 32,
   "metadata": {
    "colab": {},
    "colab_type": "code",
    "id": "TdThhf8vanSF"
   },
   "outputs": [],
   "source": [
    "dict1['key1'] = 'value1'"
   ]
  },
  {
   "cell_type": "code",
   "execution_count": 33,
   "metadata": {
    "colab": {},
    "colab_type": "code",
    "id": "G6Aaiw6canSH"
   },
   "outputs": [],
   "source": [
    "dict1['key2'] = 'value2'"
   ]
  },
  {
   "cell_type": "code",
   "execution_count": 34,
   "metadata": {
    "colab": {},
    "colab_type": "code",
    "id": "xUG78JWeanSL",
    "outputId": "d8b88289-ec5d-4b67-d291-229b8a6158f1"
   },
   "outputs": [
    {
     "data": {
      "text/plain": [
       "{'key1': 'value1', 'key2': 'value2'}"
      ]
     },
     "execution_count": 34,
     "metadata": {},
     "output_type": "execute_result"
    }
   ],
   "source": [
    "dict1"
   ]
  },
  {
   "cell_type": "code",
   "execution_count": 35,
   "metadata": {
    "colab": {},
    "colab_type": "code",
    "id": "JExHNnZYanSP"
   },
   "outputs": [],
   "source": [
    "dict1['key3'] = 'value3'"
   ]
  },
  {
   "cell_type": "code",
   "execution_count": 36,
   "metadata": {
    "colab": {},
    "colab_type": "code",
    "id": "AqBS9StEanSR"
   },
   "outputs": [],
   "source": [
    "dict1['key4'] = 'value4'"
   ]
  },
  {
   "cell_type": "code",
   "execution_count": 37,
   "metadata": {
    "colab": {},
    "colab_type": "code",
    "id": "fv_h0LN2anSU",
    "outputId": "7771a567-cfad-40b0-90dd-adc5fa3762fb"
   },
   "outputs": [
    {
     "data": {
      "text/plain": [
       "{'key1': 'value1', 'key2': 'value2', 'key3': 'value3', 'key4': 'value4'}"
      ]
     },
     "execution_count": 37,
     "metadata": {},
     "output_type": "execute_result"
    }
   ],
   "source": [
    "dict1"
   ]
  },
  {
   "cell_type": "code",
   "execution_count": 38,
   "metadata": {
    "colab": {},
    "colab_type": "code",
    "id": "ZWJMVg3-anSX",
    "outputId": "2b014297-2c78-4d20-ea2f-655e5bc9834a"
   },
   "outputs": [
    {
     "data": {
      "text/plain": [
       "'value2'"
      ]
     },
     "execution_count": 38,
     "metadata": {},
     "output_type": "execute_result"
    }
   ],
   "source": [
    "dict1.pop('key2')"
   ]
  },
  {
   "cell_type": "code",
   "execution_count": 39,
   "metadata": {
    "colab": {},
    "colab_type": "code",
    "id": "mwFs6D3OanSe",
    "outputId": "274ed3e5-6b1a-42bf-b87f-7ec168521922"
   },
   "outputs": [
    {
     "data": {
      "text/plain": [
       "{'key1': 'value1', 'key3': 'value3', 'key4': 'value4'}"
      ]
     },
     "execution_count": 39,
     "metadata": {},
     "output_type": "execute_result"
    }
   ],
   "source": [
    "dict1"
   ]
  },
  {
   "cell_type": "code",
   "execution_count": 40,
   "metadata": {
    "colab": {},
    "colab_type": "code",
    "id": "0YYFaJEeanSh"
   },
   "outputs": [],
   "source": [
    "del dict1['key4']"
   ]
  },
  {
   "cell_type": "code",
   "execution_count": 41,
   "metadata": {
    "colab": {},
    "colab_type": "code",
    "id": "mwfTCuvKanSk",
    "outputId": "8c7cd937-28c2-4fe4-940f-0fe31f70312d"
   },
   "outputs": [
    {
     "data": {
      "text/plain": [
       "{'key1': 'value1', 'key3': 'value3'}"
      ]
     },
     "execution_count": 41,
     "metadata": {},
     "output_type": "execute_result"
    }
   ],
   "source": [
    "dict1"
   ]
  },
  {
   "cell_type": "code",
   "execution_count": 42,
   "metadata": {
    "colab": {},
    "colab_type": "code",
    "id": "d8mG3k1kanS3"
   },
   "outputs": [],
   "source": [
    "dict1 = {'key1': 456, 'key2': [3,9,15], 'key3': (94,8,23), 'key4': ['item1','item2','item3']}"
   ]
  },
  {
   "cell_type": "code",
   "execution_count": 43,
   "metadata": {
    "colab": {},
    "colab_type": "code",
    "id": "IcZ4Cv2KanS6",
    "outputId": "94e2c0ef-f43d-4393-b344-88fcfb7b0089"
   },
   "outputs": [
    {
     "data": {
      "text/plain": [
       "[3, 9, 15]"
      ]
     },
     "execution_count": 43,
     "metadata": {},
     "output_type": "execute_result"
    }
   ],
   "source": [
    "dict1['key2']"
   ]
  },
  {
   "cell_type": "code",
   "execution_count": 44,
   "metadata": {
    "colab": {},
    "colab_type": "code",
    "id": "azhUhL6NanS_"
   },
   "outputs": [],
   "source": [
    "x = dict1['key2']"
   ]
  },
  {
   "cell_type": "code",
   "execution_count": 45,
   "metadata": {
    "colab": {},
    "colab_type": "code",
    "id": "3JbGJsouanTC",
    "outputId": "e5bc1a58-00dd-42e5-c528-329372bd55b9"
   },
   "outputs": [
    {
     "data": {
      "text/plain": [
       "50"
      ]
     },
     "execution_count": 45,
     "metadata": {},
     "output_type": "execute_result"
    }
   ],
   "source": [
    "x[2] + 35"
   ]
  },
  {
   "cell_type": "code",
   "execution_count": 46,
   "metadata": {
    "colab": {},
    "colab_type": "code",
    "id": "YCmN6AUfanTF"
   },
   "outputs": [],
   "source": [
    "x = dict1['key4']"
   ]
  },
  {
   "cell_type": "code",
   "execution_count": 47,
   "metadata": {
    "colab": {},
    "colab_type": "code",
    "id": "9SdNWDUXanTI",
    "outputId": "5b905cf7-e11c-4695-ecc8-9d3103e09b09"
   },
   "outputs": [
    {
     "data": {
      "text/plain": [
       "str"
      ]
     },
     "execution_count": 47,
     "metadata": {},
     "output_type": "execute_result"
    }
   ],
   "source": [
    "type(x[1])"
   ]
  },
  {
   "cell_type": "code",
   "execution_count": 48,
   "metadata": {
    "colab": {},
    "colab_type": "code",
    "id": "Eb8-W9MzanTL",
    "outputId": "b5acbcec-e6d5-45db-f71d-b0812001238a"
   },
   "outputs": [
    {
     "data": {
      "text/plain": [
       "False"
      ]
     },
     "execution_count": 48,
     "metadata": {},
     "output_type": "execute_result"
    }
   ],
   "source": [
    "x[1].isupper()"
   ]
  },
  {
   "cell_type": "code",
   "execution_count": 49,
   "metadata": {
    "colab": {},
    "colab_type": "code",
    "id": "Bf4q7_VHanTP"
   },
   "outputs": [],
   "source": [
    "x = dict1.keys()"
   ]
  },
  {
   "cell_type": "code",
   "execution_count": 51,
   "metadata": {
    "colab": {},
    "colab_type": "code",
    "id": "30pTTx2ManTT",
    "outputId": "7e6ff6ab-9448-42d6-b235-fb9c92ed5ba5"
   },
   "outputs": [
    {
     "data": {
      "text/plain": [
       "dict_keys"
      ]
     },
     "execution_count": 51,
     "metadata": {},
     "output_type": "execute_result"
    }
   ],
   "source": [
    "type(x)"
   ]
  },
  {
   "cell_type": "code",
   "execution_count": 52,
   "metadata": {
    "colab": {},
    "colab_type": "code",
    "id": "nY2irQvmanTX",
    "outputId": "76a7d305-4339-456c-f83d-c4213d309814"
   },
   "outputs": [
    {
     "data": {
      "text/plain": [
       "dict_values([456, [3, 9, 15], (94, 8, 23), ['item1', 'item2', 'item3']])"
      ]
     },
     "execution_count": 52,
     "metadata": {},
     "output_type": "execute_result"
    }
   ],
   "source": [
    "dict1.values()"
   ]
  },
  {
   "cell_type": "code",
   "execution_count": 54,
   "metadata": {
    "colab": {},
    "colab_type": "code",
    "id": "z434QVa6anTi",
    "outputId": "59028d3e-4a77-4a20-c14d-d41c00095b3e"
   },
   "outputs": [
    {
     "data": {
      "text/plain": [
       "dict_items([('key1', 456), ('key2', [3, 9, 15]), ('key3', (94, 8, 23)), ('key4', ['item1', 'item2', 'item3'])])"
      ]
     },
     "execution_count": 54,
     "metadata": {},
     "output_type": "execute_result"
    }
   ],
   "source": [
    "dict1.items()"
   ]
  },
  {
   "cell_type": "code",
   "execution_count": 59,
   "metadata": {
    "colab": {},
    "colab_type": "code",
    "id": "aGigyicnanTp",
    "outputId": "d621f3c1-9000-45e2-da25-9e19092c7428"
   },
   "outputs": [
    {
     "name": "stdout",
     "output_type": "stream",
     "text": [
      "456\n",
      "[3, 9, 15]\n",
      "(94, 8, 23)\n",
      "['item1', 'item2', 'item3']\n"
     ]
    }
   ],
   "source": [
    "for value in dict1.values():\n",
    "    print (value)"
   ]
  },
  {
   "cell_type": "code",
   "execution_count": 60,
   "metadata": {
    "colab": {},
    "colab_type": "code",
    "id": "LmFVKubTanTr",
    "outputId": "73550cc3-6853-4315-89b3-f79ea3d11c68"
   },
   "outputs": [
    {
     "name": "stdout",
     "output_type": "stream",
     "text": [
      "key1 456\n",
      "key2 [3, 9, 15]\n",
      "key3 (94, 8, 23)\n",
      "key4 ['item1', 'item2', 'item3']\n"
     ]
    }
   ],
   "source": [
    "for key, value in dict1.items():\n",
    "    print (key,value)"
   ]
  },
  {
   "cell_type": "code",
   "execution_count": null,
   "metadata": {},
   "outputs": [],
   "source": []
  }
 ],
 "metadata": {
  "colab": {
   "collapsed_sections": [],
   "name": "Ex_05_Dictionaries.ipynb",
   "provenance": [],
   "toc_visible": true
  },
  "kernelspec": {
   "display_name": "Python 3",
   "language": "python",
   "name": "python3"
  },
  "language_info": {
   "codemirror_mode": {
    "name": "ipython",
    "version": 3
   },
   "file_extension": ".py",
   "mimetype": "text/x-python",
   "name": "python",
   "nbconvert_exporter": "python",
   "pygments_lexer": "ipython3",
   "version": "3.7.4"
  }
 },
 "nbformat": 4,
 "nbformat_minor": 1
}
