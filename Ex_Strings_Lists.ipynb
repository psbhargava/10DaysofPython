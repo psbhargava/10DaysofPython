{
 "cells": [
  {
   "cell_type": "code",
   "execution_count": null,
   "metadata": {
    "colab": {},
    "colab_type": "code",
    "id": "vSW0J7xzTlTS"
   },
   "outputs": [],
   "source": [
    "# 1) list = [[3,4,5,6], [4,2,3], [4,1,2],[2,1]]  write a function that will add all the elements\n",
    "# in the list above = [sum1 + sum2 + sum3 + sum4] = sumtotal"
   ]
  },
  {
   "cell_type": "code",
   "execution_count": null,
   "metadata": {
    "colab": {},
    "colab_type": "code",
    "id": "0LYdq8-XTlTh"
   },
   "outputs": [],
   "source": []
  },
  {
   "cell_type": "code",
   "execution_count": null,
   "metadata": {
    "colab": {},
    "colab_type": "code",
    "id": "VBloMP5BTlTu"
   },
   "outputs": [],
   "source": [
    "# 2) Write a function that will remove the first element from a given list and  returns the new\n",
    "# list and prints out the length of the new list. Can you do the same with string objects?"
   ]
  },
  {
   "cell_type": "code",
   "execution_count": null,
   "metadata": {
    "colab": {},
    "colab_type": "code",
    "id": "Bw81A_hCTlT1"
   },
   "outputs": [],
   "source": []
  },
  {
   "cell_type": "code",
   "execution_count": null,
   "metadata": {
    "colab": {},
    "colab_type": "code",
    "id": "aWsR2GL8TlT_"
   },
   "outputs": [],
   "source": [
    "# 3) list1 = [1,2,'a','b','c','d',3,4,5,6] write a fn that will remove the first two elements\n",
    "# and the last two elements from the list above. Also write a fn that will remove the first two\n",
    "# elements and the last element."
   ]
  },
  {
   "cell_type": "code",
   "execution_count": null,
   "metadata": {
    "colab": {},
    "colab_type": "code",
    "id": "0Yafe1_5TlUH"
   },
   "outputs": [],
   "source": []
  },
  {
   "cell_type": "code",
   "execution_count": null,
   "metadata": {
    "colab": {},
    "colab_type": "code",
    "id": "sbohbjlaTlUP"
   },
   "outputs": [],
   "source": [
    "# 4) list1 = [1,2,3,4,5,6] write a fn taht will return the sum by calculating the elements before\n",
    "# it. Eg the sum element at index 2 will be the cumu sum of the first three elements and so on...\n",
    "# [1,3,6,10,15,21..]"
   ]
  },
  {
   "cell_type": "code",
   "execution_count": null,
   "metadata": {
    "colab": {},
    "colab_type": "code",
    "id": "0RGuNC6TTlUU"
   },
   "outputs": [],
   "source": []
  },
  {
   "cell_type": "code",
   "execution_count": null,
   "metadata": {
    "colab": {},
    "colab_type": "code",
    "id": "mQAkgFjXTlUa"
   },
   "outputs": [],
   "source": [
    "# 5) Write a function that checks if a given list has the same duplicate elements. If so, the \n",
    "# function should return true else return false."
   ]
  },
  {
   "cell_type": "code",
   "execution_count": null,
   "metadata": {
    "colab": {},
    "colab_type": "code",
    "id": "XIXYmO0rTlUj"
   },
   "outputs": [],
   "source": [
    "\n",
    "             "
   ]
  },
  {
   "cell_type": "code",
   "execution_count": null,
   "metadata": {
    "colab": {},
    "colab_type": "code",
    "id": "4KK8r_w1TlUp"
   },
   "outputs": [],
   "source": [
    "# 1) list = [[3,4,5,6], [4,2,3], [4,1,2],[2,1]]  write a function that will add all the elements\n",
    "# in the list above 18 + 9 + 7 + 3"
   ]
  },
  {
   "cell_type": "code",
   "execution_count": null,
   "metadata": {
    "colab": {},
    "colab_type": "code",
    "id": "UMI6NjOuTlUz",
    "outputId": "351a24b9-08ed-4c1f-9903-c4913b8b5b79"
   },
   "outputs": [],
   "source": [
    "def list_sum(x):\n",
    "    sum_total = 0\n",
    "    \n",
    "    for elem in x:\n",
    "        sum_total += sum(elem)\n",
    "        \n",
    "    return sum_total\n",
    "\n",
    "list_sum([[1,2],[3,4]])\n",
    "    "
   ]
  },
  {
   "cell_type": "code",
   "execution_count": null,
   "metadata": {
    "colab": {},
    "colab_type": "code",
    "id": "46h71RrxTlU6"
   },
   "outputs": [],
   "source": [
    "list1 = [[3,4,5,6], [4,2,3], [4,1,2],[2,1]]"
   ]
  },
  {
   "cell_type": "code",
   "execution_count": null,
   "metadata": {
    "colab": {},
    "colab_type": "code",
    "id": "lC28JF0lTlVA",
    "outputId": "70a47785-de2f-4469-ddfb-feeebe2139c9"
   },
   "outputs": [],
   "source": [
    "list_sum(list1)"
   ]
  },
  {
   "cell_type": "code",
   "execution_count": null,
   "metadata": {
    "colab": {},
    "colab_type": "code",
    "id": "FQIu6rmhTlVH"
   },
   "outputs": [],
   "source": [
    "# 2) Write a function that will remove the first element from a given list and  returns the new\n",
    "# list and prints out the length of the new list. Can you do the same with string objects?"
   ]
  },
  {
   "cell_type": "code",
   "execution_count": null,
   "metadata": {
    "colab": {},
    "colab_type": "code",
    "id": "vJXnMg3XTlVM"
   },
   "outputs": [],
   "source": [
    "def new_list(x):\n",
    "    print \"the length of the original list is: \", len(x)\n",
    "    del x[0]\n",
    "    print \"the length of the new list is: \", len(x)\n",
    "    return x"
   ]
  },
  {
   "cell_type": "code",
   "execution_count": null,
   "metadata": {
    "colab": {},
    "colab_type": "code",
    "id": "w3c747XlTlVS",
    "outputId": "831db718-5ba6-41cc-ec06-36bf382e79a8"
   },
   "outputs": [],
   "source": [
    "new_list([1,2,3,4,5])"
   ]
  },
  {
   "cell_type": "code",
   "execution_count": null,
   "metadata": {
    "colab": {},
    "colab_type": "code",
    "id": "7SVoUTuLTlVY",
    "outputId": "a08eeaab-021a-413b-c038-48a8dc05d17b"
   },
   "outputs": [],
   "source": [
    "new_list(['b','a','c','d'])"
   ]
  },
  {
   "cell_type": "code",
   "execution_count": null,
   "metadata": {
    "colab": {},
    "colab_type": "code",
    "id": "ZDRuh4RgTlVd",
    "outputId": "6beab263-13bf-45bd-cec4-ee93e5977086"
   },
   "outputs": [],
   "source": [
    "new_list('string')"
   ]
  },
  {
   "cell_type": "code",
   "execution_count": null,
   "metadata": {
    "colab": {},
    "colab_type": "code",
    "id": "VP6yPzpSTlVm"
   },
   "outputs": [],
   "source": [
    "# 3) list1 = [1,2,'a','b','c','d',3,4,5,6] write a fn that will remove the first two elements\n",
    "# and the last two elements from the list above. Also write a fn that will remove the first two\n",
    "# elements and the last element."
   ]
  },
  {
   "cell_type": "code",
   "execution_count": null,
   "metadata": {
    "colab": {},
    "colab_type": "code",
    "id": "G0GmGgy0TlVq"
   },
   "outputs": [],
   "source": [
    "def remove(x):\n",
    "    return x[2:-2]"
   ]
  },
  {
   "cell_type": "code",
   "execution_count": null,
   "metadata": {
    "colab": {},
    "colab_type": "code",
    "id": "9hF_D3WBTlVx",
    "outputId": "63f799f1-eaf7-4af3-bff3-56a27c65b47c"
   },
   "outputs": [],
   "source": [
    "remove([1,2,3,4,5,6])"
   ]
  },
  {
   "cell_type": "code",
   "execution_count": null,
   "metadata": {
    "colab": {},
    "colab_type": "code",
    "id": "0JrO7xztTlV2",
    "outputId": "10be1bc5-407d-44b1-8711-fd9e7d8e6e41"
   },
   "outputs": [],
   "source": [
    "remove([1,2,'a','b','c','d',3,4,5,6])"
   ]
  },
  {
   "cell_type": "code",
   "execution_count": null,
   "metadata": {
    "colab": {},
    "colab_type": "code",
    "id": "BCQPUzXKTlWB"
   },
   "outputs": [],
   "source": [
    "y = [1,2,'a','b','c','d',3,4,5,6]"
   ]
  },
  {
   "cell_type": "code",
   "execution_count": null,
   "metadata": {
    "colab": {},
    "colab_type": "code",
    "id": "n_zg3LNYTlWG",
    "outputId": "93ed73af-790f-45aa-e521-03a1da94ab2a"
   },
   "outputs": [],
   "source": [
    "remove(y)"
   ]
  },
  {
   "cell_type": "code",
   "execution_count": null,
   "metadata": {
    "colab": {},
    "colab_type": "code",
    "id": "9FSxqx50TlWL"
   },
   "outputs": [],
   "source": []
  },
  {
   "cell_type": "code",
   "execution_count": null,
   "metadata": {
    "colab": {},
    "colab_type": "code",
    "id": "CvVjDkwITlWO"
   },
   "outputs": [],
   "source": [
    "# 4) list1 = [1,2,3,4,5,6] write a fn taht will return the sum by calculating the elements before\n",
    "# it. Eg the sum element at index 2 will be the cumu sum of the first three elements and so on...\n",
    "# [1,3,6,10,15,21..]"
   ]
  },
  {
   "cell_type": "code",
   "execution_count": null,
   "metadata": {
    "colab": {},
    "colab_type": "code",
    "id": "fd7nWcInTlWT"
   },
   "outputs": [],
   "source": [
    "def summation(x):\n",
    "    total = 0\n",
    "    result = []\n",
    "    \n",
    "    for num in x:\n",
    "        total += num \n",
    "        result.append(total) \n",
    "        \n",
    "    return result"
   ]
  },
  {
   "cell_type": "code",
   "execution_count": null,
   "metadata": {
    "colab": {},
    "colab_type": "code",
    "id": "6HWHinSETlWZ",
    "outputId": "5db3a44f-f31c-4a54-a930-cb1069ab9f30"
   },
   "outputs": [],
   "source": [
    "summation([1,2,3,4,5,6])"
   ]
  },
  {
   "cell_type": "code",
   "execution_count": null,
   "metadata": {
    "colab": {},
    "colab_type": "code",
    "id": "XO0Vc0naTlWe",
    "outputId": "cd40825a-b0d2-4d26-c2c0-c4415c8750ff"
   },
   "outputs": [],
   "source": [
    "summation([3,6,8,12]) # [3,9,17,29]"
   ]
  },
  {
   "cell_type": "code",
   "execution_count": null,
   "metadata": {
    "colab": {},
    "colab_type": "code",
    "id": "1mNi-eFUTlWp"
   },
   "outputs": [],
   "source": [
    "# 5) Write a function that checks if a given list has the same duplicate elements. If so, the \n",
    "# function should return true else return false. list1 = [2,3,4,5] = False [4,4,3] = true"
   ]
  },
  {
   "cell_type": "code",
   "execution_count": null,
   "metadata": {
    "colab": {},
    "colab_type": "code",
    "id": "nWRFx1cOTlWr"
   },
   "outputs": [],
   "source": [
    "def duplicate(list1):\n",
    "    x = list(list1)\n",
    "    x.sort()\n",
    "    \n",
    "    for elem in range(len(x) - 1):\n",
    "        if x[elem] == x[elem + 1]:\n",
    "            return True\n",
    "    return False\n",
    "    \n",
    "    "
   ]
  },
  {
   "cell_type": "code",
   "execution_count": null,
   "metadata": {
    "colab": {},
    "colab_type": "code",
    "id": "njWw0-fkTlWu",
    "outputId": "63127c94-5aa0-4b4d-883c-be1b0e317dae"
   },
   "outputs": [],
   "source": [
    "duplicate([2,3,4,5])"
   ]
  },
  {
   "cell_type": "code",
   "execution_count": null,
   "metadata": {
    "colab": {},
    "colab_type": "code",
    "id": "zsEjAPxCTlWx",
    "outputId": "b744b6a4-46eb-4d9f-d488-441b0bfaa15a"
   },
   "outputs": [],
   "source": [
    "duplicate([4,4,3])"
   ]
  },
  {
   "cell_type": "code",
   "execution_count": null,
   "metadata": {
    "colab": {},
    "colab_type": "code",
    "id": "twMxiaYZTlW5",
    "outputId": "6d74f418-8909-4032-e70b-70a0ca6d1d45"
   },
   "outputs": [],
   "source": [
    "duplicate(['a','c','c','d'])"
   ]
  },
  {
   "cell_type": "code",
   "execution_count": null,
   "metadata": {
    "colab": {},
    "colab_type": "code",
    "id": "MQ7SLwoiTlW7",
    "outputId": "43e07472-37b7-4b51-cec7-af73454c5fe4"
   },
   "outputs": [],
   "source": [
    "duplicate('stringr')"
   ]
  }
 ],
 "metadata": {
  "colab": {
   "collapsed_sections": [],
   "name": "Exercise on Strings and Lists !!.ipynb",
   "provenance": [],
   "toc_visible": true
  },
  "kernelspec": {
   "display_name": "Python 3",
   "language": "python",
   "name": "python3"
  },
  "language_info": {
   "codemirror_mode": {
    "name": "ipython",
    "version": 3
   },
   "file_extension": ".py",
   "mimetype": "text/x-python",
   "name": "python",
   "nbconvert_exporter": "python",
   "pygments_lexer": "ipython3",
   "version": "3.7.4"
  }
 },
 "nbformat": 4,
 "nbformat_minor": 1
}
