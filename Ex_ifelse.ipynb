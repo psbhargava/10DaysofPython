{
 "cells": [
  {
   "cell_type": "code",
   "execution_count": null,
   "metadata": {
    "colab": {},
    "colab_type": "code",
    "id": "Lp4XGTPJOlqT"
   },
   "outputs": [],
   "source": [
    "# based on statements - outcome = True or False if value is not zero or null = evaluated as True"
   ]
  },
  {
   "cell_type": "code",
   "execution_count": null,
   "metadata": {
    "colab": {},
    "colab_type": "code",
    "id": "GWbICpSuOlqg"
   },
   "outputs": [],
   "source": [
    "# condition == if True \"execute this code\"    if not \"execute another code\""
   ]
  },
  {
   "cell_type": "code",
   "execution_count": null,
   "metadata": {
    "colab": {},
    "colab_type": "code",
    "id": "hEzpHDxkOlqr"
   },
   "outputs": [],
   "source": [
    "if condition:\n",
    "    \"this code gets executed\"\n",
    "else:\n",
    "    'some other code gets exec'"
   ]
  },
  {
   "cell_type": "code",
   "execution_count": 1,
   "metadata": {
    "colab": {},
    "colab_type": "code",
    "id": "_8gqvWMGOlqy",
    "outputId": "9ccac780-f32e-40fa-850f-b0c23a1dca76"
   },
   "outputs": [
    {
     "name": "stdout",
     "output_type": "stream",
     "text": [
      "The number is what's expected\n",
      "This will be executed regardless\n"
     ]
    }
   ],
   "source": [
    "num = 22\n",
    "\n",
    "if num:\n",
    "    print (\"The number is what's expected\")\n",
    "print (\"This will be executed regardless\")\n"
   ]
  },
  {
   "cell_type": "code",
   "execution_count": 2,
   "metadata": {
    "colab": {},
    "colab_type": "code",
    "id": "bvekqlAwOlq7"
   },
   "outputs": [
    {
     "name": "stdout",
     "output_type": "stream",
     "text": [
      "print this code regardless\n"
     ]
    }
   ],
   "source": [
    "num2 = 0\n",
    "\n",
    "if num2:\n",
    "    print (\"The number is not expected\")\n",
    "print(\"print this code regardless\")"
   ]
  },
  {
   "cell_type": "markdown",
   "metadata": {
    "colab_type": "text",
    "id": "l6ifz7ZjOlrE"
   },
   "source": [
    "# if and else statements"
   ]
  },
  {
   "cell_type": "code",
   "execution_count": null,
   "metadata": {
    "colab": {},
    "colab_type": "code",
    "id": "LBn37cUOOlrF"
   },
   "outputs": [],
   "source": [
    "if cond:\n",
    "    execute this\n",
    "    execute this part also\n",
    "else:\n",
    "    execute this part"
   ]
  },
  {
   "cell_type": "code",
   "execution_count": 3,
   "metadata": {
    "colab": {},
    "colab_type": "code",
    "id": "wQJGjXpAOlrK",
    "outputId": "2b79f893-328b-4b81-d8e3-2e360c68b2b4"
   },
   "outputs": [
    {
     "name": "stdout",
     "output_type": "stream",
     "text": [
      "num is 48\n",
      "this will be printed regardless\n"
     ]
    }
   ],
   "source": [
    "num = 48\n",
    "\n",
    "if num == 48:\n",
    "    print(\"num is 48\")\n",
    "    \n",
    "else:\n",
    "    print(\"num is not 48\")\n",
    "    \n",
    "print(\"this will be printed regardless\")"
   ]
  },
  {
   "cell_type": "code",
   "execution_count": 4,
   "metadata": {
    "colab": {},
    "colab_type": "code",
    "id": "vIzad6YNOlrP",
    "outputId": "d5722a31-82f9-4ac2-8341-a45579ac80e1"
   },
   "outputs": [
    {
     "name": "stdout",
     "output_type": "stream",
     "text": [
      "num is not 48\n",
      "this will be printed regardless\n"
     ]
    }
   ],
   "source": [
    "num = 48\n",
    "\n",
    "if num == 12:\n",
    "    print(\"num is 48\")\n",
    "    \n",
    "else:\n",
    "    print(\"num is not 48\")\n",
    "    \n",
    "print(\"this will be printed regardless\")"
   ]
  },
  {
   "cell_type": "code",
   "execution_count": 5,
   "metadata": {
    "colab": {},
    "colab_type": "code",
    "id": "NejsIg8nOlrW",
    "outputId": "42513bf3-b60b-4c1c-806d-d7d15dc71333",
    "scrolled": true
   },
   "outputs": [
    {
     "name": "stdout",
     "output_type": "stream",
     "text": [
      "Please enter your number: 80\n",
      "number is not less than 20\n",
      "this will be executed no matter what the outcome is\n"
     ]
    }
   ],
   "source": [
    "num = int(input(\"Please enter your number: \"))   # input(\"please enter your number: \")\n",
    "\n",
    "if num < 20:\n",
    "    print(\"number is less than 20\")\n",
    "    \n",
    "else:\n",
    "    print(\"number is not less than 20\")\n",
    "    \n",
    "print(\"this will be executed no matter what the outcome is\")"
   ]
  },
  {
   "cell_type": "markdown",
   "metadata": {
    "colab_type": "text",
    "id": "aORpY4meOlro"
   },
   "source": [
    "# if, elif and else"
   ]
  },
  {
   "cell_type": "code",
   "execution_count": null,
   "metadata": {
    "colab": {},
    "colab_type": "code",
    "id": "Dx5UtVlOOlrs"
   },
   "outputs": [],
   "source": [
    "if cond:\n",
    "    execute this\n",
    "elif cond2:\n",
    "    execute this\n",
    "elif cond3:\n",
    "    execute this\n",
    "else:\n",
    "    execute this"
   ]
  },
  {
   "cell_type": "code",
   "execution_count": 7,
   "metadata": {
    "colab": {},
    "colab_type": "code",
    "id": "mbS2deOkOlrx",
    "outputId": "bc09671c-9f48-4730-b476-622bb210b1a1"
   },
   "outputs": [
    {
     "name": "stdout",
     "output_type": "stream",
     "text": [
      "Please enter your number: 90\n",
      "number is greater than 20\n"
     ]
    }
   ],
   "source": [
    "num = int(input(\"Please enter your number: \"))   # input your number\n",
    "\n",
    "if num < 20:\n",
    "    print(\"number is less than 20\")\n",
    "    \n",
    "elif num > 20:\n",
    "    print(\"number is greater than 20\")\n",
    "    \n",
    "else:\n",
    "    print(\"number is not 20\")\n",
    "    \n",
    "#print \"this will be executed no matter what the outcome is\""
   ]
  },
  {
   "cell_type": "code",
   "execution_count": 8,
   "metadata": {
    "colab": {},
    "colab_type": "code",
    "id": "USMQ97QYOlr4",
    "outputId": "205ee980-ff20-4351-9385-2f69b77eb0e9"
   },
   "outputs": [
    {
     "name": "stdout",
     "output_type": "stream",
     "text": [
      "what was the movie?\n"
     ]
    }
   ],
   "source": [
    "movie = \"star wars\"\n",
    "\n",
    "if movie == \"Departed\":\n",
    "    print(\"that was a great movie\")\n",
    "\n",
    "elif movie == \"Toy Story\":\n",
    "    print(\"movie was toy story\")\n",
    "\n",
    "elif movie == \"minions\":\n",
    "    print(\"that movie was funny\")\n",
    "    \n",
    "else:\n",
    "    print(\"what was the movie?\")"
   ]
  },
  {
   "cell_type": "code",
   "execution_count": 9,
   "metadata": {
    "colab": {},
    "colab_type": "code",
    "id": "dI436KhAOlr8",
    "outputId": "1b3b8e30-8a2d-425e-eb94-e599641bea47"
   },
   "outputs": [
    {
     "name": "stdout",
     "output_type": "stream",
     "text": [
      "enter a number pls: 6\n",
      "num is between 0 and 20\n"
     ]
    }
   ],
   "source": [
    "num = int(input(\"enter a number pls: \"))\n",
    "\n",
    "if num == 0:\n",
    "    print(\"num is zero\")\n",
    "    \n",
    "elif num > 0 and num < 20:\n",
    "    print(\"num is between 0 and 20\")\n",
    "    \n",
    "elif num > 20 and num < 45:\n",
    "    print(\"num is between 20 and 45\")\n",
    "    \n",
    "else:\n",
    "    print(\" I don't know the number\")"
   ]
  },
  {
   "cell_type": "code",
   "execution_count": 10,
   "metadata": {
    "colab": {},
    "colab_type": "code",
    "id": "t6qGC5ilOlsC",
    "outputId": "ef9d454c-30c1-489c-8120-b2bdecb77038"
   },
   "outputs": [
    {
     "name": "stdout",
     "output_type": "stream",
     "text": [
      "enter a number pls: 90\n",
      "num is between 20 and 45\n"
     ]
    }
   ],
   "source": [
    "num = int(input(\"enter a number pls: \"))\n",
    "\n",
    "if num == 0:\n",
    "    print(\"num is zero\")\n",
    "    \n",
    "elif num > 0 and num  < 20:\n",
    "    print(\"num is between 0 and 20\")\n",
    "    \n",
    "elif num > 20 or num < 45:\n",
    "    print(\"num is between 20 and 45\")\n",
    "    \n",
    "else:\n",
    "    print(\" I don't know the number\")"
   ]
  },
  {
   "cell_type": "markdown",
   "metadata": {
    "colab_type": "text",
    "id": "R5eE1FibOlsN"
   },
   "source": [
    "# Nested If Statements"
   ]
  },
  {
   "cell_type": "code",
   "execution_count": null,
   "metadata": {
    "colab": {},
    "colab_type": "code",
    "id": "TuwNZm9zOlsZ"
   },
   "outputs": [],
   "source": [
    "if cond1:\n",
    "    execute this\n",
    "    \n",
    "    if cond_1a:\n",
    "        execute cond_1a\n",
    "    elif cond_1b:\n",
    "        execute cond_1b\n",
    "    else:\n",
    "        execute cond_1c\n",
    "        \n",
    "elif cond2:\n",
    "    execute this\n",
    "    \n",
    "     if cond_2a:\n",
    "        execute cond_2a\n",
    "    elif cond_2b:\n",
    "        execute cond_2b\n",
    "    else:\n",
    "        execute cond_2c\n",
    "    \n",
    "else:\n",
    "    execute this"
   ]
  },
  {
   "cell_type": "code",
   "execution_count": 11,
   "metadata": {
    "colab": {},
    "colab_type": "code",
    "id": "NvJNDlgxOlsd",
    "outputId": "00db4ca5-a39f-41f9-ce3b-e6aeb0cb0cac"
   },
   "outputs": [
    {
     "name": "stdout",
     "output_type": "stream",
     "text": [
      "grade of the student is: 85\n",
      "\tStudent scored a passing grade\n",
      "passed with B\n",
      "passed with a higher B-\n",
      "grade of the student is: 98\n",
      "\tStudent scored a passing grade\n",
      "\tpassed with A\n",
      "\tpassed with A+\n",
      "grade of the student is: 66\n",
      "\tStudent scored a passing grade\n",
      "grade was a D\n",
      "grade of the student is: 73\n",
      "\tStudent scored a passing grade\n",
      "passed with C\n"
     ]
    }
   ],
   "source": [
    "x = [85, 98, 66, 73]\n",
    "\n",
    "for grade in x:\n",
    "    \n",
    "    print(\"grade of the student is: \" + str(grade))\n",
    "    \n",
    "    if grade > 60:\n",
    "        print(\"\\tStudent scored a passing grade\")\n",
    "\n",
    "        if grade >= 90:\n",
    "            print(\"\\tpassed with A\")\n",
    "\n",
    "            if grade >= 96:\n",
    "                print(\"\\tpassed with A+\")\n",
    "            elif grade >= 93:\n",
    "                print(\"\\tpassed with high A-\")\n",
    "            else:\n",
    "                print(\"passed with a low A-\")\n",
    "\n",
    "        elif grade >= 80:\n",
    "            print(\"passed with B\")\n",
    "\n",
    "            if grade >= 87:\n",
    "                print(\"passed with B+\")\n",
    "            elif grade >= 84:\n",
    "                print(\"passed with a higher B-\")\n",
    "            else:\n",
    "                print(\"passed with a B-\")\n",
    "\n",
    "        elif grade >= 70:\n",
    "            print(\"passed with C\")\n",
    "        else:\n",
    "            print(\"grade was a D\")\n",
    "\n",
    "    elif grade == 60:\n",
    "        print(\"student will have to retake the exam\")\n",
    "\n",
    "    else:\n",
    "        print(\"student failed\")"
   ]
  },
  {
   "cell_type": "markdown",
   "metadata": {
    "colab_type": "text",
    "collapsed": true,
    "id": "JPySgk6wOlsj"
   },
   "source": [
    "# Exercise - If statements "
   ]
  },
  {
   "cell_type": "markdown",
   "metadata": {
    "colab_type": "text",
    "id": "bXMxHq_4SDRE"
   },
   "source": [
    "## Exercise:1 Use a for loop together with if statements to check the grade of students and what   they scored  Student scores = 98, 92, 85, 74, 61, 55, 81"
   ]
  },
  {
   "cell_type": "code",
   "execution_count": 12,
   "metadata": {
    "colab": {},
    "colab_type": "code",
    "id": "ESSo_K4mOlsu",
    "outputId": "1ce4e492-1ae2-4cb8-ea2b-ca2552eeafd7"
   },
   "outputs": [
    {
     "name": "stdout",
     "output_type": "stream",
     "text": [
      "the grade of the student is: 98\n",
      "passsed with a passing grade\n",
      " \tpassed with A\n",
      "\t\tgrade is A+\n",
      "-------------------------------\n",
      "the grade of the student is: 92\n",
      "passsed with a passing grade\n",
      " \tpassed with A\n",
      "\t\t grade is A-\n",
      "-------------------------------\n",
      "the grade of the student is: 85\n",
      "passsed with a passing grade\n",
      " \tpassed with B\n",
      "\t\tgrade is higher B-\n",
      "-------------------------------\n",
      "the grade of the student is: 89\n",
      "passsed with a passing grade\n",
      " \tpassed with B\n",
      "\t\tgrade is B+\n",
      "-------------------------------\n",
      "the grade of the student is: 74\n",
      "passsed with a passing grade\n",
      " \tpassed with C\n",
      "the grade of the student is: 61\n",
      "passsed with a passing grade\n",
      " \tpassed with D\n",
      "the grade of the student is: 55\n",
      "student has failed!\n",
      "the grade of the student is: 81\n",
      "passsed with a passing grade\n",
      " \tpassed with B\n",
      "\t\t grade is B-\n",
      "-------------------------------\n"
     ]
    }
   ],
   "source": [
    "student_scores = [98, 92, 85,89, 74, 61, 55, 81]\n",
    "\n",
    "for grade in student_scores:\n",
    "    \n",
    "    print(\"the grade of the student is: \" + str(grade))\n",
    "    \n",
    "    if grade >= 60:\n",
    "        print(\"passsed with a passing grade\")\n",
    "        \n",
    "        if grade >= 90:\n",
    "            print(\" \\tpassed with A\")\n",
    "            \n",
    "            if grade >= 97:\n",
    "                print(\"\\t\\tgrade is A+\")\n",
    "                print (\"-------------------------------\")\n",
    "            elif grade >= 93:\n",
    "                print (\"\\t\\tgrade is higher A-\")\n",
    "                print (\"-------------------------------\")\n",
    "            else:\n",
    "                print (\"\\t\\t grade is A-\")\n",
    "                print (\"-------------------------------\")\n",
    "            \n",
    "        elif grade >= 80:\n",
    "            print (\" \\tpassed with B\")\n",
    "            \n",
    "            if grade >= 87:\n",
    "                print (\"\\t\\tgrade is B+\")\n",
    "                print (\"-------------------------------\")\n",
    "            elif grade >= 83:\n",
    "                print (\"\\t\\tgrade is higher B-\")\n",
    "                print (\"-------------------------------\")\n",
    "            else:\n",
    "                print (\"\\t\\t grade is B-\")\n",
    "                print (\"-------------------------------\")\n",
    "            \n",
    "        elif grade >= 70:\n",
    "            print (\" \\tpassed with C\")\n",
    "        else:\n",
    "            print (\" \\tpassed with D\")\n",
    "        \n",
    "    \n",
    "    else:\n",
    "        print (\"student has failed!\")"
   ]
  },
  {
   "cell_type": "markdown",
   "metadata": {
    "colab_type": "text",
    "id": "Rf2QXrUtR73o"
   },
   "source": [
    "## Exercise:2 ask a user to input a number and check if the number the  user enters is -ve, 0 or positive"
   ]
  },
  {
   "cell_type": "code",
   "execution_count": 13,
   "metadata": {
    "colab": {},
    "colab_type": "code",
    "id": "CWXZcRNeOlta",
    "outputId": "233365bc-77eb-4d3e-db56-07cbd6a497fd"
   },
   "outputs": [
    {
     "name": "stdout",
     "output_type": "stream",
     "text": [
      "please enter a number: 9\n",
      "+\n"
     ]
    }
   ],
   "source": [
    "number = int(input(\"please enter a number: \"))\n",
    "\n",
    "if number > 0:\n",
    "    print (\"+\")\n",
    "elif number == 0:\n",
    "    print (\"zero\")\n",
    "else:\n",
    "    print (\"-\")"
   ]
  },
  {
   "cell_type": "code",
   "execution_count": 14,
   "metadata": {
    "colab": {},
    "colab_type": "code",
    "id": "Mshb-KbfOlte",
    "outputId": "43790666-75c1-49b6-9789-491faecfec5d"
   },
   "outputs": [
    {
     "name": "stdout",
     "output_type": "stream",
     "text": [
      "pls enter number: -9\n",
      "number is -ve\n"
     ]
    }
   ],
   "source": [
    "number = int(input(\"pls enter number: \"))\n",
    "\n",
    "if number >= 0:\n",
    "    if number == 0:\n",
    "        print (\"num is zero\")\n",
    "    \n",
    "    else:\n",
    "        print (\"number is +ve\")\n",
    "\n",
    "else:\n",
    "    print (\"number is -ve\")"
   ]
  }
 ],
 "metadata": {
  "colab": {
   "collapsed_sections": [],
   "name": "Excercise_02.ipynb",
   "provenance": [],
   "toc_visible": true
  },
  "kernelspec": {
   "display_name": "Python 3",
   "language": "python",
   "name": "python3"
  },
  "language_info": {
   "codemirror_mode": {
    "name": "ipython",
    "version": 3
   },
   "file_extension": ".py",
   "mimetype": "text/x-python",
   "name": "python",
   "nbconvert_exporter": "python",
   "pygments_lexer": "ipython3",
   "version": "3.7.4"
  }
 },
 "nbformat": 4,
 "nbformat_minor": 1
}
