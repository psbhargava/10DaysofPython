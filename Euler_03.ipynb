{
 "cells": [
  {
   "cell_type": "markdown",
   "metadata": {
    "colab_type": "text",
    "id": "dKGp89ulFl5W"
   },
   "source": [
    "# Euler 3\n",
    "The prime factors of 13195 are 5, 7, 13 and 29.\n",
    "\n",
    "What is the largest prime factor of the number 600851475143?"
   ]
  },
  {
   "cell_type": "code",
   "execution_count": 0,
   "metadata": {
    "colab": {},
    "colab_type": "code",
    "id": "DJmvmeyUFl5Z"
   },
   "outputs": [],
   "source": [
    "# Using a function to check primality\n",
    "def isPrime(n):\n",
    "    if n in [2, 3, 5, 7]:\n",
    "        return True\n",
    "    if n % 2 == 0:\n",
    "        return False\n",
    "    r = 3\n",
    "    while r * r <= n:\n",
    "        if n % r == 0:\n",
    "            return False\n",
    "        r += 2\n",
    "    return True\n",
    "  "
   ]
  },
  {
   "cell_type": "code",
   "execution_count": 0,
   "metadata": {
    "colab": {},
    "colab_type": "code",
    "id": "Eo_oevhhFl5f"
   },
   "outputs": [],
   "source": [
    "isPrime(2), isPrime(7), isPrime(781), isPrime(169)"
   ]
  },
  {
   "cell_type": "code",
   "execution_count": 0,
   "metadata": {
    "colab": {},
    "colab_type": "code",
    "id": "goYvXE4DFl5o"
   },
   "outputs": [],
   "source": [
    "N = 600851475143"
   ]
  },
  {
   "cell_type": "code",
   "execution_count": 0,
   "metadata": {
    "colab": {},
    "colab_type": "code",
    "id": "rjvZt0a-Fl5t"
   },
   "outputs": [],
   "source": [
    "def factorize(n):\n",
    "    factor = 2\n",
    "    factors = []\n",
    "    while n > 1:\n",
    "        while n % factor == 0:\n",
    "            factors.append(factor)\n",
    "            n //= factor\n",
    "        factor += 1\n",
    "    return factors"
   ]
  },
  {
   "cell_type": "code",
   "execution_count": 0,
   "metadata": {
    "colab": {},
    "colab_type": "code",
    "id": "te1o4yajpr3g"
   },
   "outputs": [],
   "source": [
    "## Using yield\n",
    "def factorize_yield(n):\n",
    "    factor = 2\n",
    "    while n > 1:\n",
    "        while n % factor == 0:\n",
    "            yield factor\n",
    "            n //= factor\n",
    "        factor += 1"
   ]
  },
  {
   "cell_type": "code",
   "execution_count": 0,
   "metadata": {
    "colab": {},
    "colab_type": "code",
    "id": "D3OhE1maFl5w"
   },
   "outputs": [],
   "source": [
    "factorize(128)"
   ]
  },
  {
   "cell_type": "code",
   "execution_count": 0,
   "metadata": {
    "colab": {},
    "colab_type": "code",
    "id": "-ut1geJfFl52"
   },
   "outputs": [],
   "source": [
    "factorize(192)"
   ]
  },
  {
   "cell_type": "code",
   "execution_count": 0,
   "metadata": {
    "colab": {},
    "colab_type": "code",
    "id": "TiESWfbHFl58"
   },
   "outputs": [],
   "source": [
    "factorize(17)"
   ]
  },
  {
   "cell_type": "code",
   "execution_count": 0,
   "metadata": {
    "colab": {},
    "colab_type": "code",
    "id": "4FisoVoQFl6B"
   },
   "outputs": [],
   "source": [
    "factorize(N)"
   ]
  },
  {
   "cell_type": "code",
   "execution_count": 0,
   "metadata": {
    "colab": {},
    "colab_type": "code",
    "id": "DQkA57RzFl6K"
   },
   "outputs": [],
   "source": [
    "max(factorize(N))"
   ]
  }
 ],
 "metadata": {
  "colab": {
   "collapsed_sections": [],
   "name": "M0_Python_Euler_03.ipynb",
   "provenance": []
  },
  "kernelspec": {
   "display_name": "Python 3",
   "language": "python",
   "name": "python3"
  },
  "language_info": {
   "codemirror_mode": {
    "name": "ipython",
    "version": 3
   },
   "file_extension": ".py",
   "mimetype": "text/x-python",
   "name": "python",
   "nbconvert_exporter": "python",
   "pygments_lexer": "ipython3",
   "version": "3.7.4"
  }
 },
 "nbformat": 4,
 "nbformat_minor": 1
}
