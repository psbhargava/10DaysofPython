{
 "cells": [
  {
   "cell_type": "code",
   "execution_count": null,
   "metadata": {
    "colab": {},
    "colab_type": "code",
    "id": "916LPkwGeRSW"
   },
   "outputs": [],
   "source": [
    " # to iterate over items or elements in a given seq like list, str, dict or tup"
   ]
  },
  {
   "cell_type": "code",
   "execution_count": 1,
   "metadata": {
    "colab": {},
    "colab_type": "code",
    "id": "_cyxUKW8eRSg"
   },
   "outputs": [],
   "source": [
    "list_num = [2,4,6,8,20]"
   ]
  },
  {
   "cell_type": "code",
   "execution_count": 4,
   "metadata": {
    "colab": {},
    "colab_type": "code",
    "id": "aZaMHwA-eRSo"
   },
   "outputs": [
    {
     "name": "stdout",
     "output_type": "stream",
     "text": [
      "2\n",
      "4\n",
      "6\n",
      "8\n",
      "20\n"
     ]
    }
   ],
   "source": [
    "for item in list_num:\n",
    "    print (item)"
   ]
  },
  {
   "cell_type": "code",
   "execution_count": 6,
   "metadata": {
    "colab": {},
    "colab_type": "code",
    "id": "Xt7eQmXieRS3",
    "outputId": "37506034-2a59-41b0-fcbe-5d164fd8518c"
   },
   "outputs": [
    {
     "name": "stdout",
     "output_type": "stream",
     "text": [
      "2\n",
      "4\n",
      "6\n",
      "8\n",
      "20\n"
     ]
    }
   ],
   "source": [
    "for numbers in list_num:\n",
    "    print (numbers)"
   ]
  },
  {
   "cell_type": "code",
   "execution_count": 7,
   "metadata": {
    "colab": {},
    "colab_type": "code",
    "id": "JjqhoI2XeRTF"
   },
   "outputs": [],
   "source": [
    "number_list = range(0,22)"
   ]
  },
  {
   "cell_type": "code",
   "execution_count": 8,
   "metadata": {
    "colab": {},
    "colab_type": "code",
    "id": "XDZJwKEheRTK",
    "outputId": "c150dd39-b0a2-49ae-8733-36779653b1ea"
   },
   "outputs": [
    {
     "name": "stdout",
     "output_type": "stream",
     "text": [
      "0\n",
      "1\n",
      "2\n",
      "3\n",
      "4\n",
      "5\n",
      "6\n"
     ]
    }
   ],
   "source": [
    "for numbers in list(range(0,7)):\n",
    "    print (numbers)"
   ]
  },
  {
   "cell_type": "code",
   "execution_count": 9,
   "metadata": {
    "colab": {},
    "colab_type": "code",
    "id": "ygKRzz5XeRTP",
    "outputId": "be44022c-68b1-498e-f263-c8e005bb9d05"
   },
   "outputs": [
    {
     "data": {
      "text/plain": [
       "range(0, 22)"
      ]
     },
     "execution_count": 9,
     "metadata": {},
     "output_type": "execute_result"
    }
   ],
   "source": [
    "number_list"
   ]
  },
  {
   "cell_type": "code",
   "execution_count": 10,
   "metadata": {
    "colab": {},
    "colab_type": "code",
    "id": "QHBWoMJQeRTW",
    "outputId": "90344c43-d377-403a-ee63-1ae417182df4"
   },
   "outputs": [
    {
     "name": "stdout",
     "output_type": "stream",
     "text": [
      "0\n",
      "1\n",
      "2\n",
      "3\n",
      "4\n",
      "5\n",
      "6\n",
      "7\n",
      "8\n",
      "9\n",
      "10\n",
      "11\n",
      "12\n",
      "13\n",
      "14\n",
      "15\n",
      "16\n",
      "17\n",
      "18\n",
      "19\n",
      "20\n",
      "21\n"
     ]
    }
   ],
   "source": [
    "for x in number_list:\n",
    "    print (x)"
   ]
  },
  {
   "cell_type": "code",
   "execution_count": 11,
   "metadata": {
    "colab": {},
    "colab_type": "code",
    "id": "fY-vJoUkeRTc",
    "outputId": "ef6c67fd-abb4-462f-83fb-bad5c65ac291"
   },
   "outputs": [
    {
     "name": "stdout",
     "output_type": "stream",
     "text": [
      "2\n",
      "div by 2 only\n",
      "5\n",
      "the num you entered is not div...\n",
      "7\n",
      "the num you entered is not div...\n",
      "9\n",
      "the num you entered is not div...\n",
      "14\n",
      "div by 2 only\n",
      "19\n",
      "the num you entered is not div...\n",
      "42\n",
      "num is div by 3 and 2\n"
     ]
    }
   ],
   "source": [
    "num_list = [2,5,7,9,14,19,42]\n",
    "\n",
    "for number in num_list:\n",
    "    if number % 2 ==0:\n",
    "        \n",
    "        if number % 3 == 0:\n",
    "            print (number)\n",
    "            print (\"num is div by 3 and 2\")\n",
    "        else:\n",
    "            print (number)\n",
    "            print ('div by 2 only')\n",
    "        \n",
    "    else:\n",
    "        print (number)\n",
    "        print (\"the num you entered is not div...\")\n"
   ]
  },
  {
   "cell_type": "code",
   "execution_count": null,
   "metadata": {
    "colab": {},
    "colab_type": "code",
    "id": "kyXwNUkqeRTp"
   },
   "outputs": [],
   "source": [
    "# 6"
   ]
  },
  {
   "cell_type": "code",
   "execution_count": 12,
   "metadata": {
    "colab": {},
    "colab_type": "code",
    "id": "VV7tBxlveRTv"
   },
   "outputs": [],
   "source": [
    "numbers = [2,3,6,8,12,15,18,22,26,11,13,25]"
   ]
  },
  {
   "cell_type": "code",
   "execution_count": null,
   "metadata": {
    "colab": {},
    "colab_type": "code",
    "id": "dHAJKinCeRT0"
   },
   "outputs": [],
   "source": [
    "# 6 2 and 3"
   ]
  },
  {
   "cell_type": "code",
   "execution_count": 13,
   "metadata": {
    "colab": {},
    "colab_type": "code",
    "id": "51SX86hTeRT6",
    "outputId": "5dc50e47-c701-4060-a558-703aa175ae5c"
   },
   "outputs": [
    {
     "name": "stdout",
     "output_type": "stream",
     "text": [
      "3\n",
      "6\n",
      "12\n",
      "15\n",
      "18\n"
     ]
    }
   ],
   "source": [
    "for num in numbers:\n",
    "    if num % 3 == 0:\n",
    "        print (num)"
   ]
  },
  {
   "cell_type": "code",
   "execution_count": null,
   "metadata": {
    "colab": {},
    "colab_type": "code",
    "id": "x4s43hWgeRT9",
    "outputId": "54e58f85-d028-4599-bf91-4e364438e458"
   },
   "outputs": [],
   "source": [
    "6%3"
   ]
  },
  {
   "cell_type": "code",
   "execution_count": null,
   "metadata": {
    "colab": {},
    "colab_type": "code",
    "id": "TojSzR5LeRUD",
    "outputId": "9a8c98f7-acec-46c1-b5a3-19d15c035b16"
   },
   "outputs": [],
   "source": [
    "5%3"
   ]
  },
  {
   "cell_type": "code",
   "execution_count": 15,
   "metadata": {
    "colab": {},
    "colab_type": "code",
    "id": "cshmb5rneRUH",
    "outputId": "18c0a49c-c4ea-4a37-dbdc-affe39225417"
   },
   "outputs": [
    {
     "name": "stdout",
     "output_type": "stream",
     "text": [
      "2\n",
      "the above number is div by 2 only\n",
      "3\n",
      "the above number is divisible by 3 only\n",
      "6\n",
      "the above number is divisible by 6\n",
      "8\n",
      "the above number is div by 2 only\n",
      "12\n",
      "the above number is divisible by 6\n",
      "15\n",
      "the above number is divisible by 3 only\n",
      "18\n",
      "the above number is divisible by 6\n",
      "22\n",
      "the above number is div by 2 only\n",
      "26\n",
      "the above number is div by 2 only\n",
      "11\n",
      "the above num is not div by both 2 and 3\n",
      "13\n",
      "the above num is not div by both 2 and 3\n",
      "25\n",
      "the above num is not div by both 2 and 3\n"
     ]
    }
   ],
   "source": [
    "numbers = [2,3,6,8,12,15,18,22,26,11,13,25]\n",
    "for num in numbers:\n",
    "    \n",
    "    if num % 2 == 0:\n",
    "        \n",
    "        if num % 3 == 0:\n",
    "            print (num)\n",
    "            print (\"the above number is divisible by 6\")\n",
    "            \n",
    "        else: \n",
    "            print (num)\n",
    "            print (\"the above number is div by 2 only\")\n",
    "            \n",
    "    else:\n",
    "        \n",
    "        if num % 3 == 0:\n",
    "            print (num)\n",
    "            print (\"the above number is divisible by 3 only\")\n",
    "            \n",
    "        else: \n",
    "            print (num)\n",
    "            print (\"the above num is not div by both 2 and 3\")"
   ]
  },
  {
   "cell_type": "code",
   "execution_count": null,
   "metadata": {
    "colab": {},
    "colab_type": "code",
    "id": "GHrlSqaIeRUQ"
   },
   "outputs": [],
   "source": [
    "items = ['item1', 'item2', 'item3', 'item4']"
   ]
  },
  {
   "cell_type": "code",
   "execution_count": null,
   "metadata": {
    "colab": {},
    "colab_type": "code",
    "id": "pS3z2fObeRUW",
    "outputId": "4945ccb3-ab03-41b4-be4b-8232fc15f78b"
   },
   "outputs": [],
   "source": [
    "for i in range(len(items)):\n",
    "    print \"item at index\", str(i) ,\"is: \", items[i]"
   ]
  },
  {
   "cell_type": "code",
   "execution_count": null,
   "metadata": {
    "colab": {},
    "colab_type": "code",
    "id": "sBdxn00QeRUc",
    "outputId": "fbbdf027-f00a-4441-9e7c-97c3a0654f24"
   },
   "outputs": [],
   "source": [
    "for i in range(len(items)):\n",
    "    print  items[i]"
   ]
  },
  {
   "cell_type": "code",
   "execution_count": null,
   "metadata": {
    "colab": {},
    "colab_type": "code",
    "id": "-ojoM5SKeRUg",
    "outputId": "73b03e3e-dde5-4ba1-fdae-a93313908f90"
   },
   "outputs": [],
   "source": [
    "items = ['item1','item2','item3','item4']\n",
    "\n",
    "number = 1\n",
    "for item in items:\n",
    "    print (number, item)\n",
    "    number = number + 1"
   ]
  },
  {
   "cell_type": "code",
   "execution_count": null,
   "metadata": {
    "colab": {},
    "colab_type": "code",
    "id": "LQOliwoceRUj",
    "outputId": "1b50615d-9cfe-42ed-9553-b600f18ef7f3"
   },
   "outputs": [],
   "source": [
    "items = ['item1','item2','item3','item4']\n",
    "\n",
    "number = 1\n",
    "for item in items:\n",
    "    print number, item\n",
    "    number = number + 1"
   ]
  },
  {
   "cell_type": "code",
   "execution_count": null,
   "metadata": {
    "colab": {},
    "colab_type": "code",
    "id": "N6YR6RyIeRUm"
   },
   "outputs": [],
   "source": [
    "string_name = 'Python is cool!'"
   ]
  },
  {
   "cell_type": "code",
   "execution_count": null,
   "metadata": {
    "colab": {},
    "colab_type": "code",
    "id": "ZASZOHaveRUr",
    "outputId": "99637090-1d52-4b8b-860f-22afdbd00593"
   },
   "outputs": [],
   "source": [
    "for characters in string_name:\n",
    "    print characters"
   ]
  },
  {
   "cell_type": "code",
   "execution_count": null,
   "metadata": {
    "colab": {},
    "colab_type": "code",
    "id": "gLbSCo6-eRUt",
    "outputId": "29a627d2-b141-4376-ae2a-21139fd5d7ab"
   },
   "outputs": [],
   "source": [
    "str_name = \"Today is a nice day to jog!\"\n",
    "\n",
    "for alp in str_name:\n",
    "    print alp"
   ]
  },
  {
   "cell_type": "code",
   "execution_count": null,
   "metadata": {
    "colab": {},
    "colab_type": "code",
    "id": "M41tl55VeRUx",
    "outputId": "fc3e38bb-5215-4015-8ee8-b2e9b7ee38ea"
   },
   "outputs": [],
   "source": [
    "for x in \"Today and tomorrow\":\n",
    "    print x"
   ]
  },
  {
   "cell_type": "code",
   "execution_count": null,
   "metadata": {
    "colab": {},
    "colab_type": "code",
    "id": "cOMSDGVZeRU3",
    "outputId": "40ff4b3e-f63b-4f16-f580-b7de1f32ad5f"
   },
   "outputs": [],
   "source": [
    "for elements in \"Python for loops\":\n",
    "    print elements"
   ]
  },
  {
   "cell_type": "code",
   "execution_count": null,
   "metadata": {
    "colab": {},
    "colab_type": "code",
    "id": "E6ucS2Q7eRVN"
   },
   "outputs": [],
   "source": [
    "items = ['item1', 'item2', 'item3', 'item4', 'item5']"
   ]
  },
  {
   "cell_type": "code",
   "execution_count": null,
   "metadata": {
    "colab": {},
    "colab_type": "code",
    "id": "6NNW3hQNeRVQ",
    "outputId": "e6947872-7195-47a7-c898-391df2a8f17e"
   },
   "outputs": [],
   "source": [
    "range(len(items))"
   ]
  },
  {
   "cell_type": "code",
   "execution_count": null,
   "metadata": {
    "colab": {},
    "colab_type": "code",
    "id": "dRjJSjdKeRVT",
    "outputId": "886f9c8e-989f-421b-e4b0-cac81049af08"
   },
   "outputs": [],
   "source": [
    "range(6)"
   ]
  },
  {
   "cell_type": "code",
   "execution_count": null,
   "metadata": {
    "colab": {},
    "colab_type": "code",
    "id": "ofgOpELweRVV",
    "outputId": "fc37dd3e-9969-4db5-ebbb-8315d5cb5d1b"
   },
   "outputs": [],
   "source": [
    "for i in range(len(items)):\n",
    "    print items[i]"
   ]
  },
  {
   "cell_type": "code",
   "execution_count": null,
   "metadata": {
    "colab": {},
    "colab_type": "code",
    "id": "hUdtfJPleRVa",
    "outputId": "26836477-2604-40a4-bfc4-08510b53e64b"
   },
   "outputs": [],
   "source": [
    "for i in range(len(items)):\n",
    "    print \"item at index\", str(i), \"is: \", items[i]"
   ]
  },
  {
   "cell_type": "code",
   "execution_count": null,
   "metadata": {
    "colab": {},
    "colab_type": "code",
    "id": "7KACyMEleRVg",
    "outputId": "3a37b8a8-1330-47fd-ba2f-1d59b10067dd"
   },
   "outputs": [],
   "source": [
    "items"
   ]
  },
  {
   "cell_type": "code",
   "execution_count": null,
   "metadata": {
    "colab": {},
    "colab_type": "code",
    "id": "MKPD4XMzeRVj",
    "outputId": "2fa83cdd-0e61-4e8e-8e39-3b0e9a3e6027"
   },
   "outputs": [],
   "source": [
    "number = 0\n",
    "for item in items:\n",
    "    print (number, item)\n",
    "    number = number + 1"
   ]
  },
  {
   "cell_type": "code",
   "execution_count": null,
   "metadata": {
    "colab": {},
    "colab_type": "code",
    "id": "eHDGT9IveRVp"
   },
   "outputs": [],
   "source": [
    "name = \"Michael\""
   ]
  },
  {
   "cell_type": "code",
   "execution_count": null,
   "metadata": {
    "colab": {},
    "colab_type": "code",
    "id": "rUmKNKDZeRVu",
    "outputId": "d20af006-8329-4b1c-81c9-d05f254ed86a"
   },
   "outputs": [],
   "source": [
    "for characters in name:\n",
    "    print characters"
   ]
  },
  {
   "cell_type": "code",
   "execution_count": null,
   "metadata": {
    "colab": {},
    "colab_type": "code",
    "id": "eLhk9m-UeRVw",
    "outputId": "6191102d-749d-463c-fb83-608672ed4c36"
   },
   "outputs": [],
   "source": [
    "for alphabets in name:\n",
    "    print alphabets"
   ]
  },
  {
   "cell_type": "code",
   "execution_count": null,
   "metadata": {
    "colab": {},
    "colab_type": "code",
    "id": "Md3kpInyeRV0",
    "outputId": "af14b435-6570-4cf8-dd0a-918bc4a594cd"
   },
   "outputs": [],
   "source": [
    "for i in name:\n",
    "    print i"
   ]
  },
  {
   "cell_type": "code",
   "execution_count": null,
   "metadata": {
    "colab": {},
    "colab_type": "code",
    "id": "h7kHHkQveRV3"
   },
   "outputs": [],
   "source": [
    "string_name = \"Today is a great day to jog!\""
   ]
  },
  {
   "cell_type": "code",
   "execution_count": null,
   "metadata": {
    "colab": {},
    "colab_type": "code",
    "id": "-48V5sBeeRV6",
    "outputId": "294b3222-f249-49d4-ef43-2cb1ce69a404"
   },
   "outputs": [],
   "source": [
    "for charx in string_name:\n",
    "    print charx"
   ]
  },
  {
   "cell_type": "code",
   "execution_count": null,
   "metadata": {
    "colab": {},
    "colab_type": "code",
    "id": "S3i5OB0OeRV9",
    "outputId": "2c7777f7-196d-4a0a-b3f9-e66e5196fdf1"
   },
   "outputs": [],
   "source": [
    "for elem in \"today is cold\":\n",
    "    print elem"
   ]
  },
  {
   "cell_type": "code",
   "execution_count": null,
   "metadata": {
    "colab": {},
    "colab_type": "code",
    "id": "6j4pwW-OeRV_",
    "outputId": "7ae7ad50-d95c-4508-d837-8429c8d01730"
   },
   "outputs": [],
   "source": [
    "for name in \"Michael\":\n",
    "    print name"
   ]
  }
 ],
 "metadata": {
  "colab": {
   "collapsed_sections": [],
   "name": "For_Loops.ipynb",
   "provenance": [],
   "toc_visible": true
  },
  "kernelspec": {
   "display_name": "Python 3",
   "language": "python",
   "name": "python3"
  },
  "language_info": {
   "codemirror_mode": {
    "name": "ipython",
    "version": 3
   },
   "file_extension": ".py",
   "mimetype": "text/x-python",
   "name": "python",
   "nbconvert_exporter": "python",
   "pygments_lexer": "ipython3",
   "version": "3.7.4"
  }
 },
 "nbformat": 4,
 "nbformat_minor": 1
}
