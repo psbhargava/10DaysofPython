{
 "cells": [
  {
   "cell_type": "markdown",
   "metadata": {},
   "source": [
    "    1.A game on guessing a number between 1 to 20\n",
    "    2.Ask the player to guess 7 times\n",
    "    3.Give the player a clue if his/her guess is too low or too high\n",
    "    4.If the player guesses right, tell the player they gussed it right in  n number of guesses\n",
    "    5.If the player runs out of guesses, tell them the number you thought of initially"
   ]
  },
  {
   "cell_type": "code",
   "execution_count": null,
   "metadata": {},
   "outputs": [],
   "source": [
    "import random"
   ]
  },
  {
   "cell_type": "code",
   "execution_count": null,
   "metadata": {},
   "outputs": [],
   "source": [
    "guessesTaken = 0\n",
    "secretNumber = random.randint(1,20)\n",
    "print(\"Hey, I'm thinking of a number between 1 and 20  \")\n",
    "for guessesTaken in range(1,8):\n",
    "    guess = int(input(\"Taken a Guess  \"))\n",
    "\n",
    "    if guess < secretNumber:\n",
    "        print(\"Youre guess is too low   \")\n",
    "        \n",
    "    elif guess > secretNumber:\n",
    "          print(\"Youre guess is too high   \")\n",
    "            \n",
    "    else:\n",
    "        break\n",
    "        \n",
    "if guess == secretNumber:\n",
    "    print(\"Awesome ! You have guessed my number in   \" + str(guessesTaken) +  \"    guesses   \")\n",
    "else:\n",
    "        print(\"Nope ! Game is Over. The number I was thinking of was   \" + str(secretNumber))"
   ]
  },
  {
   "cell_type": "code",
   "execution_count": null,
   "metadata": {},
   "outputs": [],
   "source": []
  }
 ],
 "metadata": {
  "kernelspec": {
   "display_name": "Python 3",
   "language": "python",
   "name": "python3"
  },
  "language_info": {
   "codemirror_mode": {
    "name": "ipython",
    "version": 3
   },
   "file_extension": ".py",
   "mimetype": "text/x-python",
   "name": "python",
   "nbconvert_exporter": "python",
   "pygments_lexer": "ipython3",
   "version": "3.7.4"
  }
 },
 "nbformat": 4,
 "nbformat_minor": 2
}
